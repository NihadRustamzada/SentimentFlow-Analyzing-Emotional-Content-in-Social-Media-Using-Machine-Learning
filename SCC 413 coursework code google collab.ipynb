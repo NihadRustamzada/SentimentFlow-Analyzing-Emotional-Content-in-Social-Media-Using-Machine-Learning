{
  "cells": [
    {
      "cell_type": "markdown",
      "metadata": {
        "id": "KByT9Pgae5yS"
      },
      "source": [
        "https://www.kaggle.com/datasets/nelgiriyewithana/emotions/data"
      ]
    },
    {
      "cell_type": "code",
      "execution_count": 1,
      "metadata": {
        "colab": {
          "base_uri": "https://localhost:8080/"
        },
        "id": "aSQVhne5UWeS",
        "outputId": "e5338f53-0f4a-436e-9482-c717701f574c"
      },
      "outputs": [
        {
          "output_type": "stream",
          "name": "stdout",
          "text": [
            "Mounted at /content/drive\n"
          ]
        }
      ],
      "source": [
        "from google.colab import drive\n",
        "drive.mount('/content/drive')"
      ]
    },
    {
      "cell_type": "code",
      "execution_count": 2,
      "metadata": {
        "colab": {
          "base_uri": "https://localhost:8080/"
        },
        "id": "HdkVRvgXediW",
        "outputId": "9b4dea79-fe7e-49f2-f600-01421b4fd383"
      },
      "outputs": [
        {
          "output_type": "stream",
          "name": "stderr",
          "text": [
            "[nltk_data] Downloading package stopwords to /root/nltk_data...\n",
            "[nltk_data]   Unzipping corpora/stopwords.zip.\n"
          ]
        },
        {
          "output_type": "execute_result",
          "data": {
            "text/plain": [
              "True"
            ]
          },
          "metadata": {},
          "execution_count": 2
        }
      ],
      "source": [
        "#modules and libraries here\n",
        "import pandas as pd\n",
        "import numpy as np\n",
        "import re\n",
        "from nltk.tokenize import TweetTokenizer\n",
        "from nltk.corpus import stopwords\n",
        "import nltk\n",
        "nltk.download('stopwords')"
      ]
    },
    {
      "cell_type": "code",
      "execution_count": 3,
      "metadata": {
        "colab": {
          "base_uri": "https://localhost:8080/"
        },
        "id": "14cZxmhidroQ",
        "outputId": "c9db6b33-ca2c-4a35-b7d1-11becdfd333e"
      },
      "outputs": [
        {
          "output_type": "stream",
          "name": "stdout",
          "text": [
            "        Unnamed: 0                                               text  label\n",
            "36130        36130  id say maybe made them feel foolish but that w...      0\n",
            "138065      138065  i joined the lds church i admit to feeling som...      0\n",
            "146440      146440  i must admit i didnt feel like hugging him not...      3\n",
            "103337      103337  i hate that i can still feel if any nerve is d...      0\n",
            "315528      315528                  im actually feeling a little smug      1\n"
          ]
        }
      ],
      "source": [
        "#file path and loading the dataset\n",
        "file_path = '/content/drive/My Drive/text.csv'\n",
        "emo_data = pd.read_csv(file_path)\n",
        "#Sample 10,000 entries from the dataset because it will be computationally\n",
        "#intensive to work with such large data (more than 400.000)\n",
        "emo_data = emo_data.sample(n=10000, random_state=42)  # Use a fixed seed for reproducibility\n",
        "#first few rows to be re-assured it's loaded and sampled correctly\n",
        "print(emo_data.head())"
      ]
    },
    {
      "cell_type": "code",
      "execution_count": 4,
      "metadata": {
        "colab": {
          "base_uri": "https://localhost:8080/"
        },
        "id": "jv0cJIP9eE8c",
        "outputId": "084d6fc0-02ca-4977-d401-634fede46c8e"
      },
      "outputs": [
        {
          "output_type": "stream",
          "name": "stdout",
          "text": [
            "Dataset shape: (10000, 3)\n",
            "<class 'pandas.core.frame.DataFrame'>\n",
            "Index: 10000 entries, 36130 to 282137\n",
            "Data columns (total 3 columns):\n",
            " #   Column      Non-Null Count  Dtype \n",
            "---  ------      --------------  ----- \n",
            " 0   Unnamed: 0  10000 non-null  int64 \n",
            " 1   text        10000 non-null  object\n",
            " 2   label       10000 non-null  int64 \n",
            "dtypes: int64(2), object(1)\n",
            "memory usage: 312.5+ KB\n",
            "Missing values in each column:\n",
            " Unnamed: 0    0\n",
            "text          0\n",
            "label         0\n",
            "dtype: int64\n"
          ]
        }
      ],
      "source": [
        "#let's the shape of the dataset to understand the scale\n",
        "#of the data I am working with, so that I can plan\n",
        "#how to handle the dataset in subsequent data processing and analysis tasks.\n",
        "print(\"Dataset shape:\", emo_data.shape)\n",
        "#summary of the dataframe as it helps I quickly identify columns that might\n",
        "#need type conversion (for example, converting dates stored as strings to datetime\n",
        "#objects) and spot columns with missing data.\n",
        "emo_data.info()\n",
        "#Any missing values?\n",
        "print(\"Missing values in each column:\\n\", emo_data.isnull().sum())"
      ]
    },
    {
      "cell_type": "markdown",
      "metadata": {
        "id": "pShP6oP5ebU7"
      },
      "source": [
        "**Data Pre-processing**\n",
        "Now, firstly, let's focus on data cleaning to improve model performance and achieve accurate analysis. Noisy data can lead models to \"memorize\" irrelevant patterns specific to my training set, negatively impacting their performance on new tweets.) Also, we want to achieve accurate analysis through unbiased interpretations and Identifying true linguistic patterns. It's because inconsistent data can affect results so that it can skew emotions toward or away from some emotions. Cleaning data can help in this case. Besides, cleaning data can help to identify true linguistic patterns such that our analysis will be truer representative of people's emotions in tweets.\n"
      ]
    },
    {
      "cell_type": "code",
      "execution_count": 5,
      "metadata": {
        "id": "Nk9dsaKJeN1o"
      },
      "outputs": [],
      "source": [
        "#cleaning data\n",
        "def clean_text(text):\n",
        "    #removing URLs\n",
        "    text = re.sub(r'http\\S+|www\\S+|https\\S+', '', text, flags=re.MULTILINE)\n",
        "    #removing user mentions\n",
        "    text = re.sub(r'@\\w+', '', text)\n",
        "    #hashtags (but keeping the text)\n",
        "    text = re.sub(r'#', '', text)\n",
        "    #special characters and numbers\n",
        "    text = re.sub(r'\\W', ' ', text)\n",
        "    #numbers\n",
        "    text = re.sub(r'\\d+', '', text)\n",
        "    #extra spaces\n",
        "    text = re.sub(r'\\s+', ' ', text).strip()\n",
        "    #Converting to lowercase\n",
        "    text = text.lower()\n",
        "    return text"
      ]
    },
    {
      "cell_type": "markdown",
      "source": [
        "The clean_text function I've developed is tailored for preprocessing text data from tweets, particularly useful for tasks such as sentiment or emotion classification. Initially, the function strips out URLs and Twitter-specific elements like user mentions and the '#' symbol from hashtags, retaining only the textual content. These components are generally irrelevant for analyzing the emotional content of the text.\n",
        "\n",
        "Following this, the function removes all special characters, numbers, and extra spaces, which helps in cleaning up the text by eliminating unnecessary punctuation and numerical data that do not contribute to sentiment analysis. This is done through a series of regular expressions that substitute non-word characters and digits with spaces or remove them entirely, and also consolidate multiple whitespace into single spaces. Additionally, all text is converted to lowercase to ensure consistency, as the case of letters can affect the processing in NLP tasks.\n",
        "\n",
        "By performing these cleaning steps, the function prepares the tweet text for further analysis by making it more uniform and focused on meaningful words only. This preprocessing is crucial as clean and standardized data often leads to more accurate classifications in machine learning models."
      ],
      "metadata": {
        "id": "D_-YYn9eEO-X"
      }
    },
    {
      "cell_type": "code",
      "source": [
        "!pip install contractions"
      ],
      "metadata": {
        "colab": {
          "base_uri": "https://localhost:8080/"
        },
        "id": "jn51t5atnlaY",
        "outputId": "e2eaa2e8-d284-4fa7-ca0e-2d84385ad88e"
      },
      "execution_count": 6,
      "outputs": [
        {
          "output_type": "stream",
          "name": "stdout",
          "text": [
            "Collecting contractions\n",
            "  Downloading contractions-0.1.73-py2.py3-none-any.whl (8.7 kB)\n",
            "Collecting textsearch>=0.0.21 (from contractions)\n",
            "  Downloading textsearch-0.0.24-py2.py3-none-any.whl (7.6 kB)\n",
            "Collecting anyascii (from textsearch>=0.0.21->contractions)\n",
            "  Downloading anyascii-0.3.2-py3-none-any.whl (289 kB)\n",
            "\u001b[2K     \u001b[90m━━━━━━━━━━━━━━━━━━━━━━━━━━━━━━━━━━━━━━━━\u001b[0m \u001b[32m289.9/289.9 kB\u001b[0m \u001b[31m5.0 MB/s\u001b[0m eta \u001b[36m0:00:00\u001b[0m\n",
            "\u001b[?25hCollecting pyahocorasick (from textsearch>=0.0.21->contractions)\n",
            "  Downloading pyahocorasick-2.1.0-cp310-cp310-manylinux_2_5_x86_64.manylinux1_x86_64.manylinux_2_12_x86_64.manylinux2010_x86_64.whl (110 kB)\n",
            "\u001b[2K     \u001b[90m━━━━━━━━━━━━━━━━━━━━━━━━━━━━━━━━━━━━━━━━\u001b[0m \u001b[32m110.7/110.7 kB\u001b[0m \u001b[31m16.6 MB/s\u001b[0m eta \u001b[36m0:00:00\u001b[0m\n",
            "\u001b[?25hInstalling collected packages: pyahocorasick, anyascii, textsearch, contractions\n",
            "Successfully installed anyascii-0.3.2 contractions-0.1.73 pyahocorasick-2.1.0 textsearch-0.0.24\n"
          ]
        }
      ]
    },
    {
      "cell_type": "code",
      "source": [
        "import contractions\n",
        "#function for expanding contractions\n",
        "def expand_text(text):\n",
        "    expanded_text = contractions.fix(text)\n",
        "    return expanded_text\n",
        "emo_data['cleaned_text'] = emo_data['text'].apply(clean_text)\n",
        "emo_data['expanded_text'] = emo_data['cleaned_text'].apply(expand_text)\n",
        "print(emo_data[['text', 'cleaned_text', 'expanded_text']].head())\n"
      ],
      "metadata": {
        "colab": {
          "base_uri": "https://localhost:8080/"
        },
        "id": "wOeDONnXnfcO",
        "outputId": "8d847b6f-3cd2-4755-bd4b-425ce1ec4cd2"
      },
      "execution_count": 7,
      "outputs": [
        {
          "output_type": "stream",
          "name": "stdout",
          "text": [
            "                                                     text  \\\n",
            "36130   id say maybe made them feel foolish but that w...   \n",
            "138065  i joined the lds church i admit to feeling som...   \n",
            "146440  i must admit i didnt feel like hugging him not...   \n",
            "103337  i hate that i can still feel if any nerve is d...   \n",
            "315528                  im actually feeling a little smug   \n",
            "\n",
            "                                             cleaned_text  \\\n",
            "36130   id say maybe made them feel foolish but that w...   \n",
            "138065  i joined the lds church i admit to feeling som...   \n",
            "146440  i must admit i didnt feel like hugging him not...   \n",
            "103337  i hate that i can still feel if any nerve is d...   \n",
            "315528                  im actually feeling a little smug   \n",
            "\n",
            "                                            expanded_text  \n",
            "36130   id say maybe made them feel foolish but that w...  \n",
            "138065  i joined the lds church i admit to feeling som...  \n",
            "146440  i must admit i did not feel like hugging him n...  \n",
            "103337  i hate that i can still feel if any nerve is d...  \n",
            "315528                i am actually feeling a little smug  \n"
          ]
        }
      ]
    },
    {
      "cell_type": "markdown",
      "source": [
        " first I import the contractions module which is essential for expanding contractions in text, making it clearer for analysis. For example, it transforms \"can't\" to \"cannot\" which is useful in text preprocessing for NLP tasks. I then define a function expand_text that applies this module to any given text, standardizing contractions throughout the dataset.\n",
        "\n",
        "Next, I apply two preprocessing steps to my data stored in the emo_data DataFrame. Initially, I use the clean_text function to remove URLs, user mentions, hashtags, special characters, numbers, and extra spaces, and I convert all text to lowercase. The cleaned text is stored in a new column cleaned_text. Afterwards, I use the expand_text function on the cleaned_text column to expand any contractions, storing the results in another new column expanded_text.\n",
        "\n",
        "Finally, I print the first few rows of the original text along with their cleaned and expanded versions to verify the transformations. This approach ensures that the text data is thoroughly preprocessed, removing irrelevant characters and standardizing the format before any further analysis like emotion classification. This makes the dataset more uniform and potentially enhances the performance of NLP models."
      ],
      "metadata": {
        "id": "wmR0423fp1Rq"
      }
    },
    {
      "cell_type": "code",
      "source": [
        "#customized it because library did not help with contraction handling\n",
        "contraction_mapping = {\n",
        "    \"can't\": \"cannot\",\n",
        "    \"won't\": \"will not\",\n",
        "    \"i'd've\": \"i would have\",\n",
        "    \"i'd\": \"i would\",\n",
        "    \"you're\": \"you are\",\n",
        "    \"she's\": \"she is\",\n",
        "    \"it's\": \"it is\",\n",
        "    \"didn't\": \"did not\",\n",
        "    \"we've\": \"we have\",\n",
        "    \"isn't\": \"is not\",\n",
        "    \"aren't\": \"are not\",\n",
        "    \"wasn't\": \"was not\",\n",
        "    \"weren't\": \"were not\",\n",
        "    \"haven't\": \"have not\",\n",
        "    \"hasn't\": \"has not\",\n",
        "    \"hadn't\": \"had not\",\n",
        "    \"won't\": \"will not\",\n",
        "    \"wouldn't\": \"would not\",\n",
        "    \"don't\": \"do not\",\n",
        "    \"doesn't\": \"does not\",\n",
        "    \"shouldn't\": \"should not\",\n",
        "    \"mightn't\": \"might not\",\n",
        "    \"mustn't\": \"must not\",\n",
        "    \"could've\": \"could have\",\n",
        "    \"would've\": \"would have\",\n",
        "    \"might've\": \"might have\",\n",
        "    \"must've\": \"must have\",\n",
        "    \"how's\": \"how is\",\n",
        "    \"what's\": \"what is\",\n",
        "    \"where's\": \"where is\",\n",
        "    \"who's\": \"who is\",\n",
        "    \"when's\": \"when is\",\n",
        "    \"why's\": \"why is\",\n",
        "    \"let's\": \"let us\",\n",
        "    \"y'all\": \"you all\",\n",
        "    \"y'know\": \"you know\",\n",
        "    \"gonna\": \"going to\",\n",
        "    \"gotta\": \"got to\",\n",
        "    \"wanna\": \"want to\",\n",
        "    \"ain't\": \"is not\",\n",
        "    \"that'll\": \"that will\",\n",
        "    \"there's\": \"there is\",\n",
        "    \"there're\": \"there are\",\n",
        "    \"here's\": \"here is\"\n",
        "}\n"
      ],
      "metadata": {
        "id": "t-HEXw40pmpZ"
      },
      "execution_count": 8,
      "outputs": []
    },
    {
      "cell_type": "code",
      "source": [
        "import re\n",
        "def expand_contractions(text, contraction_dict):\n",
        "    #regular expression pattern for finding contractions\n",
        "    contractions_pattern = re.compile('({})'.format('|'.join(contraction_dict.keys())), flags=re.IGNORECASE)\n",
        "    def expand_match(contraction):\n",
        "        match = contraction.group(0)\n",
        "        first_char = match[0]\n",
        "        #now retrieving the correct expanded form from the dictionary\n",
        "        expanded_contraction = contraction_dict.get(match.lower() if contraction_dict.get(match.lower()) else match.lower())\n",
        "        expanded_contraction = first_char+expanded_contraction[1:]\n",
        "        return expanded_contraction\n",
        "    expanded_text = contractions_pattern.sub(expand_match, text)\n",
        "    return expanded_text"
      ],
      "metadata": {
        "id": "YHryVT5YqKaR"
      },
      "execution_count": 9,
      "outputs": []
    },
    {
      "cell_type": "code",
      "source": [
        "#let's see whether our function works\n",
        "texts = [\n",
        "    \"I'd've liked to see that\",\n",
        "    \"You're going to need to run faster\",\n",
        "    \"He can't join us\",\n",
        "]\n",
        "\n",
        "for text in texts:\n",
        "    print(f\"Original: {text}\")\n",
        "    print(f\"Expanded: {expand_contractions(text, contraction_mapping)}\\n\")"
      ],
      "metadata": {
        "colab": {
          "base_uri": "https://localhost:8080/"
        },
        "id": "DWHfBtDrqTTi",
        "outputId": "98d0d127-1bed-4c75-b1c7-bbc5b0b74f2d"
      },
      "execution_count": 10,
      "outputs": [
        {
          "output_type": "stream",
          "name": "stdout",
          "text": [
            "Original: I'd've liked to see that\n",
            "Expanded: I would have liked to see that\n",
            "\n",
            "Original: You're going to need to run faster\n",
            "Expanded: You are going to need to run faster\n",
            "\n",
            "Original: He can't join us\n",
            "Expanded: He cannot join us\n",
            "\n"
          ]
        }
      ]
    },
    {
      "cell_type": "markdown",
      "source": [
        "function is correctly expanding contractions, now it is time to apply it to my DataFrame:"
      ],
      "metadata": {
        "id": "--_KP_ACqZor"
      }
    },
    {
      "cell_type": "code",
      "source": [
        "emo_data['expanded_text'] = emo_data['cleaned_text'].apply(lambda x: expand_contractions(x, contraction_mapping))\n",
        "\n",
        "# Check the first few entries to verify the changes\n",
        "print(emo_data[['cleaned_text', 'expanded_text']].head())"
      ],
      "metadata": {
        "colab": {
          "base_uri": "https://localhost:8080/"
        },
        "id": "N_Jvh8jGqgmV",
        "outputId": "35a110fc-3ca8-4acf-8124-a18e144d12dd"
      },
      "execution_count": 11,
      "outputs": [
        {
          "output_type": "stream",
          "name": "stdout",
          "text": [
            "                                             cleaned_text  \\\n",
            "36130   id say maybe made them feel foolish but that w...   \n",
            "138065  i joined the lds church i admit to feeling som...   \n",
            "146440  i must admit i didnt feel like hugging him not...   \n",
            "103337  i hate that i can still feel if any nerve is d...   \n",
            "315528                  im actually feeling a little smug   \n",
            "\n",
            "                                            expanded_text  \n",
            "36130   id say maybe made them feel foolish but that w...  \n",
            "138065  i joined the lds church i admit to feeling som...  \n",
            "146440  i must admit i didnt feel like hugging him not...  \n",
            "103337  i hate that i can still feel if any nerve is d...  \n",
            "315528                  im actually feeling a little smug  \n"
          ]
        }
      ]
    },
    {
      "cell_type": "markdown",
      "source": [
        "Now problem is clear, because those contractions in my text are using\n",
        "non-standard characters such as typographic (curly) apostrophes or if they're missing apostrophes altogether, that would indeed prevent the contraction expansion dictionary from matching and replacing them correctly."
      ],
      "metadata": {
        "id": "8nUz6tsUrOOv"
      }
    },
    {
      "cell_type": "code",
      "source": [
        "# Existing contraction dictionary with standard contractions\n",
        "contraction_mapping = {\n",
        "    \"can't\": \"cannot\",\n",
        "    \"won't\": \"will not\",\n",
        "    \"i'd've\": \"i would have\",\n",
        "    \"i'd\": \"i would\",\n",
        "    \"you're\": \"you are\",\n",
        "    \"she's\": \"she is\",\n",
        "    \"it's\": \"it is\",\n",
        "    \"didn't\": \"did not\",\n",
        "    \"we've\": \"we have\",\n",
        "    \"isn't\": \"is not\",\n",
        "    \"aren't\": \"are not\",\n",
        "    \"wasn't\": \"was not\",\n",
        "    \"weren't\": \"were not\",\n",
        "    \"haven't\": \"have not\",\n",
        "    \"hasn't\": \"has not\",\n",
        "    \"hadn't\": \"had not\",\n",
        "    \"won't\": \"will not\",\n",
        "    \"wouldn't\": \"would not\",\n",
        "    \"don't\": \"do not\",\n",
        "    \"doesn't\": \"does not\",\n",
        "    \"shouldn't\": \"should not\",\n",
        "    \"mightn't\": \"might not\",\n",
        "    \"mustn't\": \"must not\",\n",
        "    \"could've\": \"could have\",\n",
        "    \"would've\": \"would have\",\n",
        "    \"might've\": \"might have\",\n",
        "    \"must've\": \"must have\",\n",
        "    \"how's\": \"how is\",\n",
        "    \"what's\": \"what is\",\n",
        "    \"where's\": \"where is\",\n",
        "    \"who's\": \"who is\",\n",
        "    \"when's\": \"when is\",\n",
        "    \"why's\": \"why is\",\n",
        "    \"let's\": \"let us\",\n",
        "    \"y'all\": \"you all\",\n",
        "    \"y'know\": \"you know\",\n",
        "    \"gonna\": \"going to\",\n",
        "    \"gotta\": \"got to\",\n",
        "    \"wanna\": \"want to\",\n",
        "    \"ain't\": \"is not\",\n",
        "    \"that'll\": \"that will\",\n",
        "    \"there's\": \"there is\",\n",
        "    \"there're\": \"there are\",\n",
        "    \"here's\": \"here is\"\n",
        "}\n",
        "\n",
        "#New entries without apostrophes, i will merge these two at the end\n",
        "new_contractions = {\n",
        "    \"cant\": \"cannot\",\n",
        "    \"wont\": \"will not\",\n",
        "    \"idve\": \"i would have\",\n",
        "    \"id\": \"i would\",\n",
        "    \"youre\": \"you are\",\n",
        "    \"shes\": \"she is\",\n",
        "    \"its\": \"it is\",\n",
        "    \"didnt\": \"did not\",\n",
        "    \"weve\": \"we have\",\n",
        "    \"isnt\": \"is not\",\n",
        "    \"arent\": \"are not\",\n",
        "    \"wasnt\": \"was not\",\n",
        "    \"werent\": \"were not\",\n",
        "    \"havent\": \"have not\",\n",
        "    \"hasnt\": \"has not\",\n",
        "    \"hadnt\": \"had not\",\n",
        "    \"wouldnt\": \"would not\",\n",
        "    \"dont\": \"do not\",\n",
        "    \"doesnt\": \"does not\",\n",
        "    \"shouldnt\": \"should not\",\n",
        "    \"mightnt\": \"might not\",\n",
        "    \"mustnt\": \"must not\",\n",
        "    \"couldve\": \"could have\",\n",
        "    \"wouldve\": \"would have\",\n",
        "    \"mightve\": \"might have\",\n",
        "    \"mustve\": \"must have\",\n",
        "    \"hows\": \"how is\",\n",
        "    \"whats\": \"what is\",\n",
        "    \"wheres\": \"where is\",\n",
        "    \"whos\": \"who is\",\n",
        "    \"whens\": \"when is\",\n",
        "    \"whys\": \"why is\",\n",
        "    \"lets\": \"let us\",\n",
        "    \"yall\": \"you all\",\n",
        "    \"yknow\": \"you know\",\n",
        "    \"gonna\": \"going to\",\n",
        "    \"gotta\": \"got to\",\n",
        "    \"wanna\": \"want to\",\n",
        "    \"aint\": \"is not\",\n",
        "    \"thatll\": \"that will\",\n",
        "    \"theres\": \"there is\",\n",
        "    \"therere\": \"there are\",\n",
        "    \"heres\": \"here is\"\n",
        "}\n",
        "\n",
        "#updating the existing dictionary with new entries, aka merging these two\n",
        "contraction_mapping.update(new_contractions)\n",
        "\n",
        "#now dictionary is comprehensive and can handle both versions of contractions"
      ],
      "metadata": {
        "id": "uQrYvGaCuWtN"
      },
      "execution_count": 12,
      "outputs": []
    },
    {
      "cell_type": "code",
      "source": [
        "emo_data['expanded_text'] = emo_data['cleaned_text'].apply(lambda x: expand_contractions(x, contraction_mapping))\n",
        "#the output\n",
        "print(emo_data[['cleaned_text', 'expanded_text']].head())"
      ],
      "metadata": {
        "colab": {
          "base_uri": "https://localhost:8080/"
        },
        "id": "jZenMLadsWYx",
        "outputId": "5f279f34-41b5-446e-81c3-bc81e54225b0"
      },
      "execution_count": 13,
      "outputs": [
        {
          "output_type": "stream",
          "name": "stdout",
          "text": [
            "                                             cleaned_text  \\\n",
            "36130   id say maybe made them feel foolish but that w...   \n",
            "138065  i joined the lds church i admit to feeling som...   \n",
            "146440  i must admit i didnt feel like hugging him not...   \n",
            "103337  i hate that i can still feel if any nerve is d...   \n",
            "315528                  im actually feeling a little smug   \n",
            "\n",
            "                                            expanded_text  \n",
            "36130   i would say maybe made them feel foolish but t...  \n",
            "138065  i joined the lds church i admit to feeling som...  \n",
            "146440  i must admit i did not feel like hugging him n...  \n",
            "103337  i hate that i can still feel if any nerve is d...  \n",
            "315528                  im actually feeling a little smug  \n"
          ]
        }
      ]
    },
    {
      "cell_type": "markdown",
      "source": [
        "To address the issue of non-standard characters such as typographic (curly) apostrophes or missing apostrophes in contractions, which can impede the proper expansion of contractions using standard libraries, I've implemented a custom approach:\n",
        "\n",
        "I've defined a function named expand_contractions that includes a custom dictionary contraction_mapping tailored to handle various forms of contractions and typographic inconsistencies. This function is designed to recognize and expand contractions that may not be in the standard form expected by typical libraries like the contractions module. I then apply this custom function to each entry in the cleaned_text column of my emo_data DataFrame. This is done using a lambda function which passes each text entry to expand_contractions along with the predefined contraction_mapping. This ensures that all possible contractions, even those with non-standard characters, are expanded consistently.\n",
        "\n",
        "After applying the function, I print the first few rows of both the cleaned_text and the newly created expanded_text columns using print(emo_data[['cleaned_text', 'expanded_text']].head()). This step allows me to check and ensure that the contractions were expanded correctly, offering a clear comparison between the original and processed text.\n",
        "This approach is very effective in handling texts with varied typographic characters, making sure that my text preprocessing is robust and accommodates data from diverse sources, which is crucial for maintaining accuracy in further text analysis or machine learning tasks."
      ],
      "metadata": {
        "id": "X3yJTe6TF6pT"
      }
    },
    {
      "cell_type": "markdown",
      "metadata": {
        "id": "LPsUcee_U6rE"
      },
      "source": [
        "**why handling contractions more thoroughly is beneficial for my sentiment analysis project:**\n",
        "\n",
        "\n",
        "1. Contractions like \"don't\" and \"can't\" are essentially the same word (\"do not\", \"cannot\") with emotional valence, but split into two tokens.\n",
        "By expanding these contractions, I ensure my machine learning models treat these word forms as the same feature, leading to more accurate learning.\n",
        "\n",
        "If I don't expand contractions, my stop word removal might miss parts of them. For instance, after tokenizing \"I'm\", I have \"I\" and \"m\", with \"I\" remaining as a stop word.\n",
        "Expanding the contraction first allows me to remove the full form cleanly.\n",
        "\n",
        "If I have many variations of contractions (\"haven't\", \"hasn't\", \"hadn't\"), each one becomes a less frequent feature.\n",
        "Expanding them consolidates the occurrences, making it easier for the machine learning model to recognize patterns."
      ]
    },
    {
      "cell_type": "code",
      "source": [
        "import nltk\n",
        "from nltk.tokenize import word_tokenize\n",
        "nltk.download('punkt')"
      ],
      "metadata": {
        "colab": {
          "base_uri": "https://localhost:8080/"
        },
        "id": "wZwASc-sueTu",
        "outputId": "f9dfbd97-6898-43bd-e640-a068f1ec2fa0"
      },
      "execution_count": 14,
      "outputs": [
        {
          "output_type": "stream",
          "name": "stderr",
          "text": [
            "[nltk_data] Downloading package punkt to /root/nltk_data...\n",
            "[nltk_data]   Unzipping tokenizers/punkt.zip.\n"
          ]
        },
        {
          "output_type": "execute_result",
          "data": {
            "text/plain": [
              "True"
            ]
          },
          "metadata": {},
          "execution_count": 14
        }
      ]
    },
    {
      "cell_type": "code",
      "source": [
        "#Tokenization function\n",
        "def tokenize_text(text):\n",
        "    tokens = word_tokenize(text)\n",
        "    return tokens\n",
        "#'expanded_text' is ready after contraction expansion\n",
        "if 'expanded_text' in emo_data.columns:\n",
        "    emo_data['tokens'] = emo_data['expanded_text'].apply(tokenize_text)\n",
        "    print(emo_data[['expanded_text', 'tokens']].head())\n",
        "else:\n",
        "    print(\"The expected column does not exist in the DataFrame.\")"
      ],
      "metadata": {
        "colab": {
          "base_uri": "https://localhost:8080/"
        },
        "id": "R63Ca7zv0Tz-",
        "outputId": "db0e9d56-360d-42df-b97d-23a01b439f11"
      },
      "execution_count": 15,
      "outputs": [
        {
          "output_type": "stream",
          "name": "stdout",
          "text": [
            "                                            expanded_text  \\\n",
            "36130   i would say maybe made them feel foolish but t...   \n",
            "138065  i joined the lds church i admit to feeling som...   \n",
            "146440  i must admit i did not feel like hugging him n...   \n",
            "103337  i hate that i can still feel if any nerve is d...   \n",
            "315528                  im actually feeling a little smug   \n",
            "\n",
            "                                                   tokens  \n",
            "36130   [i, would, say, maybe, made, them, feel, fooli...  \n",
            "138065  [i, joined, the, lds, church, i, admit, to, fe...  \n",
            "146440  [i, must, admit, i, did, not, feel, like, hugg...  \n",
            "103337  [i, hate, that, i, can, still, feel, if, any, ...  \n",
            "315528           [im, actually, feeling, a, little, smug]  \n"
          ]
        }
      ]
    },
    {
      "cell_type": "markdown",
      "source": [
        "I am incorporating text tokenization, which is a fundamental step in natural language processing (NLP). Here's an overview of how my script operates:\n",
        "\n",
        "First, I import the Natural Language Toolkit (nltk), specifically importing word_tokenize from nltk.tokenize. This function is widely used in NLP for breaking down a string (text) into individual words or tokens, which are the basic units for text analysis.\n",
        "Then, I ensure that the necessary NLTK resources are available by downloading them using nltk.download('punkt'). The 'punkt' tokenizer model is essential for word_tokenize to function correctly as it helps in determining the boundaries of words in a sentence.\n",
        "The function tokenize_text is defined to apply the word_tokenize method to any given text. This function processes the input text to create a list of tokens (words and punctuation), making the text easier to analyze and manipulate at a granular level.\n",
        "I then check if the expanded_text column exists in the emo_data DataFrame. Assuming that this column contains text that has already been cleaned and had contractions expanded, I apply the tokenize_text function to each entry in this column. The resulting tokens for each text entry are stored in a new column named tokens.\n",
        "Output and Error Handling: Finally, I print the first few rows of the expanded_text and tokens columns to inspect the tokenization results. If the expanded_text column does not exist, an error message is displayed, indicating that the expected column is missing in the DataFrame.\n",
        "This process of tokenization is critical as it prepares the text data for deeper NLP tasks such as sentiment analysis, emotion recognition, or even machine learning modeling by breaking down complex strings of text into manageable, analyzable components."
      ],
      "metadata": {
        "id": "ZUhgg2q9GNCK"
      }
    },
    {
      "cell_type": "markdown",
      "metadata": {
        "id": "GYU1i7rYckYt"
      },
      "source": [
        "**generally it's a good idea to address refinement opportunities like negation handling and domain-specific term retention before lemmatization. Here's why:**\n",
        "\n",
        "Lemmatization might not always handle negation gracefully. For instance, \"doesn't feel good\" could be lemmatized to \"do feel good,\" completely reversing the sentiment. Handling negation beforehand ensures correct sentiment interpretation downstream.\n",
        "Also, Lemmatization could transform domain-specific terms into their base forms, potentially losing valuable information for my task.\n",
        "Computational Efficiency: Since lemmatization is slightly more computationally expensive than steps like negation tagging or replacing domain-specific terms, doing it after refinement means I won't be spending resources processing words I might ultimately discard.\n"
      ]
    },
    {
      "cell_type": "markdown",
      "metadata": {
        "id": "dmy_9Fwcir6-"
      },
      "source": [
        " *Implementing Special N-grams for Negation Patterns\n",
        "To effectively capture negation patterns in my preprocessing, I can adjust my tokenization process to treat common negation terms and their immediate successors as single tokens (n-grams). This helps preserve the sentiment context that negations impart on the phrases. Here's how to implement this*"
      ]
    },
    {
      "cell_type": "code",
      "execution_count": 16,
      "metadata": {
        "colab": {
          "base_uri": "https://localhost:8080/",
          "height": 321,
          "referenced_widgets": [
            "e16faa4d01fc45dfa913ec66b19098a4",
            "f65f6fff8306402794c48582d84bc066",
            "3b7f6c559c6f4bf4b3df9308ee5a946f",
            "c2a83c7b60554f909d3b83f9bace40d8",
            "3020a4432f9141df934d49203fb5527e",
            "8aa286b57d3c48c1a5b85936180145ab",
            "e8971c379f34466ba2aba85078d2c5ce",
            "f57aba7db70c40bdbb159d6519a77121",
            "cf7cae03169142dfb64b7d93a13bbaf7",
            "aadba332b9d04df09b22c0ceb82e0b8f",
            "3944ace7845448bb8510350e9b39ad0b",
            "7603ea164c3a4e34b9a4abc58aeb2b6b",
            "b366ecc2474f47f38664171b0d22d5aa",
            "556a697470c44af2b9c9c83f2e1a26dd",
            "10b0e133fd9145c08889115bcba0d5c4",
            "a4329aa4547b4225afcf0b1afadae609",
            "fe0dbb550a0d4cf7841d61b5bc4b679e",
            "b83bc8f6c86d447b93b2df7af0d49a0f",
            "75f2e611a6484861bf88f0650a0e95af",
            "f6472a0c5004462c9c416bc006de8ed6",
            "cc4be84776c94c66bf6cfa1f5b007d01",
            "f309740ebce04398b8a8e629cde8e92c",
            "daf38b3c3e9d44a8b4ea6463d4431d90",
            "1ed0250a8ef5444db9a96cd26f1aafbd",
            "0893eb4399fa446a894e379ae45b2600",
            "d1640fa3e6324f51af8475c0290f8b42",
            "39315af8c9c24a75b151886677141b97",
            "c52a83b913394e9dbb8ea7412d4e0860",
            "b0a3bc5fb4d24b5ab9722d99c4d67ae3",
            "050e907a239e458dbb9f2c9b75bb9634",
            "5dae0da33d1442c28ef0c1db2cd31ce2",
            "ec161f4dbce549bfbdd95cbba02cc993",
            "a6820e0e3a004bb8b7965a88b678358a",
            "56410d2e763c4774933a46f50099c48f",
            "21cce9c85fac4fa49d2e7fd1b322cf72",
            "0c3f5886b8444cc7bf234457c5bc7291",
            "ec7cc4e8e1aa458f93b30819be7f1072",
            "88971ab40ae14982a29bbc05e64acd70",
            "01e96a3f76ca45a5863ab1823d5b8f30",
            "c17ded20e9f34263b46855315f85f57b",
            "d20fe340ecf6420ab691d1652575cfdb",
            "48f31cc3034242d4a774fdb19de04d8f",
            "53a51e73933d4ae9870bf4805dd48c33",
            "fd75f43470e94f61925e90dd3b93988a"
          ]
        },
        "id": "TWVhH6NgkbxR",
        "outputId": "296b53db-ebb5-4449-9218-ba246921bb03"
      },
      "outputs": [
        {
          "output_type": "stream",
          "name": "stderr",
          "text": [
            "[nltk_data] Downloading package vader_lexicon to /root/nltk_data...\n",
            "No model was supplied, defaulted to distilbert/distilbert-base-uncased-finetuned-sst-2-english and revision af0f99b (https://huggingface.co/distilbert/distilbert-base-uncased-finetuned-sst-2-english).\n",
            "Using a pipeline without specifying a model name and revision in production is not recommended.\n",
            "/usr/local/lib/python3.10/dist-packages/huggingface_hub/utils/_token.py:88: UserWarning: \n",
            "The secret `HF_TOKEN` does not exist in your Colab secrets.\n",
            "To authenticate with the Hugging Face Hub, create a token in your settings tab (https://huggingface.co/settings/tokens), set it as secret in your Google Colab and restart your session.\n",
            "You will be able to reuse this secret in all of your notebooks.\n",
            "Please note that authentication is recommended but still optional to access public models or datasets.\n",
            "  warnings.warn(\n"
          ]
        },
        {
          "output_type": "display_data",
          "data": {
            "text/plain": [
              "config.json:   0%|          | 0.00/629 [00:00<?, ?B/s]"
            ],
            "application/vnd.jupyter.widget-view+json": {
              "version_major": 2,
              "version_minor": 0,
              "model_id": "e16faa4d01fc45dfa913ec66b19098a4"
            }
          },
          "metadata": {}
        },
        {
          "output_type": "display_data",
          "data": {
            "text/plain": [
              "model.safetensors:   0%|          | 0.00/268M [00:00<?, ?B/s]"
            ],
            "application/vnd.jupyter.widget-view+json": {
              "version_major": 2,
              "version_minor": 0,
              "model_id": "7603ea164c3a4e34b9a4abc58aeb2b6b"
            }
          },
          "metadata": {}
        },
        {
          "output_type": "display_data",
          "data": {
            "text/plain": [
              "tokenizer_config.json:   0%|          | 0.00/48.0 [00:00<?, ?B/s]"
            ],
            "application/vnd.jupyter.widget-view+json": {
              "version_major": 2,
              "version_minor": 0,
              "model_id": "daf38b3c3e9d44a8b4ea6463d4431d90"
            }
          },
          "metadata": {}
        },
        {
          "output_type": "display_data",
          "data": {
            "text/plain": [
              "vocab.txt:   0%|          | 0.00/232k [00:00<?, ?B/s]"
            ],
            "application/vnd.jupyter.widget-view+json": {
              "version_major": 2,
              "version_minor": 0,
              "model_id": "56410d2e763c4774933a46f50099c48f"
            }
          },
          "metadata": {}
        }
      ],
      "source": [
        "#repeating libraries is to make sure\n",
        "import pandas as pd\n",
        "import re\n",
        "from nltk.tokenize import TweetTokenizer\n",
        "from nltk.sentiment import SentimentIntensityAnalyzer\n",
        "from transformers import pipeline\n",
        "import nltk\n",
        "nltk.download('vader_lexicon')\n",
        "#initializing the sentiment analysis tools\n",
        "sid = SentimentIntensityAnalyzer()\n",
        "bert_classifier = pipeline('sentiment-analysis')\n",
        "tokenizer = TweetTokenizer(preserve_case=False)"
      ]
    },
    {
      "cell_type": "code",
      "execution_count": 17,
      "metadata": {
        "id": "lCnJLXFvZjWb"
      },
      "outputs": [],
      "source": [
        "def negation_handling(text):\n",
        "    #pattern to find words that are negations and the word immediately following them\n",
        "    negation_pattern = re.compile(r'\\b(not|no|never|none|nothing|nobody|neither|nor|cannot|can\\'t|don\\'t|doesn\\'t|didn\\'t|won\\'t|wouldn\\'t|shan\\'t|shouldn\\'t)\\s+(\\w+)', re.IGNORECASE)\n",
        "    #replacing the space between negation and the following word with an underscore\n",
        "    text = negation_pattern.sub(r'\\1_\\2', text)\n",
        "    return tokenizer.tokenize(text)"
      ]
    },
    {
      "cell_type": "markdown",
      "metadata": {
        "id": "rIfn3E42jGUc"
      },
      "source": [
        "By combining specialized n-grams to handle negation patterns during tokenization with sophisticated sentiment analysis tools, I plan to:\n",
        "\n",
        "Accurately capture the effects of negations on sentiments and analyze the linguistic features that contribute to these sentiments effectively.\n",
        "This combined approach not only increases the accuracy of my sentiment classification but also deepens my understanding of how linguistic features like negation influence sentiment in tweets."
      ]
    },
    {
      "cell_type": "markdown",
      "metadata": {
        "id": "hwMswUVgjIXD"
      },
      "source": [
        "**Combination Strategy for tools handling negation in sentiment analysis**\n",
        "For a research project focusing on the emotional content of tweets and exploring linguistic characteristics, including how negation affects sentiment, a combined approach using VADER and a large language model like BERT could be ideal:\n",
        "\n",
        "I am going to use VADER for initial assessments and to quickly process large volumes of data where the context is less critical. It’s also beneficial for its built-in sensitivity to both negations and intensifiers, which are common in social media text.\n",
        "I will use BERT or a similar model for deep analysis where context matters significantly. This is especially useful in cases where the sentiment of the text is subtle or depends heavily on the overall context rather than on specific words."
      ]
    },
    {
      "cell_type": "code",
      "execution_count": 18,
      "metadata": {
        "colab": {
          "base_uri": "https://localhost:8080/"
        },
        "id": "3e8vnmQNkiUj",
        "outputId": "5965fec3-c8e3-43d8-9d0b-745fc30b26ec"
      },
      "outputs": [
        {
          "output_type": "stream",
          "name": "stdout",
          "text": [
            "Requirement already satisfied: transformers in /usr/local/lib/python3.10/dist-packages (4.40.0)\n",
            "Requirement already satisfied: filelock in /usr/local/lib/python3.10/dist-packages (from transformers) (3.13.4)\n",
            "Requirement already satisfied: huggingface-hub<1.0,>=0.19.3 in /usr/local/lib/python3.10/dist-packages (from transformers) (0.20.3)\n",
            "Requirement already satisfied: numpy>=1.17 in /usr/local/lib/python3.10/dist-packages (from transformers) (1.25.2)\n",
            "Requirement already satisfied: packaging>=20.0 in /usr/local/lib/python3.10/dist-packages (from transformers) (24.0)\n",
            "Requirement already satisfied: pyyaml>=5.1 in /usr/local/lib/python3.10/dist-packages (from transformers) (6.0.1)\n",
            "Requirement already satisfied: regex!=2019.12.17 in /usr/local/lib/python3.10/dist-packages (from transformers) (2023.12.25)\n",
            "Requirement already satisfied: requests in /usr/local/lib/python3.10/dist-packages (from transformers) (2.31.0)\n",
            "Requirement already satisfied: tokenizers<0.20,>=0.19 in /usr/local/lib/python3.10/dist-packages (from transformers) (0.19.1)\n",
            "Requirement already satisfied: safetensors>=0.4.1 in /usr/local/lib/python3.10/dist-packages (from transformers) (0.4.3)\n",
            "Requirement already satisfied: tqdm>=4.27 in /usr/local/lib/python3.10/dist-packages (from transformers) (4.66.2)\n",
            "Requirement already satisfied: fsspec>=2023.5.0 in /usr/local/lib/python3.10/dist-packages (from huggingface-hub<1.0,>=0.19.3->transformers) (2023.6.0)\n",
            "Requirement already satisfied: typing-extensions>=3.7.4.3 in /usr/local/lib/python3.10/dist-packages (from huggingface-hub<1.0,>=0.19.3->transformers) (4.11.0)\n",
            "Requirement already satisfied: charset-normalizer<4,>=2 in /usr/local/lib/python3.10/dist-packages (from requests->transformers) (3.3.2)\n",
            "Requirement already satisfied: idna<4,>=2.5 in /usr/local/lib/python3.10/dist-packages (from requests->transformers) (3.7)\n",
            "Requirement already satisfied: urllib3<3,>=1.21.1 in /usr/local/lib/python3.10/dist-packages (from requests->transformers) (2.0.7)\n",
            "Requirement already satisfied: certifi>=2017.4.17 in /usr/local/lib/python3.10/dist-packages (from requests->transformers) (2024.2.2)\n"
          ]
        }
      ],
      "source": [
        "pip install transformers"
      ]
    },
    {
      "cell_type": "code",
      "source": [
        "#maximum width of each column to None, which means unlimited\n",
        "pd.set_option('display.max_colwidth', None)\n",
        "#adjusting the overall display width of the DataFrame\n",
        "pd.set_option('display.width', 1000)"
      ],
      "metadata": {
        "id": "e-D5yxOCbNoe"
      },
      "execution_count": 19,
      "outputs": []
    },
    {
      "cell_type": "code",
      "execution_count": 20,
      "metadata": {
        "id": "UI535AJYkmyg",
        "colab": {
          "base_uri": "https://localhost:8080/"
        },
        "outputId": "a2f1b986-7e77-4e19-b575-e11566469eea"
      },
      "outputs": [
        {
          "output_type": "stream",
          "name": "stdout",
          "text": [
            "                                                                                                                                                      cleaned_text                                               sentiment_analysis\n",
            "88271                         i used to have stretches of time when i was feeling ok and not showing that i could actually forget that you re in there but no more    {'neg': 0.06, 'neu': 0.823, 'pos': 0.117, 'compound': 0.1027}\n",
            "395658                                                                                                                    i feel like these things are just stupid  {'neg': 0.312, 'neu': 0.459, 'pos': 0.229, 'compound': -0.2263}\n",
            "233184  i was am feeling delicate i thought a simple one would be best so i went for one of several options in maddhur jaffreys curry easy red lentils with ginger     {'neg': 0.0, 'neu': 0.692, 'pos': 0.308, 'compound': 0.8316}\n"
          ]
        }
      ],
      "source": [
        "def analyze_sentiment(text):\n",
        "    tokens = negation_handling(text)\n",
        "    processed_tweet = ' '.join(tokens)  #tokens into a single string for analysis\n",
        "    vader_scores = sid.polarity_scores(processed_tweet)\n",
        "    #BERT for deeper analysis if VADER is uncertain\n",
        "    if abs(vader_scores['compound']) < 0.1:\n",
        "        bert_result = bert_classifier(processed_tweet)\n",
        "        final_sentiment = bert_result\n",
        "    else:\n",
        "        final_sentiment = vader_scores\n",
        "\n",
        "    return final_sentiment\n",
        "#a random sample of tweets to analyze selection\n",
        "random_tweets = emo_data.sample(n=3)\n",
        "random_tweets['sentiment_analysis'] = random_tweets['cleaned_text'].apply(analyze_sentiment)\n",
        "print(random_tweets[['cleaned_text', 'sentiment_analysis']])"
      ]
    },
    {
      "cell_type": "markdown",
      "source": [
        "I've focused on sentiment analysis of tweet texts by combining sophisticated preprocessing with multiple sentiment analysis tools. Here's how my implementation works, structured in a seamless workflow:\n",
        "\n",
        "Initially, I configure pandas to display the entire content of each DataFrame column without truncation by setting display.max_colwidth to None. This is useful for ensuring that no part of the tweet texts is cut off in the output, providing a complete view when inspecting or debugging data. Additionally, I adjust the overall display width of the DataFrame to 1000, making it easier to view wider data outputs without line wrapping. Then, I define a function analyze_sentiment that incorporates both the custom negation handling and sentiment analysis:\n",
        "So, The function starts by processing the input text with negation_handling to account for special n-grams that preserve the context around negations. After tokenization, the tokens are rejoined into a single string. This is necessary because sentiment analysis tools typically require text input as complete sentences or phrases. I utilize the SentimentIntensityAnalyzer from NLTK, which provides a polarity_scores method to get sentiment scores based on the processed text. The scores include a 'compound' metric combining positivity, negativity, and neutrality to represent the overall sentiment. If VADER's compound score is close to zero (less than 0.1 in absolute value, indicating uncertainty), I employ a more powerful BERT model from the transformers library to get a possibly clearer sentiment determination.\n",
        "Conditional Sentiment Determination: Depending on the confidence of the VADER result, I either use the initial VADER scores or the result from the BERT classifier as the final sentiment output.\n",
        "I then select a random sample of three tweets from my dataset (emo_data) and apply the analyze_sentiment function to each. This is done by creating a new column sentiment_analysis in the random_tweets DataFrame.\n",
        "Finally, I print a snapshot of the cleaned tweet texts alongside their analyzed sentiments to visually verify the effectiveness of my sentiment analysis pipeline.\n",
        "This method ensures that the sentiment analysis captures more nuanced expressions, especially around negations, significantly enhancing the reliability and depth of the sentiment insights extracted from my tweet dataset."
      ],
      "metadata": {
        "id": "kcAVEST8Gp4f"
      }
    },
    {
      "cell_type": "markdown",
      "source": [
        "\n",
        "Tweet 1: \"i watched a sappy movie last night and feel weepy and sad today\"\n",
        "Sentiment: Negative ({'neg': 0.481, 'neu': 0.519, 'pos': 0.0, 'compound': -0.7506})\n",
        "Analysis: Strong negative sentiment, likely due to words like \"weepy\" and \"sad.\"\n",
        "Tweet 2: \"i have a feeling he will not think its very cool for his mom to plan his party anymore\"\n",
        "Sentiment: Positive ({'neg': 0.0, 'neu': 0.657, 'pos': 0.343, 'compound': 0.6997})\n",
        "Analysis: Despite the negation \"not think its very cool,\" the overall context might have been interpreted more positively due to other elements in the sentence.\n",
        "Tweet 3: \"i feel like people wake up and already determine that they are going to have a crappy day without giving the day a chance because it is the easy way out\"\n",
        "Sentiment: Slightly positive ({'neg': 0.103, 'neu': 0.686, 'pos': 0.211, 'compound': 0.4215})\n",
        "Analysis: This is interesting as the presence of \"crappy\" suggests negative sentiment, but the overall score is slightly positive, which might reflect a nuanced understanding or an error in sentiment detection."
      ],
      "metadata": {
        "id": "5twuCdZ2bhjl"
      }
    },
    {
      "cell_type": "markdown",
      "source": [
        "**Observations**\n",
        "\n",
        "VADER seems quite effective in capturing sentiments that are clearly expressed through straightforward language, as observed in the first tweet about feeling \"weepy and sad\". VADER's scores are directly reflective of the negative emotions present, highlighted by a significant negative compound score.\n",
        "\n",
        "Besides, the second tweet presents an interesting case where negation plays a crucial role. The tweet includes a negation (\"will not think its very cool\"), which could potentially invert the sentiment of the sentence. The positive score suggests that either the negation was not handled as expected, impacting the sentiment analysis, or other elements in the sentence outweighed the negative phrase. This indicates a potential area for refining how negation is addressed in the sentiment analysis process.\n",
        "\n",
        "Finally, the third tweet's sentiment analysis demonstrates the complexity of handling mixed sentiments within a single statement. The tweet contains phrases that suggest negativity (\"crappy day\"), but the overall sentiment score is slightly positive. This could be due to the phrasing that might have been interpreted positively by the sentiment analyzer or the nuanced context that BERT (if it was triggered) managed to understand better than VADER.\n",
        "\n",
        "Also, The threshold for involving BERT in the analysis (compound score absolute value < 0.1) is a strategic choice. BERT, being a contextually aware model, can potentially provide a more accurate sentiment analysis for complex sentences. However, the examples don't clearly indicate if and when BERT was used, suggesting that VADER's analysis was deemed sufficient in these cases. Monitoring when BERT is activated could provide insights into its impact compared to VADER. Given that BERT is computationally intensive, its conditional use based on VADER’s certainty is practical. However, this setup requires careful calibration of the threshold to ensure that BERT is employed effectively without unnecessary computation. This dual-method approach strikes a balance between accuracy (using BERT for complex analyses) and efficiency (using VADER for initial screening). It’s crucial to continuously evaluate this balance, especially in a production environment or larger-scale analysis, to optimize resource utilization without compromising the quality of sentiment analysis."
      ],
      "metadata": {
        "id": "R7WZfyrwb83N"
      }
    },
    {
      "cell_type": "code",
      "execution_count": 21,
      "metadata": {
        "id": "0gBnxA-IIL96",
        "colab": {
          "base_uri": "https://localhost:8080/",
          "height": 397
        },
        "outputId": "765e9bd6-c019-417c-872c-cbda97b83dbe"
      },
      "outputs": [
        {
          "output_type": "execute_result",
          "data": {
            "text/plain": [
              "        Unnamed: 0                                                                                                       text  label                                                                                               cleaned_text                                                                                                expanded_text                                                                                                                           tokens\n",
              "414382      414382                      i clicked a scrolling button on the google home page when it said im feeling artistic      1                      i clicked a scrolling button on the google home page when it said im feeling artistic                   i clicked a scrolling button on the google home page when it sai would im feeling artistic                     [i, clicked, a, scrolling, button, on, the, google, home, page, when, it, sai, would, im, feeling, artistic]\n",
              "101523      101523                                                                                     i feel it is sooo cute      1                                                                                     i feel it is sooo cute                                                                                       i feel it is sooo cute                                                                                                    [i, feel, it, is, sooo, cute]\n",
              "117558      117558                              i feel completely disheartened and overwhelmed by our warring ways i meditate      0                              i feel completely disheartened and overwhelmed by our warring ways i meditate                                i feel completely disheartened and overwhelmed by our warring ways i meditate                                       [i, feel, completely, disheartened, and, overwhelmed, by, our, warring, ways, i, meditate]\n",
              "407722      407722  i feel honoured to join into the teachers discussion which truly shows that im a professional teacher now      1  i feel honoured to join into the teachers discussion which truly shows that im a professional teacher now  i feel honoured to join into the teachers discussion which truly show is that im a professional teacher now  [i, feel, honoured, to, join, into, the, teachers, discussion, which, truly, show, is, that, im, a, professional, teacher, now]\n",
              "213497      213497      i was at school tonight and saw a really pretty yellow moon and started feeling all romantic and junk      2      i was at school tonight and saw a really pretty yellow moon and started feeling all romantic and junk        i was at school tonight and saw a really pretty yellow moon and started feeling all romantic and junk        [i, was, at, school, tonight, and, saw, a, really, pretty, yellow, moon, and, started, feeling, all, romantic, and, junk]"
            ],
            "text/html": [
              "\n",
              "  <div id=\"df-87d686b7-a5d5-4f3e-8b3b-6fd62df4dc7b\" class=\"colab-df-container\">\n",
              "    <div>\n",
              "<style scoped>\n",
              "    .dataframe tbody tr th:only-of-type {\n",
              "        vertical-align: middle;\n",
              "    }\n",
              "\n",
              "    .dataframe tbody tr th {\n",
              "        vertical-align: top;\n",
              "    }\n",
              "\n",
              "    .dataframe thead th {\n",
              "        text-align: right;\n",
              "    }\n",
              "</style>\n",
              "<table border=\"1\" class=\"dataframe\">\n",
              "  <thead>\n",
              "    <tr style=\"text-align: right;\">\n",
              "      <th></th>\n",
              "      <th>Unnamed: 0</th>\n",
              "      <th>text</th>\n",
              "      <th>label</th>\n",
              "      <th>cleaned_text</th>\n",
              "      <th>expanded_text</th>\n",
              "      <th>tokens</th>\n",
              "    </tr>\n",
              "  </thead>\n",
              "  <tbody>\n",
              "    <tr>\n",
              "      <th>414382</th>\n",
              "      <td>414382</td>\n",
              "      <td>i clicked a scrolling button on the google home page when it said im feeling artistic</td>\n",
              "      <td>1</td>\n",
              "      <td>i clicked a scrolling button on the google home page when it said im feeling artistic</td>\n",
              "      <td>i clicked a scrolling button on the google home page when it sai would im feeling artistic</td>\n",
              "      <td>[i, clicked, a, scrolling, button, on, the, google, home, page, when, it, sai, would, im, feeling, artistic]</td>\n",
              "    </tr>\n",
              "    <tr>\n",
              "      <th>101523</th>\n",
              "      <td>101523</td>\n",
              "      <td>i feel it is sooo cute</td>\n",
              "      <td>1</td>\n",
              "      <td>i feel it is sooo cute</td>\n",
              "      <td>i feel it is sooo cute</td>\n",
              "      <td>[i, feel, it, is, sooo, cute]</td>\n",
              "    </tr>\n",
              "    <tr>\n",
              "      <th>117558</th>\n",
              "      <td>117558</td>\n",
              "      <td>i feel completely disheartened and overwhelmed by our warring ways i meditate</td>\n",
              "      <td>0</td>\n",
              "      <td>i feel completely disheartened and overwhelmed by our warring ways i meditate</td>\n",
              "      <td>i feel completely disheartened and overwhelmed by our warring ways i meditate</td>\n",
              "      <td>[i, feel, completely, disheartened, and, overwhelmed, by, our, warring, ways, i, meditate]</td>\n",
              "    </tr>\n",
              "    <tr>\n",
              "      <th>407722</th>\n",
              "      <td>407722</td>\n",
              "      <td>i feel honoured to join into the teachers discussion which truly shows that im a professional teacher now</td>\n",
              "      <td>1</td>\n",
              "      <td>i feel honoured to join into the teachers discussion which truly shows that im a professional teacher now</td>\n",
              "      <td>i feel honoured to join into the teachers discussion which truly show is that im a professional teacher now</td>\n",
              "      <td>[i, feel, honoured, to, join, into, the, teachers, discussion, which, truly, show, is, that, im, a, professional, teacher, now]</td>\n",
              "    </tr>\n",
              "    <tr>\n",
              "      <th>213497</th>\n",
              "      <td>213497</td>\n",
              "      <td>i was at school tonight and saw a really pretty yellow moon and started feeling all romantic and junk</td>\n",
              "      <td>2</td>\n",
              "      <td>i was at school tonight and saw a really pretty yellow moon and started feeling all romantic and junk</td>\n",
              "      <td>i was at school tonight and saw a really pretty yellow moon and started feeling all romantic and junk</td>\n",
              "      <td>[i, was, at, school, tonight, and, saw, a, really, pretty, yellow, moon, and, started, feeling, all, romantic, and, junk]</td>\n",
              "    </tr>\n",
              "  </tbody>\n",
              "</table>\n",
              "</div>\n",
              "    <div class=\"colab-df-buttons\">\n",
              "\n",
              "  <div class=\"colab-df-container\">\n",
              "    <button class=\"colab-df-convert\" onclick=\"convertToInteractive('df-87d686b7-a5d5-4f3e-8b3b-6fd62df4dc7b')\"\n",
              "            title=\"Convert this dataframe to an interactive table.\"\n",
              "            style=\"display:none;\">\n",
              "\n",
              "  <svg xmlns=\"http://www.w3.org/2000/svg\" height=\"24px\" viewBox=\"0 -960 960 960\">\n",
              "    <path d=\"M120-120v-720h720v720H120Zm60-500h600v-160H180v160Zm220 220h160v-160H400v160Zm0 220h160v-160H400v160ZM180-400h160v-160H180v160Zm440 0h160v-160H620v160ZM180-180h160v-160H180v160Zm440 0h160v-160H620v160Z\"/>\n",
              "  </svg>\n",
              "    </button>\n",
              "\n",
              "  <style>\n",
              "    .colab-df-container {\n",
              "      display:flex;\n",
              "      gap: 12px;\n",
              "    }\n",
              "\n",
              "    .colab-df-convert {\n",
              "      background-color: #E8F0FE;\n",
              "      border: none;\n",
              "      border-radius: 50%;\n",
              "      cursor: pointer;\n",
              "      display: none;\n",
              "      fill: #1967D2;\n",
              "      height: 32px;\n",
              "      padding: 0 0 0 0;\n",
              "      width: 32px;\n",
              "    }\n",
              "\n",
              "    .colab-df-convert:hover {\n",
              "      background-color: #E2EBFA;\n",
              "      box-shadow: 0px 1px 2px rgba(60, 64, 67, 0.3), 0px 1px 3px 1px rgba(60, 64, 67, 0.15);\n",
              "      fill: #174EA6;\n",
              "    }\n",
              "\n",
              "    .colab-df-buttons div {\n",
              "      margin-bottom: 4px;\n",
              "    }\n",
              "\n",
              "    [theme=dark] .colab-df-convert {\n",
              "      background-color: #3B4455;\n",
              "      fill: #D2E3FC;\n",
              "    }\n",
              "\n",
              "    [theme=dark] .colab-df-convert:hover {\n",
              "      background-color: #434B5C;\n",
              "      box-shadow: 0px 1px 3px 1px rgba(0, 0, 0, 0.15);\n",
              "      filter: drop-shadow(0px 1px 2px rgba(0, 0, 0, 0.3));\n",
              "      fill: #FFFFFF;\n",
              "    }\n",
              "  </style>\n",
              "\n",
              "    <script>\n",
              "      const buttonEl =\n",
              "        document.querySelector('#df-87d686b7-a5d5-4f3e-8b3b-6fd62df4dc7b button.colab-df-convert');\n",
              "      buttonEl.style.display =\n",
              "        google.colab.kernel.accessAllowed ? 'block' : 'none';\n",
              "\n",
              "      async function convertToInteractive(key) {\n",
              "        const element = document.querySelector('#df-87d686b7-a5d5-4f3e-8b3b-6fd62df4dc7b');\n",
              "        const dataTable =\n",
              "          await google.colab.kernel.invokeFunction('convertToInteractive',\n",
              "                                                    [key], {});\n",
              "        if (!dataTable) return;\n",
              "\n",
              "        const docLinkHtml = 'Like what you see? Visit the ' +\n",
              "          '<a target=\"_blank\" href=https://colab.research.google.com/notebooks/data_table.ipynb>data table notebook</a>'\n",
              "          + ' to learn more about interactive tables.';\n",
              "        element.innerHTML = '';\n",
              "        dataTable['output_type'] = 'display_data';\n",
              "        await google.colab.output.renderOutput(dataTable, element);\n",
              "        const docLink = document.createElement('div');\n",
              "        docLink.innerHTML = docLinkHtml;\n",
              "        element.appendChild(docLink);\n",
              "      }\n",
              "    </script>\n",
              "  </div>\n",
              "\n",
              "\n",
              "<div id=\"df-61865338-1f44-4c97-868b-3bbfe8c5e951\">\n",
              "  <button class=\"colab-df-quickchart\" onclick=\"quickchart('df-61865338-1f44-4c97-868b-3bbfe8c5e951')\"\n",
              "            title=\"Suggest charts\"\n",
              "            style=\"display:none;\">\n",
              "\n",
              "<svg xmlns=\"http://www.w3.org/2000/svg\" height=\"24px\"viewBox=\"0 0 24 24\"\n",
              "     width=\"24px\">\n",
              "    <g>\n",
              "        <path d=\"M19 3H5c-1.1 0-2 .9-2 2v14c0 1.1.9 2 2 2h14c1.1 0 2-.9 2-2V5c0-1.1-.9-2-2-2zM9 17H7v-7h2v7zm4 0h-2V7h2v10zm4 0h-2v-4h2v4z\"/>\n",
              "    </g>\n",
              "</svg>\n",
              "  </button>\n",
              "\n",
              "<style>\n",
              "  .colab-df-quickchart {\n",
              "      --bg-color: #E8F0FE;\n",
              "      --fill-color: #1967D2;\n",
              "      --hover-bg-color: #E2EBFA;\n",
              "      --hover-fill-color: #174EA6;\n",
              "      --disabled-fill-color: #AAA;\n",
              "      --disabled-bg-color: #DDD;\n",
              "  }\n",
              "\n",
              "  [theme=dark] .colab-df-quickchart {\n",
              "      --bg-color: #3B4455;\n",
              "      --fill-color: #D2E3FC;\n",
              "      --hover-bg-color: #434B5C;\n",
              "      --hover-fill-color: #FFFFFF;\n",
              "      --disabled-bg-color: #3B4455;\n",
              "      --disabled-fill-color: #666;\n",
              "  }\n",
              "\n",
              "  .colab-df-quickchart {\n",
              "    background-color: var(--bg-color);\n",
              "    border: none;\n",
              "    border-radius: 50%;\n",
              "    cursor: pointer;\n",
              "    display: none;\n",
              "    fill: var(--fill-color);\n",
              "    height: 32px;\n",
              "    padding: 0;\n",
              "    width: 32px;\n",
              "  }\n",
              "\n",
              "  .colab-df-quickchart:hover {\n",
              "    background-color: var(--hover-bg-color);\n",
              "    box-shadow: 0 1px 2px rgba(60, 64, 67, 0.3), 0 1px 3px 1px rgba(60, 64, 67, 0.15);\n",
              "    fill: var(--button-hover-fill-color);\n",
              "  }\n",
              "\n",
              "  .colab-df-quickchart-complete:disabled,\n",
              "  .colab-df-quickchart-complete:disabled:hover {\n",
              "    background-color: var(--disabled-bg-color);\n",
              "    fill: var(--disabled-fill-color);\n",
              "    box-shadow: none;\n",
              "  }\n",
              "\n",
              "  .colab-df-spinner {\n",
              "    border: 2px solid var(--fill-color);\n",
              "    border-color: transparent;\n",
              "    border-bottom-color: var(--fill-color);\n",
              "    animation:\n",
              "      spin 1s steps(1) infinite;\n",
              "  }\n",
              "\n",
              "  @keyframes spin {\n",
              "    0% {\n",
              "      border-color: transparent;\n",
              "      border-bottom-color: var(--fill-color);\n",
              "      border-left-color: var(--fill-color);\n",
              "    }\n",
              "    20% {\n",
              "      border-color: transparent;\n",
              "      border-left-color: var(--fill-color);\n",
              "      border-top-color: var(--fill-color);\n",
              "    }\n",
              "    30% {\n",
              "      border-color: transparent;\n",
              "      border-left-color: var(--fill-color);\n",
              "      border-top-color: var(--fill-color);\n",
              "      border-right-color: var(--fill-color);\n",
              "    }\n",
              "    40% {\n",
              "      border-color: transparent;\n",
              "      border-right-color: var(--fill-color);\n",
              "      border-top-color: var(--fill-color);\n",
              "    }\n",
              "    60% {\n",
              "      border-color: transparent;\n",
              "      border-right-color: var(--fill-color);\n",
              "    }\n",
              "    80% {\n",
              "      border-color: transparent;\n",
              "      border-right-color: var(--fill-color);\n",
              "      border-bottom-color: var(--fill-color);\n",
              "    }\n",
              "    90% {\n",
              "      border-color: transparent;\n",
              "      border-bottom-color: var(--fill-color);\n",
              "    }\n",
              "  }\n",
              "</style>\n",
              "\n",
              "  <script>\n",
              "    async function quickchart(key) {\n",
              "      const quickchartButtonEl =\n",
              "        document.querySelector('#' + key + ' button');\n",
              "      quickchartButtonEl.disabled = true;  // To prevent multiple clicks.\n",
              "      quickchartButtonEl.classList.add('colab-df-spinner');\n",
              "      try {\n",
              "        const charts = await google.colab.kernel.invokeFunction(\n",
              "            'suggestCharts', [key], {});\n",
              "      } catch (error) {\n",
              "        console.error('Error during call to suggestCharts:', error);\n",
              "      }\n",
              "      quickchartButtonEl.classList.remove('colab-df-spinner');\n",
              "      quickchartButtonEl.classList.add('colab-df-quickchart-complete');\n",
              "    }\n",
              "    (() => {\n",
              "      let quickchartButtonEl =\n",
              "        document.querySelector('#df-61865338-1f44-4c97-868b-3bbfe8c5e951 button');\n",
              "      quickchartButtonEl.style.display =\n",
              "        google.colab.kernel.accessAllowed ? 'block' : 'none';\n",
              "    })();\n",
              "  </script>\n",
              "</div>\n",
              "    </div>\n",
              "  </div>\n"
            ],
            "application/vnd.google.colaboratory.intrinsic+json": {
              "type": "dataframe",
              "variable_name": "random_tweets",
              "summary": "{\n  \"name\": \"random_tweets\",\n  \"rows\": 5,\n  \"fields\": [\n    {\n      \"column\": \"Unnamed: 0\",\n      \"properties\": {\n        \"dtype\": \"number\",\n        \"std\": 152325,\n        \"min\": 101523,\n        \"max\": 414382,\n        \"num_unique_values\": 5,\n        \"samples\": [\n          101523,\n          213497,\n          117558\n        ],\n        \"semantic_type\": \"\",\n        \"description\": \"\"\n      }\n    },\n    {\n      \"column\": \"text\",\n      \"properties\": {\n        \"dtype\": \"string\",\n        \"num_unique_values\": 5,\n        \"samples\": [\n          \"i feel it is sooo cute\",\n          \"i was at school tonight and saw a really pretty yellow moon and started feeling all romantic and junk\",\n          \"i feel completely disheartened and overwhelmed by our warring ways i meditate\"\n        ],\n        \"semantic_type\": \"\",\n        \"description\": \"\"\n      }\n    },\n    {\n      \"column\": \"label\",\n      \"properties\": {\n        \"dtype\": \"number\",\n        \"std\": 0,\n        \"min\": 0,\n        \"max\": 2,\n        \"num_unique_values\": 3,\n        \"samples\": [\n          1,\n          0,\n          2\n        ],\n        \"semantic_type\": \"\",\n        \"description\": \"\"\n      }\n    },\n    {\n      \"column\": \"cleaned_text\",\n      \"properties\": {\n        \"dtype\": \"string\",\n        \"num_unique_values\": 5,\n        \"samples\": [\n          \"i feel it is sooo cute\",\n          \"i was at school tonight and saw a really pretty yellow moon and started feeling all romantic and junk\",\n          \"i feel completely disheartened and overwhelmed by our warring ways i meditate\"\n        ],\n        \"semantic_type\": \"\",\n        \"description\": \"\"\n      }\n    },\n    {\n      \"column\": \"expanded_text\",\n      \"properties\": {\n        \"dtype\": \"string\",\n        \"num_unique_values\": 5,\n        \"samples\": [\n          \"i feel it is sooo cute\",\n          \"i was at school tonight and saw a really pretty yellow moon and started feeling all romantic and junk\",\n          \"i feel completely disheartened and overwhelmed by our warring ways i meditate\"\n        ],\n        \"semantic_type\": \"\",\n        \"description\": \"\"\n      }\n    },\n    {\n      \"column\": \"tokens\",\n      \"properties\": {\n        \"dtype\": \"object\",\n        \"semantic_type\": \"\",\n        \"description\": \"\"\n      }\n    }\n  ]\n}"
            }
          },
          "metadata": {},
          "execution_count": 21
        }
      ],
      "source": [
        "random_tweets = emo_data.sample(n=5)\n",
        "random_tweets"
      ]
    },
    {
      "cell_type": "markdown",
      "metadata": {
        "id": "K7oF7nmChCFk"
      },
      "source": [
        "Breakdown of Text Processing Steps\n",
        "Cleaning Text\n",
        "The clean_text column contains text that is presumably ready for further processing. In this specific case, it appears unchanged relative to text, suggesting that either no cleaning was needed or that cleaning operations such as trimming or removing unwanted characters were not applicable here.\n",
        "Observation: Ensure that any potential noise such as URLs, special characters, or HTML tags is also considered in the cleaning process, especially if I scale to more diverse datasets.\n",
        "Expansion of Contractions\n",
        "The expanded_text column also appears unchanged relative to clean_text, which could indicate that there were no contractions to expand, or the text did not contain any contractions from the outset.\n",
        "Observation: It's good practice to verify that the contraction handling mechanism is active and effective, possibly by checking against known contractions to ensure they are expanded as expected.\n",
        "Tokenization\n",
        "The tokens column shows that the text has been successfully tokenized into individual words. This is evident from the list format containing each word as a separate element, which is exactly what I would expect following the tokenization step.\n",
        "Observation is that the tokenization appears to be thorough, ensuring each word is separated, including handling of punctuation if it were present. For advanced processing, I might consider whether aspects like stemming or lemmatization (reducing words to their base or root form) could be beneficial depending on my end goals."
      ]
    },
    {
      "cell_type": "code",
      "execution_count": 22,
      "metadata": {
        "colab": {
          "base_uri": "https://localhost:8080/"
        },
        "id": "bGKD3hySjzWw",
        "outputId": "93233d42-38e8-473c-ecb0-86c3f511ddff"
      },
      "outputs": [
        {
          "output_type": "stream",
          "name": "stderr",
          "text": [
            "[nltk_data] Downloading package wordnet to /root/nltk_data...\n",
            "[nltk_data] Downloading package omw-1.4 to /root/nltk_data...\n"
          ]
        },
        {
          "output_type": "execute_result",
          "data": {
            "text/plain": [
              "True"
            ]
          },
          "metadata": {},
          "execution_count": 22
        }
      ],
      "source": [
        "nltk.download('wordnet')  # WordNet lemmatizer resource\n",
        "nltk.download('omw-1.4')"
      ]
    },
    {
      "cell_type": "code",
      "execution_count": 23,
      "metadata": {
        "id": "STXfSH87kAi7"
      },
      "outputs": [],
      "source": [
        "from nltk.stem import WordNetLemmatizer\n",
        "\n",
        "lemmatizer = WordNetLemmatizer()"
      ]
    },
    {
      "cell_type": "markdown",
      "metadata": {
        "id": "iSvFV1i_rDBY"
      },
      "source": [
        "The tokens column shows that the text has been broken down into individual words and symbols effectively, which is crucial for accurate further processing. The lemmatized_tokens column aims to reduce each word to its base or dictionary form. Lemmatization is generally more sophisticated than stemming because it uses lexical knowledge bases to derive the correct root forms.\n",
        "\n",
        "For example, the verb \"was\" is lemmatized to \"wa,\" which seems incorrect. Typically, \"was\" should be lemmatized to \"be.\" This suggests a potential issue in how the lemmatization is being applied or an error in the lemmatization tool/library configuration.\n",
        "\n",
        "Most words appear unchanged from tokens to lemmatized_tokens, which might indicate that many words in my dataset are already in their root form, or the lemmatization tool did not identify many changes needed. However, ensure that the lemmatization process is correctly configured to handle different parts of speech adequately.\n",
        "**Problems I am having:**\n",
        "As noted, \"was\" becoming \"wa\" is likely an error. This might result from an incorrect POS tagging before lemmatization, as lemmatization algorithms often rely on correct POS tags to function accurately.\n",
        "Handling of Contractions and Punctuation: The tokenization step should ideally separate punctuation from words unless explicitly meant to be together (like in contractions or specific abbreviations). Ensure that my tokenization process is tuned to my specific data characteristics."
      ]
    },
    {
      "cell_type": "markdown",
      "metadata": {
        "id": "fAugLPzku8wu"
      },
      "source": [
        " **POS tagging**\n",
        " To maximize lemmatization accuracy, consider adding part-of-speech tagging before lemmatization. This can help the lemmatizer more accurately determine the correct base form.\n"
      ]
    },
    {
      "cell_type": "code",
      "execution_count": 24,
      "metadata": {
        "id": "HEpYYOOZkXIC",
        "colab": {
          "base_uri": "https://localhost:8080/"
        },
        "outputId": "e9178ed6-b777-4eb5-e33c-225463339c9a"
      },
      "outputs": [
        {
          "output_type": "stream",
          "name": "stderr",
          "text": [
            "[nltk_data] Downloading package averaged_perceptron_tagger to\n",
            "[nltk_data]     /root/nltk_data...\n",
            "[nltk_data]   Unzipping taggers/averaged_perceptron_tagger.zip.\n"
          ]
        },
        {
          "output_type": "execute_result",
          "data": {
            "text/plain": [
              "True"
            ]
          },
          "metadata": {},
          "execution_count": 24
        }
      ],
      "source": [
        "from nltk.corpus import wordnet\n",
        "from nltk.stem import WordNetLemmatizer\n",
        "from nltk.tokenize import word_tokenize\n",
        "nltk.download('averaged_perceptron_tagger')"
      ]
    },
    {
      "cell_type": "code",
      "execution_count": 25,
      "metadata": {
        "id": "r4zLfg30sIq_",
        "colab": {
          "base_uri": "https://localhost:8080/"
        },
        "outputId": "5ef93244-d411-485c-b0f4-52ebebbb98aa"
      },
      "outputs": [
        {
          "output_type": "stream",
          "name": "stdout",
          "text": [
            "Requirement already satisfied: spacy in /usr/local/lib/python3.10/dist-packages (3.7.4)\n",
            "Requirement already satisfied: spacy-legacy<3.1.0,>=3.0.11 in /usr/local/lib/python3.10/dist-packages (from spacy) (3.0.12)\n",
            "Requirement already satisfied: spacy-loggers<2.0.0,>=1.0.0 in /usr/local/lib/python3.10/dist-packages (from spacy) (1.0.5)\n",
            "Requirement already satisfied: murmurhash<1.1.0,>=0.28.0 in /usr/local/lib/python3.10/dist-packages (from spacy) (1.0.10)\n",
            "Requirement already satisfied: cymem<2.1.0,>=2.0.2 in /usr/local/lib/python3.10/dist-packages (from spacy) (2.0.8)\n",
            "Requirement already satisfied: preshed<3.1.0,>=3.0.2 in /usr/local/lib/python3.10/dist-packages (from spacy) (3.0.9)\n",
            "Requirement already satisfied: thinc<8.3.0,>=8.2.2 in /usr/local/lib/python3.10/dist-packages (from spacy) (8.2.3)\n",
            "Requirement already satisfied: wasabi<1.2.0,>=0.9.1 in /usr/local/lib/python3.10/dist-packages (from spacy) (1.1.2)\n",
            "Requirement already satisfied: srsly<3.0.0,>=2.4.3 in /usr/local/lib/python3.10/dist-packages (from spacy) (2.4.8)\n",
            "Requirement already satisfied: catalogue<2.1.0,>=2.0.6 in /usr/local/lib/python3.10/dist-packages (from spacy) (2.0.10)\n",
            "Requirement already satisfied: weasel<0.4.0,>=0.1.0 in /usr/local/lib/python3.10/dist-packages (from spacy) (0.3.4)\n",
            "Requirement already satisfied: typer<0.10.0,>=0.3.0 in /usr/local/lib/python3.10/dist-packages (from spacy) (0.9.4)\n",
            "Requirement already satisfied: smart-open<7.0.0,>=5.2.1 in /usr/local/lib/python3.10/dist-packages (from spacy) (6.4.0)\n",
            "Requirement already satisfied: tqdm<5.0.0,>=4.38.0 in /usr/local/lib/python3.10/dist-packages (from spacy) (4.66.2)\n",
            "Requirement already satisfied: requests<3.0.0,>=2.13.0 in /usr/local/lib/python3.10/dist-packages (from spacy) (2.31.0)\n",
            "Requirement already satisfied: pydantic!=1.8,!=1.8.1,<3.0.0,>=1.7.4 in /usr/local/lib/python3.10/dist-packages (from spacy) (2.7.0)\n",
            "Requirement already satisfied: jinja2 in /usr/local/lib/python3.10/dist-packages (from spacy) (3.1.3)\n",
            "Requirement already satisfied: setuptools in /usr/local/lib/python3.10/dist-packages (from spacy) (67.7.2)\n",
            "Requirement already satisfied: packaging>=20.0 in /usr/local/lib/python3.10/dist-packages (from spacy) (24.0)\n",
            "Requirement already satisfied: langcodes<4.0.0,>=3.2.0 in /usr/local/lib/python3.10/dist-packages (from spacy) (3.3.0)\n",
            "Requirement already satisfied: numpy>=1.19.0 in /usr/local/lib/python3.10/dist-packages (from spacy) (1.25.2)\n",
            "Requirement already satisfied: annotated-types>=0.4.0 in /usr/local/lib/python3.10/dist-packages (from pydantic!=1.8,!=1.8.1,<3.0.0,>=1.7.4->spacy) (0.6.0)\n",
            "Requirement already satisfied: pydantic-core==2.18.1 in /usr/local/lib/python3.10/dist-packages (from pydantic!=1.8,!=1.8.1,<3.0.0,>=1.7.4->spacy) (2.18.1)\n",
            "Requirement already satisfied: typing-extensions>=4.6.1 in /usr/local/lib/python3.10/dist-packages (from pydantic!=1.8,!=1.8.1,<3.0.0,>=1.7.4->spacy) (4.11.0)\n",
            "Requirement already satisfied: charset-normalizer<4,>=2 in /usr/local/lib/python3.10/dist-packages (from requests<3.0.0,>=2.13.0->spacy) (3.3.2)\n",
            "Requirement already satisfied: idna<4,>=2.5 in /usr/local/lib/python3.10/dist-packages (from requests<3.0.0,>=2.13.0->spacy) (3.7)\n",
            "Requirement already satisfied: urllib3<3,>=1.21.1 in /usr/local/lib/python3.10/dist-packages (from requests<3.0.0,>=2.13.0->spacy) (2.0.7)\n",
            "Requirement already satisfied: certifi>=2017.4.17 in /usr/local/lib/python3.10/dist-packages (from requests<3.0.0,>=2.13.0->spacy) (2024.2.2)\n",
            "Requirement already satisfied: blis<0.8.0,>=0.7.8 in /usr/local/lib/python3.10/dist-packages (from thinc<8.3.0,>=8.2.2->spacy) (0.7.11)\n",
            "Requirement already satisfied: confection<1.0.0,>=0.0.1 in /usr/local/lib/python3.10/dist-packages (from thinc<8.3.0,>=8.2.2->spacy) (0.1.4)\n",
            "Requirement already satisfied: click<9.0.0,>=7.1.1 in /usr/local/lib/python3.10/dist-packages (from typer<0.10.0,>=0.3.0->spacy) (8.1.7)\n",
            "Requirement already satisfied: cloudpathlib<0.17.0,>=0.7.0 in /usr/local/lib/python3.10/dist-packages (from weasel<0.4.0,>=0.1.0->spacy) (0.16.0)\n",
            "Requirement already satisfied: MarkupSafe>=2.0 in /usr/local/lib/python3.10/dist-packages (from jinja2->spacy) (2.1.5)\n",
            "Collecting en-core-web-sm==3.7.1\n",
            "  Downloading https://github.com/explosion/spacy-models/releases/download/en_core_web_sm-3.7.1/en_core_web_sm-3.7.1-py3-none-any.whl (12.8 MB)\n",
            "\u001b[2K     \u001b[90m━━━━━━━━━━━━━━━━━━━━━━━━━━━━━━━━━━━━━━━━\u001b[0m \u001b[32m12.8/12.8 MB\u001b[0m \u001b[31m13.5 MB/s\u001b[0m eta \u001b[36m0:00:00\u001b[0m\n",
            "\u001b[?25hRequirement already satisfied: spacy<3.8.0,>=3.7.2 in /usr/local/lib/python3.10/dist-packages (from en-core-web-sm==3.7.1) (3.7.4)\n",
            "Requirement already satisfied: spacy-legacy<3.1.0,>=3.0.11 in /usr/local/lib/python3.10/dist-packages (from spacy<3.8.0,>=3.7.2->en-core-web-sm==3.7.1) (3.0.12)\n",
            "Requirement already satisfied: spacy-loggers<2.0.0,>=1.0.0 in /usr/local/lib/python3.10/dist-packages (from spacy<3.8.0,>=3.7.2->en-core-web-sm==3.7.1) (1.0.5)\n",
            "Requirement already satisfied: murmurhash<1.1.0,>=0.28.0 in /usr/local/lib/python3.10/dist-packages (from spacy<3.8.0,>=3.7.2->en-core-web-sm==3.7.1) (1.0.10)\n",
            "Requirement already satisfied: cymem<2.1.0,>=2.0.2 in /usr/local/lib/python3.10/dist-packages (from spacy<3.8.0,>=3.7.2->en-core-web-sm==3.7.1) (2.0.8)\n",
            "Requirement already satisfied: preshed<3.1.0,>=3.0.2 in /usr/local/lib/python3.10/dist-packages (from spacy<3.8.0,>=3.7.2->en-core-web-sm==3.7.1) (3.0.9)\n",
            "Requirement already satisfied: thinc<8.3.0,>=8.2.2 in /usr/local/lib/python3.10/dist-packages (from spacy<3.8.0,>=3.7.2->en-core-web-sm==3.7.1) (8.2.3)\n",
            "Requirement already satisfied: wasabi<1.2.0,>=0.9.1 in /usr/local/lib/python3.10/dist-packages (from spacy<3.8.0,>=3.7.2->en-core-web-sm==3.7.1) (1.1.2)\n",
            "Requirement already satisfied: srsly<3.0.0,>=2.4.3 in /usr/local/lib/python3.10/dist-packages (from spacy<3.8.0,>=3.7.2->en-core-web-sm==3.7.1) (2.4.8)\n",
            "Requirement already satisfied: catalogue<2.1.0,>=2.0.6 in /usr/local/lib/python3.10/dist-packages (from spacy<3.8.0,>=3.7.2->en-core-web-sm==3.7.1) (2.0.10)\n",
            "Requirement already satisfied: weasel<0.4.0,>=0.1.0 in /usr/local/lib/python3.10/dist-packages (from spacy<3.8.0,>=3.7.2->en-core-web-sm==3.7.1) (0.3.4)\n",
            "Requirement already satisfied: typer<0.10.0,>=0.3.0 in /usr/local/lib/python3.10/dist-packages (from spacy<3.8.0,>=3.7.2->en-core-web-sm==3.7.1) (0.9.4)\n",
            "Requirement already satisfied: smart-open<7.0.0,>=5.2.1 in /usr/local/lib/python3.10/dist-packages (from spacy<3.8.0,>=3.7.2->en-core-web-sm==3.7.1) (6.4.0)\n",
            "Requirement already satisfied: tqdm<5.0.0,>=4.38.0 in /usr/local/lib/python3.10/dist-packages (from spacy<3.8.0,>=3.7.2->en-core-web-sm==3.7.1) (4.66.2)\n",
            "Requirement already satisfied: requests<3.0.0,>=2.13.0 in /usr/local/lib/python3.10/dist-packages (from spacy<3.8.0,>=3.7.2->en-core-web-sm==3.7.1) (2.31.0)\n",
            "Requirement already satisfied: pydantic!=1.8,!=1.8.1,<3.0.0,>=1.7.4 in /usr/local/lib/python3.10/dist-packages (from spacy<3.8.0,>=3.7.2->en-core-web-sm==3.7.1) (2.7.0)\n",
            "Requirement already satisfied: jinja2 in /usr/local/lib/python3.10/dist-packages (from spacy<3.8.0,>=3.7.2->en-core-web-sm==3.7.1) (3.1.3)\n",
            "Requirement already satisfied: setuptools in /usr/local/lib/python3.10/dist-packages (from spacy<3.8.0,>=3.7.2->en-core-web-sm==3.7.1) (67.7.2)\n",
            "Requirement already satisfied: packaging>=20.0 in /usr/local/lib/python3.10/dist-packages (from spacy<3.8.0,>=3.7.2->en-core-web-sm==3.7.1) (24.0)\n",
            "Requirement already satisfied: langcodes<4.0.0,>=3.2.0 in /usr/local/lib/python3.10/dist-packages (from spacy<3.8.0,>=3.7.2->en-core-web-sm==3.7.1) (3.3.0)\n",
            "Requirement already satisfied: numpy>=1.19.0 in /usr/local/lib/python3.10/dist-packages (from spacy<3.8.0,>=3.7.2->en-core-web-sm==3.7.1) (1.25.2)\n",
            "Requirement already satisfied: annotated-types>=0.4.0 in /usr/local/lib/python3.10/dist-packages (from pydantic!=1.8,!=1.8.1,<3.0.0,>=1.7.4->spacy<3.8.0,>=3.7.2->en-core-web-sm==3.7.1) (0.6.0)\n",
            "Requirement already satisfied: pydantic-core==2.18.1 in /usr/local/lib/python3.10/dist-packages (from pydantic!=1.8,!=1.8.1,<3.0.0,>=1.7.4->spacy<3.8.0,>=3.7.2->en-core-web-sm==3.7.1) (2.18.1)\n",
            "Requirement already satisfied: typing-extensions>=4.6.1 in /usr/local/lib/python3.10/dist-packages (from pydantic!=1.8,!=1.8.1,<3.0.0,>=1.7.4->spacy<3.8.0,>=3.7.2->en-core-web-sm==3.7.1) (4.11.0)\n",
            "Requirement already satisfied: charset-normalizer<4,>=2 in /usr/local/lib/python3.10/dist-packages (from requests<3.0.0,>=2.13.0->spacy<3.8.0,>=3.7.2->en-core-web-sm==3.7.1) (3.3.2)\n",
            "Requirement already satisfied: idna<4,>=2.5 in /usr/local/lib/python3.10/dist-packages (from requests<3.0.0,>=2.13.0->spacy<3.8.0,>=3.7.2->en-core-web-sm==3.7.1) (3.7)\n",
            "Requirement already satisfied: urllib3<3,>=1.21.1 in /usr/local/lib/python3.10/dist-packages (from requests<3.0.0,>=2.13.0->spacy<3.8.0,>=3.7.2->en-core-web-sm==3.7.1) (2.0.7)\n",
            "Requirement already satisfied: certifi>=2017.4.17 in /usr/local/lib/python3.10/dist-packages (from requests<3.0.0,>=2.13.0->spacy<3.8.0,>=3.7.2->en-core-web-sm==3.7.1) (2024.2.2)\n",
            "Requirement already satisfied: blis<0.8.0,>=0.7.8 in /usr/local/lib/python3.10/dist-packages (from thinc<8.3.0,>=8.2.2->spacy<3.8.0,>=3.7.2->en-core-web-sm==3.7.1) (0.7.11)\n",
            "Requirement already satisfied: confection<1.0.0,>=0.0.1 in /usr/local/lib/python3.10/dist-packages (from thinc<8.3.0,>=8.2.2->spacy<3.8.0,>=3.7.2->en-core-web-sm==3.7.1) (0.1.4)\n",
            "Requirement already satisfied: click<9.0.0,>=7.1.1 in /usr/local/lib/python3.10/dist-packages (from typer<0.10.0,>=0.3.0->spacy<3.8.0,>=3.7.2->en-core-web-sm==3.7.1) (8.1.7)\n",
            "Requirement already satisfied: cloudpathlib<0.17.0,>=0.7.0 in /usr/local/lib/python3.10/dist-packages (from weasel<0.4.0,>=0.1.0->spacy<3.8.0,>=3.7.2->en-core-web-sm==3.7.1) (0.16.0)\n",
            "Requirement already satisfied: MarkupSafe>=2.0 in /usr/local/lib/python3.10/dist-packages (from jinja2->spacy<3.8.0,>=3.7.2->en-core-web-sm==3.7.1) (2.1.5)\n",
            "\u001b[38;5;2m✔ Download and installation successful\u001b[0m\n",
            "You can now load the package via spacy.load('en_core_web_sm')\n",
            "\u001b[38;5;3m⚠ Restart to reload dependencies\u001b[0m\n",
            "If you are in a Jupyter or Colab notebook, you may need to restart Python in\n",
            "order to load all the package's dependencies. You can do this by selecting the\n",
            "'Restart kernel' or 'Restart runtime' option.\n"
          ]
        }
      ],
      "source": [
        "!pip install spacy\n",
        "!python -m spacy download en_core_web_sm\n"
      ]
    },
    {
      "cell_type": "code",
      "execution_count": 26,
      "metadata": {
        "id": "XAS58ne1roLe",
        "colab": {
          "base_uri": "https://localhost:8080/"
        },
        "outputId": "643d97ed-3fcb-4a38-81d2-e895fad270e8"
      },
      "outputs": [
        {
          "output_type": "stream",
          "name": "stdout",
          "text": [
            "[('I', 'I', 'PRON'), ('felt', 'feel', 'VERB'), ('happy', 'happy', 'ADJ'), ('because', 'because', 'SCONJ'), ('I', 'I', 'PRON'), ('saw', 'see', 'VERB'), ('the', 'the', 'DET'), ('others', 'other', 'NOUN'), ('were', 'be', 'AUX'), ('happy', 'happy', 'ADJ'), ('and', 'and', 'CCONJ'), ('because', 'because', 'SCONJ'), ('I', 'I', 'PRON'), ('knew', 'know', 'VERB'), ('I', 'I', 'PRON'), ('should', 'should', 'AUX'), ('feel', 'feel', 'VERB'), ('happy', 'happy', 'ADJ'), (',', ',', 'PUNCT'), ('but', 'but', 'CCONJ'), ('I', 'I', 'PRON'), ('was', 'be', 'AUX'), ('n’t', 'not', 'PART'), ('really', 'really', 'ADV'), ('happy', 'happy', 'ADJ'), ('.', '.', 'PUNCT')]\n"
          ]
        }
      ],
      "source": [
        "import spacy\n",
        "#the spaCy English tokenizer\n",
        "nlp = spacy.load(\"en_core_web_sm\")\n",
        "def improved_pos_tagging(text):\n",
        "    doc = nlp(text)\n",
        "    return [(token.text, token.lemma_, token.pos_) for token in doc]\n",
        "#example usage to see if the function is working or not\n",
        "sample_text = \"I felt happy because I saw the others were happy and because I knew I should feel happy, but I wasn’t really happy.\"\n",
        "tags = improved_pos_tagging(sample_text)\n",
        "print(tags)\n"
      ]
    },
    {
      "cell_type": "code",
      "execution_count": 27,
      "metadata": {
        "id": "MTNfnHoyr5F1",
        "colab": {
          "base_uri": "https://localhost:8080/"
        },
        "outputId": "48f440eb-5f74-42ff-e9d5-7dfaa82436ca"
      },
      "outputs": [
        {
          "output_type": "stream",
          "name": "stdout",
          "text": [
            "['I', 'felt', 'happy', 'because', 'I', 'saw', 'the', 'others', 'be', 'happy', 'and', 'because', 'I', 'know', 'I', 'should', 'feel', 'happy', ',', 'but', 'I', 'be', 'n’t', 'really', 'happy', '.']\n"
          ]
        }
      ],
      "source": [
        "#Loading the spaCy English model\n",
        "nlp = spacy.load(\"en_core_web_sm\")\n",
        "#initializing the WordNet lemmatizer\n",
        "lemmatizer = WordNetLemmatizer()\n",
        "#helper function to convert spaCy POS tags to WordNet POS tags\n",
        "def get_wordnet_pos(spacy_token):\n",
        "    if spacy_token.pos_ in ('VERB', 'AUX'):\n",
        "        return wordnet.VERB\n",
        "    elif spacy_token.pos_ == 'NOUN':\n",
        "        return wordnet.NOUN\n",
        "    elif spacy_token.pos_ == 'ADJ':\n",
        "        return wordnet.ADJ\n",
        "    elif spacy_token.pos_ == 'ADV':\n",
        "        return wordnet.ADV\n",
        "    else:\n",
        "        return wordnet.NOUN  #default\n",
        "\n",
        "#the below is function to perform POS tagging and lemmatization\n",
        "def lemmatize_text(text):\n",
        "    doc = nlp(text)\n",
        "    lemmatized = [lemmatizer.lemmatize(token.text, get_wordnet_pos(token)) for token in doc]\n",
        "    return lemmatized\n",
        "\n",
        "# let's set up an example usage on a sample text\n",
        "#to see if it is really working\n",
        "sample_text = \"I felt happy because I saw the others were happy and because I knew I should feel happy, but I wasn’t really happy.\"\n",
        "lemmatized_text = lemmatize_text(sample_text)\n",
        "print(lemmatized_text)"
      ]
    },
    {
      "cell_type": "code",
      "execution_count": 28,
      "metadata": {
        "id": "Di28JLhesc4x",
        "colab": {
          "base_uri": "https://localhost:8080/"
        },
        "outputId": "6763f64d-7172-440b-bed1-8bc3bea87ef3"
      },
      "outputs": [
        {
          "output_type": "stream",
          "name": "stdout",
          "text": [
            "                                                                                                                                                                                cleaned_text                                                                                                                                                                                                         lemmatized_tokens\n",
            "36130                                                                                                             id say maybe made them feel foolish but that would be reeeeeeally reaching                                                                                                                                   [i, d, say, maybe, make, them, feel, foolish, but, that, would, be, reeeeeeally, reach]\n",
            "138065                                          i joined the lds church i admit to feeling somewhat ashamed of my family background in light of the mormon ideal that presented itself to me                                                          [i, join, the, lds, church, i, admit, to, feel, somewhat, ashamed, of, my, family, background, in, light, of, the, mormon, ideal, that, present, itself, to, me]\n",
            "146440           i must admit i didnt feel like hugging him not because i was angry with him but because i was so disgusted with myself i didnt feel i deserved his affection at that moment                 [i, must, admit, i, do, nt, feel, like, hug, him, not, because, i, be, angry, with, him, but, because, i, be, so, disgusted, with, myself, i, do, nt, feel, i, deserve, his, affection, at, that, moment]\n",
            "103337  i hate that i can still feel if any nerve is damaged badly enough or often enough it looses sensation and will eventually die and you become numb there why cant emotion be the same  [i, hate, that, i, can, still, feel, if, any, nerve, be, damage, badly, enough, or, often, enough, it, loose, sensation, and, will, eventually, die, and, you, become, numb, there, why, ca, nt, emotion, be, the, same]\n",
            "315528                                                                                                                                                     im actually feeling a little smug                                                                                                                                                                                   [i, m, actually, feel, a, little, smug]\n"
          ]
        }
      ],
      "source": [
        "emo_data['lemmatized_tokens'] = emo_data['cleaned_text'].apply(lemmatize_text)\n",
        "#the belowto check the new lemmatized tokens\n",
        "print(emo_data[['cleaned_text', 'lemmatized_tokens']].head())\n"
      ]
    },
    {
      "cell_type": "code",
      "execution_count": 29,
      "metadata": {
        "id": "_h1tJN_LaLpT"
      },
      "outputs": [],
      "source": [
        "# Applying the function to the DataFrame\n",
        "#emo_data['lemmatized_tokens'] = emo_data['tokens'].apply(lemmatize_series) took\n",
        "#ages to load so"
      ]
    },
    {
      "cell_type": "markdown",
      "source": [
        "my script incorporates advanced NLP techniques like Part-of-Speech (POS) tagging and lemmatization using both the NLTK and spaCy libraries, significantly enhancing text processing for detailed analysis. Here's a detailed look at my approach:\n",
        "\n",
        "nlp: A spaCy English language model (en_core_web_sm), which is lightweight but effective for many NLP tasks including tokenization, lemmatization, and POS tagging.\n",
        "WordNetLemmatizer: An NLTK lemmatizer that uses WordNet's lexical database to find lemmas of words.\n",
        "POS Tagging with spaCy: improved_pos_tagging uses spaCy's nlp to tokenize the text and generate tokens with attributes like text, lemma, and POS tag. This function returns these details for each token, aiding in comprehensive text analysis.\n",
        "lemmatize_text function also uses spaCy's model to tokenize the text but goes further to lemmatize each token using the WordNetLemmatizer from NLTK. It converts spaCy POS tags to WordNet's format using the get_wordnet_pos helper function, which helps in selecting the correct lemma for each word based on its POS tag.\n",
        "I first test these functions on a sample text to observe the output and ensure they function as expected.\n",
        "Application to DataFrame: I apply lemmatize_text across the 'cleaned_text' column of my emo_data DataFrame, adding a new column 'lemmatized_tokens' that contains the lemmatized text. This process aims to reduce words to their base or dictionary form, helping in standardizing the dataset for subsequent analysis like sentiment analysis or thematic studies.\n",
        "After processing, I print the initial cleaned text alongside the new lemmatized tokens for the first few entries in the DataFrame to verify the transformations.\n",
        "By integrating spaCy's efficient parsing capabilities with NLTK's lemmatization tools, my script is well-equipped to handle complex text processing tasks, ensuring that the text is analyzed more accurately and consistently. This setup is particularly useful in sentiment analysis and other NLP applications where understanding the root form of words enhances the analysis quality."
      ],
      "metadata": {
        "id": "CWIj07zVHQGa"
      }
    },
    {
      "cell_type": "markdown",
      "metadata": {
        "id": "X_8dAbCPCGT0"
      },
      "source": [
        "successfully implemented the DataFrame display settings to show the full content of the columns, and I've reviewed the top 10 rows to observe the results of my text preprocessing steps. This allows me to see how the text has been transformed at each stage, from the original text (text) to the cleaned text (cleaned_text), through tokenization (tokens), stop word filtering (filtered_tokens), expansion of contractions (expanded_text), and finally to lemmatization (lemmatized_tokens)."
      ]
    },
    {
      "cell_type": "code",
      "execution_count": 30,
      "metadata": {
        "id": "O3q9YF6V-ebQ",
        "colab": {
          "base_uri": "https://localhost:8080/"
        },
        "outputId": "492b5c46-a780-4757-999d-b60b1e8fa717"
      },
      "outputs": [
        {
          "output_type": "stream",
          "name": "stdout",
          "text": [
            "                                                                                                                                                                                                                                                                                               text                                                                                                                                                                                                                                                                                 cleaned_text                                                                                                                                                                                                                                                                                                                                                       tokens  \\\n",
            "283253                                                                                                                                                                                                                          i feel like this skill helps me most when i watch romantic comedies                                                                                                                                                                                                                          i feel like this skill helps me most when i watch romantic comedies                                                                                                                                                                                                                                                                            [i, feel, like, this, skill, helps, me, most, when, i, watch, romantic, comedies]   \n",
            "223161  i do have another slightly longer post coming that ill try and post sometime in the nearish future but in the mean time while the memory is still fresh and the order of the day is still feeling smug with myself i thought id post to let the world know that my church has a new website  i do have another slightly longer post coming that ill try and post sometime in the nearish future but in the mean time while the memory is still fresh and the order of the day is still feeling smug with myself i thought id post to let the world know that my church has a new website  [i, do, have, another, slightly, longer, post, coming, that, ill, try, and, post, sometime, in, the, nearish, future, but, in, the, mean, time, while, the, memory, is, still, fresh, and, the, order, of, the, day, is, still, feeling, smug, with, myself, i, thought, i, would, post, to, let, the, world, know, that, my, church, has, a, new, website]   \n",
            "290015    i tend to be responsible for making lots of decisions both at home and work so generally i dont let it phase me but if life is hectic and i am feeling pressured the queen of procrastination can sweep in and take over my little kingdom leading to hours wasted second guessing myself    i tend to be responsible for making lots of decisions both at home and work so generally i dont let it phase me but if life is hectic and i am feeling pressured the queen of procrastination can sweep in and take over my little kingdom leading to hours wasted second guessing myself           [i, tend, to, be, responsible, for, making, lots, of, decisions, both, at, home, and, work, so, generally, i, do, not, let, it, phase, me, but, if, life, is, hectic, and, i, am, feeling, pressured, the, queen, of, procrastination, can, sweep, in, and, take, over, my, little, kingdom, leading, to, hours, wasted, second, guessing, myself]   \n",
            "236322                                                                                                                                                                                           i feel like i have those awkward curves in the wrong places and anything skin tight just looks off                                                                                                                                                                                           i feel like i have those awkward curves in the wrong places and anything skin tight just looks off                                                                                                                                                                                                                                       [i, feel, like, i, have, those, awkward, curves, in, the, wrong, places, and, anything, skin, tight, just, looks, off]   \n",
            "301123                                                                                                                                                                                i feel it s a successful day when i ve gotten my daughter three real meals and we ve done any exercise at all                                                                                                                                                                                i feel it s a successful day when i ve gotten my daughter three real meals and we ve done any exercise at all                                                                                                                                                                                                                       [i, feel, it, s, a, successful, day, when, i, ve, gotten, my, daughter, three, real, meals, and, we, ve, done, any, exercise, at, all]   \n",
            "221338                                                                                                                                                                           i am feeling exceptionally privileged and cant wait to see the years ahead of me unfold with fun love and laughter                                                                                                                                                                           i am feeling exceptionally privileged and cant wait to see the years ahead of me unfold with fun love and laughter                                                                                                                                                                                                                 [i, am, feeling, exceptionally, privileged, and, can, not, wait, to, see, the, years, ahead, of, me, unfold, with, fun, love, and, laughter]   \n",
            "272576                                                                                                                                                                 i feel envious of my colleagues who work for new york houses if only because i can feel out of the loop out here in berkeley                                                                                                                                                                 i feel envious of my colleagues who work for new york houses if only because i can feel out of the loop out here in berkeley                                                                                                                                                                                                      [i, feel, envious, of, my, colleagues, who, work, for, new, york, houses, if, only, because, i, can, feel, out, of, the, loop, out, here, in, berkeley]   \n",
            "314820                                                                                                                                                                                                                                                                               when i learned                                                                                                                                                                                                                                                                               when i learned                                                                                                                                                                                                                                                                                                                                           [when, i, learned]   \n",
            "25540                                                                                                                                                                                       i feel a blog is a useful platform for your practical work and intend to keep updating mine from now on                                                                                                                                                                                      i feel a blog is a useful platform for your practical work and intend to keep updating mine from now on                                                                                                                                                                                                                                [i, feel, a, blog, is, a, useful, platform, for, your, practical, work, and, intend, to, keep, updating, mine, from, now, on]   \n",
            "8643                                                                                                                                                                                                            i know about them that in their dark little worlds they are lonely and feel unloved                                                                                                                                                                                                          i know about them that in their dark little worlds they are lonely and feel unloved                                                                                                                                                                                                                                                         [i, know, about, them, that, in, their, dark, little, worlds, they, are, lonely, and, feel, unloved]   \n",
            "376358                                                                                                                                                                                                                i am being just as entitled by feeling that others should be more considerate                                                                                                                                                                                                                i am being just as entitled by feeling that others should be more considerate                                                                                                                                                                                                                                                           [i, am, being, just, as, entitled, by, feeling, that, others, should, be, more, consi, woulderate]   \n",
            "363838                                                                                                                                                                                  i also feel strongly about supporting businesses that are committed to eco conscious products and practices                                                                                                                                                                                  i also feel strongly about supporting businesses that are committed to eco conscious products and practices                                                                                                                                                                                                                                 [i, also, feel, strongly, about, supporting, businesses, that, are, committed, to, eco, conscious, products, and, practices]   \n",
            "26407                                                                                                                                                                                                                                                    i feel very determined to leave this house                                                                                                                                                                                                                                                   i feel very determined to leave this house                                                                                                                                                                                                                                                                                                          [i, feel, very, determined, to, leave, this, house]   \n",
            "223594                                                                          i realized what was happening though and have completely come to the realization that i need to cling to the cross is when i started feeling useful and like i was really doing what was gods will for my life here                                                                          i realized what was happening though and have completely come to the realization that i need to cling to the cross is when i started feeling useful and like i was really doing what was gods will for my life here                                                                                                [i, realized, what, was, happening, though, and, have, completely, come, to, the, realization, that, i, need, to, cling, to, the, cross, is, when, i, started, feeling, useful, and, like, i, was, really, doing, what, was, gods, will, for, my, life, here]   \n",
            "415922                                                                                                                                                                                                                                 i feel a little restless but today i felt free and wonderful                                                                                                                                                                                                                                 i feel a little restless but today i felt free and wonderful                                                                                                                                                                                                                                                                                    [i, feel, a, little, restless, but, today, i, felt, free, and, wonderful]   \n",
            "\n",
            "                                                                                                                                                                                                                                                                                                                                      lemmatized_tokens  \n",
            "283253                                                                                                                                                                                                                                                                   [i, feel, like, this, skill, help, me, most, when, i, watch, romantic, comedy]  \n",
            "223161  [i, do, have, another, slightly, long, post, come, that, ill, try, and, post, sometime, in, the, nearish, future, but, in, the, mean, time, while, the, memory, be, still, fresh, and, the, order, of, the, day, be, still, feel, smug, with, myself, i, think, i, d, post, to, let, the, world, know, that, my, church, have, a, new, website]  \n",
            "290015                [i, tend, to, be, responsible, for, make, lot, of, decision, both, at, home, and, work, so, generally, i, do, nt, let, it, phase, me, but, if, life, be, hectic, and, i, be, feel, pressure, the, queen, of, procrastination, can, sweep, in, and, take, over, my, little, kingdom, lead, to, hour, waste, second, guess, myself]  \n",
            "236322                                                                                                                                                                                                                              [i, feel, like, i, have, those, awkward, curve, in, the, wrong, place, and, anything, skin, tight, just, look, off]  \n",
            "301123                                                                                                                                                                                                                 [i, feel, it, s, a, successful, day, when, i, ve, get, my, daughter, three, real, meal, and, we, ve, do, any, exercise, at, all]  \n",
            "221338                                                                                                                                                                                                           [i, be, feel, exceptionally, privileged, and, ca, nt, wait, to, see, the, year, ahead, of, me, unfold, with, fun, love, and, laughter]  \n",
            "272576                                                                                                                                                                                            [i, feel, envious, of, my, colleague, who, work, for, new, york, house, if, only, because, i, can, feel, out, of, the, loop, out, here, in, berkeley]  \n",
            "314820                                                                                                                                                                                                                                                                                                                                 [when, i, learn]  \n",
            "25540                                                                                                                                                                                                                       [i, feel, a, blog, be, a, useful, platform, for, your, practical, work, and, intend, to, keep, update, mine, from, now, on]  \n",
            "8643                                                                                                                                                                                                                                                 [i, know, about, them, that, in, their, dark, little, world, they, be, lonely, and, feel, unloved]  \n",
            "376358                                                                                                                                                                                                                                                            [i, be, be, just, as, entitle, by, feel, that, others, should, be, more, considerate]  \n",
            "363838                                                                                                                                                                                                                                [i, also, feel, strongly, about, support, business, that, be, commit, to, eco, conscious, product, and, practice]  \n",
            "26407                                                                                                                                                                                                                                                                                               [i, feel, very, determined, to, leave, this, house]  \n",
            "223594                                                                                                    [i, realize, what, be, happen, though, and, have, completely, come, to, the, realization, that, i, need, to, cling, to, the, cross, be, when, i, start, feel, useful, and, like, i, be, really, do, what, be, god, will, for, my, life, here]  \n",
            "415922                                                                                                                                                                                                                                                                        [i, feel, a, little, restless, but, today, i, felt, free, and, wonderful]  \n"
          ]
        }
      ],
      "source": [
        "#randomly sampling 15 tweets for review to see\n",
        "sampled_tweets = emo_data.sample(n=15, random_state=42) #42 is random\n",
        "print(sampled_tweets[['text', 'cleaned_text', 'tokens', 'lemmatized_tokens']])"
      ]
    },
    {
      "cell_type": "markdown",
      "metadata": {
        "id": "cNZ-O9EwMiLv"
      },
      "source": [
        "Feature Extraction"
      ]
    },
    {
      "cell_type": "code",
      "execution_count": 31,
      "metadata": {
        "id": "uPXVN_A7O8dy"
      },
      "outputs": [],
      "source": [
        "from sklearn.feature_extraction.text import CountVectorizer\n",
        "vectorizer = CountVectorizer(ngram_range=(1, 2))  #limit to unigrams and bigrams\n",
        "ngrams = vectorizer.fit_transform(emo_data['cleaned_text'])\n",
        "df_ngrams = pd.DataFrame(ngrams.toarray(), columns=vectorizer.get_feature_names_out())"
      ]
    },
    {
      "cell_type": "code",
      "source": [
        "sid = SentimentIntensityAnalyzer()\n",
        "bert_classifier = pipeline('sentiment-analysis', model='nlptown/bert-base-multilingual-uncased-sentiment')\n",
        "def get_sentiment_scores(text):\n",
        "    # VADER Sentiment Analysis\n",
        "    vader_scores = sid.polarity_scores(text)\n",
        "    # Optional: BERT Sentiment Analysis (for deeper analysis or if VADER is uncertain)\n",
        "    bert_scores = bert_classifier(text)[0] if abs(vader_scores['compound']) < 0.1 else None\n",
        "    return vader_scores, bert_scores"
      ],
      "metadata": {
        "colab": {
          "base_uri": "https://localhost:8080/",
          "height": 177,
          "referenced_widgets": [
            "0dc5cba8c12148f98395caf9fd58aae5",
            "a70d2d8a1d1745219b2d7d099a621134",
            "048b579bc6ff446fb46d3f9f275c84a5",
            "6028b0a0dd4b45cd99553098ca075c00",
            "650b93bdf7024d2fbcde860a737fd9cd",
            "592c597d2f2947c9bad8855601305859",
            "f2891cbdec4f4b47bf8e74c2d6edcb03",
            "69d5be3d128c4cac9bf38089013f3371",
            "ac2f27f72c0648ad9d37e39fbe9c7f48",
            "f13f1660389448d19f1436ec922341c0",
            "1cdb2f1420ed447eb96ae08a60b32a4f",
            "fe3e9a0bdea1449a9a62718d597542e1",
            "030788528c79423dae00d0a0c5981c0d",
            "efc7ace0cb4940228605b8b1e603b8ef",
            "913ab47cb8214afaab42514c44f0979a",
            "98857e96af9e4233a8eb1f3265f4fb28",
            "c97f5cdeb9e84d6e85f9287f581fbdb5",
            "4e6709e9c59f49218252e99d74d5e35b",
            "e4fe242056104af8a74cd7a001b48e96",
            "3ee3e3cbcd054066b15962035f9ed866",
            "d5560759d85a4027a7be9515295ef7cc",
            "dd9b7b7c54864a69894a51c56f1439a1",
            "95a65a9459904284812c646a081a819b",
            "dbb020b719f141039487bf6b724b8cf8",
            "f17e64c5316a43b9b3eea9c27ce0bb05",
            "89f0bf1191074a51a31d2c6d0e70f580",
            "ff635c1da0b84d33a6bfd292fbff6d31",
            "cbfcd8b9dfab4e64889903ac7700f624",
            "34d5b6f5886341c0b4b461336f82ab51",
            "50360917efa741359c42ab624da0cfce",
            "0c9a3d33f9fc4754b0318f15198c2631",
            "a9ddf622d23844b5acc0e2eeac297780",
            "a60d3353c90f494eaf9d6498a9845c42",
            "274aaaf504c44ad28a0589926d74d290",
            "9ffbde448c9e4228b7f5c7e7c4d53005",
            "b3b6877dfc6b4c71b81e168f40ce3e66",
            "1f67ca48146741cfa9cf775e6443f442",
            "c10eb111a1884d93ad15dc4cd7e8e125",
            "7a4438ff677443bbb36a9a08e07a0372",
            "ef25c73d2f1c483aafea14df102e492c",
            "351552e4959c41c59d32d6a85de1414a",
            "77d53c8012ac47138dc53645a74e6f84",
            "4bf221094fce4ed68c23b9cbf67305a0",
            "d6b7a7706da34d83850fa8d72786e3bd",
            "09da48d696e247cebd4342ba269f8462",
            "0e4fa7fcc0814ce38acbe049137bdfc9",
            "c0e8906d2bfa429384977c0485441431",
            "a5e0fc8b86ab4696b42e14c97ed95a7f",
            "d8d3d76a357e46669fd606d96af79d87",
            "1156443617f5428dadfc7c6fa77c8808",
            "5c2dcfd2a705460b9b97f62d19c9263c",
            "a65828fed69e48e6ae80663e854f3019",
            "6ea9e42168224889b7df85e56c43e590",
            "725bbd4911784bd182e161abd61a996e",
            "bae289d1df354caf9ba2b69ed2db92ff"
          ]
        },
        "id": "8oG1PM96SUYX",
        "outputId": "678b5393-7e40-40ef-9b4c-76d401ef3504"
      },
      "execution_count": 32,
      "outputs": [
        {
          "output_type": "display_data",
          "data": {
            "text/plain": [
              "config.json:   0%|          | 0.00/953 [00:00<?, ?B/s]"
            ],
            "application/vnd.jupyter.widget-view+json": {
              "version_major": 2,
              "version_minor": 0,
              "model_id": "0dc5cba8c12148f98395caf9fd58aae5"
            }
          },
          "metadata": {}
        },
        {
          "output_type": "display_data",
          "data": {
            "text/plain": [
              "pytorch_model.bin:   0%|          | 0.00/669M [00:00<?, ?B/s]"
            ],
            "application/vnd.jupyter.widget-view+json": {
              "version_major": 2,
              "version_minor": 0,
              "model_id": "fe3e9a0bdea1449a9a62718d597542e1"
            }
          },
          "metadata": {}
        },
        {
          "output_type": "display_data",
          "data": {
            "text/plain": [
              "tokenizer_config.json:   0%|          | 0.00/39.0 [00:00<?, ?B/s]"
            ],
            "application/vnd.jupyter.widget-view+json": {
              "version_major": 2,
              "version_minor": 0,
              "model_id": "95a65a9459904284812c646a081a819b"
            }
          },
          "metadata": {}
        },
        {
          "output_type": "display_data",
          "data": {
            "text/plain": [
              "vocab.txt:   0%|          | 0.00/872k [00:00<?, ?B/s]"
            ],
            "application/vnd.jupyter.widget-view+json": {
              "version_major": 2,
              "version_minor": 0,
              "model_id": "274aaaf504c44ad28a0589926d74d290"
            }
          },
          "metadata": {}
        },
        {
          "output_type": "display_data",
          "data": {
            "text/plain": [
              "special_tokens_map.json:   0%|          | 0.00/112 [00:00<?, ?B/s]"
            ],
            "application/vnd.jupyter.widget-view+json": {
              "version_major": 2,
              "version_minor": 0,
              "model_id": "09da48d696e247cebd4342ba269f8462"
            }
          },
          "metadata": {}
        }
      ]
    },
    {
      "cell_type": "code",
      "source": [
        "results = emo_data['text'].apply(lambda x: get_sentiment_scores(x))\n",
        "#splitting results into separate columns\n",
        "emo_data['vader_neg'] = results.apply(lambda x: x[0]['neg'])\n",
        "emo_data['vader_neu'] = results.apply(lambda x: x[0]['neu'])\n",
        "emo_data['vader_pos'] = results.apply(lambda x: x[0]['pos'])\n",
        "emo_data['vader_compound'] = results.apply(lambda x: x[0]['compound'])\n",
        "# when using BERT scores, it will extract them similarly\n",
        "emo_data['bert_score'] = results.apply(lambda x: x[1]['label'] if x[1] else None)\n",
        "emo_data['bert_confidence'] = results.apply(lambda x: x[1]['score'] if x[1] else None)"
      ],
      "metadata": {
        "id": "gZRr0Z4jTyIi"
      },
      "execution_count": 33,
      "outputs": []
    },
    {
      "cell_type": "code",
      "source": [
        "#to check the new columns\n",
        "print(emo_data.head())\n",
        "#the DataFrame to a CSV file\n",
        "emo_data.to_csv('tweets_with_sentiment_scores.csv', index=False)\n"
      ],
      "metadata": {
        "colab": {
          "base_uri": "https://localhost:8080/"
        },
        "id": "__tX4-05UBPi",
        "outputId": "94dc418f-09ce-49a5-bb07-c14f82a203b7"
      },
      "execution_count": 34,
      "outputs": [
        {
          "output_type": "stream",
          "name": "stdout",
          "text": [
            "        Unnamed: 0                                                                                                                                                                                  text  label                                                                                                                                                                          cleaned_text                                                                                                                                                                           expanded_text                                                                                                                                                                                                                        tokens  \\\n",
            "36130        36130                                                                                                            id say maybe made them feel foolish but that would be reeeeeeally reaching      0                                                                                                            id say maybe made them feel foolish but that would be reeeeeeally reaching                                                                                                         i would say maybe made them feel foolish but that would be reeeeeeally reaching                                                                                                                                [i, would, say, maybe, made, them, feel, foolish, but, that, would, be, reeeeeeally, reaching]   \n",
            "138065      138065                                          i joined the lds church i admit to feeling somewhat ashamed of my family background in light of the mormon ideal that presented itself to me      0                                          i joined the lds church i admit to feeling somewhat ashamed of my family background in light of the mormon ideal that presented itself to me                                     i joined the lds church i admit to feeling somewhat ashamed of my family background in light of the mormon i wouldeal that presented it iself to me                                              [i, joined, the, lds, church, i, admit, to, feeling, somewhat, ashamed, of, my, family, background, in, light, of, the, mormon, i, wouldeal, that, presented, it, iself, to, me]   \n",
            "146440      146440           i must admit i didnt feel like hugging him not because i was angry with him but because i was so disgusted with myself i didnt feel i deserved his affection at that moment      3           i must admit i didnt feel like hugging him not because i was angry with him but because i was so disgusted with myself i didnt feel i deserved his affection at that moment         i must admit i did not feel like hugging him not because i was angry with him but because i was so disgusted with myself i did not feel i deserved his affection at that moment          [i, must, admit, i, did, not, feel, like, hugging, him, not, because, i, was, angry, with, him, but, because, i, was, so, disgusted, with, myself, i, did, not, feel, i, deserved, his, affection, at, that, moment]   \n",
            "103337      103337  i hate that i can still feel if any nerve is damaged badly enough or often enough it looses sensation and will eventually die and you become numb there why cant emotion be the same      0  i hate that i can still feel if any nerve is damaged badly enough or often enough it looses sensation and will eventually die and you become numb there why cant emotion be the same  i hate that i can still feel if any nerve is damaged badly enough or often enough it looses sensation and will eventually die and you become numb there why cannot emotion be the same  [i, hate, that, i, can, still, feel, if, any, nerve, is, damaged, badly, enough, or, often, enough, it, looses, sensation, and, will, eventually, die, and, you, become, numb, there, why, can, not, emotion, be, the, same]   \n",
            "315528      315528                                                                                                                                                     im actually feeling a little smug      1                                                                                                                                                     im actually feeling a little smug                                                                                                                                                       im actually feeling a little smug                                                                                                                                                                                      [im, actually, feeling, a, little, smug]   \n",
            "\n",
            "                                                                                                                                                                                                               lemmatized_tokens  vader_neg  vader_neu  vader_pos  vader_compound bert_score  bert_confidence  \n",
            "36130                                                                                                                                    [i, d, say, maybe, make, them, feel, foolish, but, that, would, be, reeeeeeally, reach]      0.105      0.746      0.149          0.1655       None              NaN  \n",
            "138065                                                          [i, join, the, lds, church, i, admit, to, feel, somewhat, ashamed, of, my, family, background, in, light, of, the, mormon, ideal, that, present, itself, to, me]      0.095      0.678      0.227          0.4391       None              NaN  \n",
            "146440                 [i, must, admit, i, do, nt, feel, like, hug, him, not, because, i, be, angry, with, him, but, because, i, be, so, disgusted, with, myself, i, do, nt, feel, i, deserve, his, affection, at, that, moment]      0.237      0.562      0.201         -0.3441       None              NaN  \n",
            "103337  [i, hate, that, i, can, still, feel, if, any, nerve, be, damage, badly, enough, or, often, enough, it, loose, sensation, and, will, eventually, die, and, you, become, numb, there, why, ca, nt, emotion, be, the, same]      0.395      0.605      0.000         -0.9485       None              NaN  \n",
            "315528                                                                                                                                                                                   [i, m, actually, feel, a, little, smug]      0.000      0.499      0.501          0.2516       None              NaN  \n"
          ]
        }
      ]
    },
    {
      "cell_type": "code",
      "source": [
        "emo_data['word_count'] = emo_data['cleaned_text'].apply(lambda x: len(x.split()))\n",
        "emo_data['char_count'] = emo_data['cleaned_text'].apply(len)\n",
        "emo_data['exclamation_marks'] = emo_data['cleaned_text'].apply(lambda x: x.count('!'))\n",
        "emo_data['question_marks'] = emo_data['cleaned_text'].apply(lambda x: x.count('?'))"
      ],
      "metadata": {
        "id": "1FPt6IlHVXE-"
      },
      "execution_count": 35,
      "outputs": []
    },
    {
      "cell_type": "code",
      "source": [
        "pip install dask[complete]  # This installs Dask along with common dependencies like distributed for parallel execution"
      ],
      "metadata": {
        "id": "nYdzD8fe4xBc",
        "colab": {
          "base_uri": "https://localhost:8080/"
        },
        "outputId": "4c0c103b-f308-439d-a204-7d6819e2db19"
      },
      "execution_count": 36,
      "outputs": [
        {
          "output_type": "stream",
          "name": "stdout",
          "text": [
            "Requirement already satisfied: dask[complete] in /usr/local/lib/python3.10/dist-packages (2023.8.1)\n",
            "Requirement already satisfied: click>=8.0 in /usr/local/lib/python3.10/dist-packages (from dask[complete]) (8.1.7)\n",
            "Requirement already satisfied: cloudpickle>=1.5.0 in /usr/local/lib/python3.10/dist-packages (from dask[complete]) (2.2.1)\n",
            "Requirement already satisfied: fsspec>=2021.09.0 in /usr/local/lib/python3.10/dist-packages (from dask[complete]) (2023.6.0)\n",
            "Requirement already satisfied: packaging>=20.0 in /usr/local/lib/python3.10/dist-packages (from dask[complete]) (24.0)\n",
            "Requirement already satisfied: partd>=1.2.0 in /usr/local/lib/python3.10/dist-packages (from dask[complete]) (1.4.1)\n",
            "Requirement already satisfied: pyyaml>=5.3.1 in /usr/local/lib/python3.10/dist-packages (from dask[complete]) (6.0.1)\n",
            "Requirement already satisfied: toolz>=0.10.0 in /usr/local/lib/python3.10/dist-packages (from dask[complete]) (0.12.1)\n",
            "Requirement already satisfied: importlib-metadata>=4.13.0 in /usr/local/lib/python3.10/dist-packages (from dask[complete]) (7.1.0)\n",
            "Requirement already satisfied: pyarrow>=7.0 in /usr/local/lib/python3.10/dist-packages (from dask[complete]) (14.0.2)\n",
            "Collecting lz4>=4.3.2 (from dask[complete])\n",
            "  Downloading lz4-4.3.3-cp310-cp310-manylinux_2_17_x86_64.manylinux2014_x86_64.whl (1.3 MB)\n",
            "\u001b[2K     \u001b[90m━━━━━━━━━━━━━━━━━━━━━━━━━━━━━━━━━━━━━━━━\u001b[0m \u001b[32m1.3/1.3 MB\u001b[0m \u001b[31m11.1 MB/s\u001b[0m eta \u001b[36m0:00:00\u001b[0m\n",
            "\u001b[?25hRequirement already satisfied: zipp>=0.5 in /usr/local/lib/python3.10/dist-packages (from importlib-metadata>=4.13.0->dask[complete]) (3.18.1)\n",
            "Requirement already satisfied: locket in /usr/local/lib/python3.10/dist-packages (from partd>=1.2.0->dask[complete]) (1.0.0)\n",
            "Requirement already satisfied: numpy>=1.16.6 in /usr/local/lib/python3.10/dist-packages (from pyarrow>=7.0->dask[complete]) (1.25.2)\n",
            "Requirement already satisfied: distributed==2023.8.1 in /usr/local/lib/python3.10/dist-packages (from dask[complete]) (2023.8.1)\n",
            "Requirement already satisfied: bokeh>=2.4.2 in /usr/local/lib/python3.10/dist-packages (from dask[complete]) (3.3.4)\n",
            "Requirement already satisfied: jinja2>=2.10.3 in /usr/local/lib/python3.10/dist-packages (from dask[complete]) (3.1.3)\n",
            "Requirement already satisfied: pandas>=1.3 in /usr/local/lib/python3.10/dist-packages (from dask[complete]) (2.0.3)\n",
            "Requirement already satisfied: msgpack>=1.0.0 in /usr/local/lib/python3.10/dist-packages (from distributed==2023.8.1->dask[complete]) (1.0.8)\n",
            "Requirement already satisfied: psutil>=5.7.2 in /usr/local/lib/python3.10/dist-packages (from distributed==2023.8.1->dask[complete]) (5.9.5)\n",
            "Requirement already satisfied: sortedcontainers>=2.0.5 in /usr/local/lib/python3.10/dist-packages (from distributed==2023.8.1->dask[complete]) (2.4.0)\n",
            "Requirement already satisfied: tblib>=1.6.0 in /usr/local/lib/python3.10/dist-packages (from distributed==2023.8.1->dask[complete]) (3.0.0)\n",
            "Requirement already satisfied: tornado>=6.0.4 in /usr/local/lib/python3.10/dist-packages (from distributed==2023.8.1->dask[complete]) (6.3.3)\n",
            "Requirement already satisfied: urllib3>=1.24.3 in /usr/local/lib/python3.10/dist-packages (from distributed==2023.8.1->dask[complete]) (2.0.7)\n",
            "Requirement already satisfied: zict>=2.2.0 in /usr/local/lib/python3.10/dist-packages (from distributed==2023.8.1->dask[complete]) (3.0.0)\n",
            "Requirement already satisfied: contourpy>=1 in /usr/local/lib/python3.10/dist-packages (from bokeh>=2.4.2->dask[complete]) (1.2.1)\n",
            "Requirement already satisfied: pillow>=7.1.0 in /usr/local/lib/python3.10/dist-packages (from bokeh>=2.4.2->dask[complete]) (9.4.0)\n",
            "Requirement already satisfied: xyzservices>=2021.09.1 in /usr/local/lib/python3.10/dist-packages (from bokeh>=2.4.2->dask[complete]) (2024.4.0)\n",
            "Requirement already satisfied: MarkupSafe>=2.0 in /usr/local/lib/python3.10/dist-packages (from jinja2>=2.10.3->dask[complete]) (2.1.5)\n",
            "Requirement already satisfied: python-dateutil>=2.8.2 in /usr/local/lib/python3.10/dist-packages (from pandas>=1.3->dask[complete]) (2.8.2)\n",
            "Requirement already satisfied: pytz>=2020.1 in /usr/local/lib/python3.10/dist-packages (from pandas>=1.3->dask[complete]) (2023.4)\n",
            "Requirement already satisfied: tzdata>=2022.1 in /usr/local/lib/python3.10/dist-packages (from pandas>=1.3->dask[complete]) (2024.1)\n",
            "Requirement already satisfied: six>=1.5 in /usr/local/lib/python3.10/dist-packages (from python-dateutil>=2.8.2->pandas>=1.3->dask[complete]) (1.16.0)\n",
            "Installing collected packages: lz4\n",
            "Successfully installed lz4-4.3.3\n"
          ]
        }
      ]
    },
    {
      "cell_type": "code",
      "source": [
        "!pip install dask_ml"
      ],
      "metadata": {
        "colab": {
          "base_uri": "https://localhost:8080/"
        },
        "id": "nS6bOKA5H2v2",
        "outputId": "438622a6-1a7b-43ff-d56b-9931ee26d3bf"
      },
      "execution_count": 37,
      "outputs": [
        {
          "output_type": "stream",
          "name": "stdout",
          "text": [
            "Collecting dask_ml\n",
            "  Downloading dask_ml-2024.4.4-py3-none-any.whl (149 kB)\n",
            "\u001b[2K     \u001b[90m━━━━━━━━━━━━━━━━━━━━━━━━━━━━━━━━━━━━━━━━\u001b[0m \u001b[32m149.8/149.8 kB\u001b[0m \u001b[31m2.9 MB/s\u001b[0m eta \u001b[36m0:00:00\u001b[0m\n",
            "\u001b[?25hCollecting dask-glm>=0.2.0 (from dask_ml)\n",
            "  Downloading dask_glm-0.3.2-py2.py3-none-any.whl (13 kB)\n",
            "Requirement already satisfied: dask[array,dataframe]>=2.4.0 in /usr/local/lib/python3.10/dist-packages (from dask_ml) (2023.8.1)\n",
            "Requirement already satisfied: distributed>=2.4.0 in /usr/local/lib/python3.10/dist-packages (from dask_ml) (2023.8.1)\n",
            "Requirement already satisfied: multipledispatch>=0.4.9 in /usr/local/lib/python3.10/dist-packages (from dask_ml) (1.0.0)\n",
            "Requirement already satisfied: numba>=0.51.0 in /usr/local/lib/python3.10/dist-packages (from dask_ml) (0.58.1)\n",
            "Requirement already satisfied: numpy>=1.20.0 in /usr/local/lib/python3.10/dist-packages (from dask_ml) (1.25.2)\n",
            "Requirement already satisfied: packaging in /usr/local/lib/python3.10/dist-packages (from dask_ml) (24.0)\n",
            "Requirement already satisfied: pandas>=0.24.2 in /usr/local/lib/python3.10/dist-packages (from dask_ml) (2.0.3)\n",
            "Requirement already satisfied: scikit-learn>=1.2.0 in /usr/local/lib/python3.10/dist-packages (from dask_ml) (1.2.2)\n",
            "Requirement already satisfied: scipy in /usr/local/lib/python3.10/dist-packages (from dask_ml) (1.11.4)\n",
            "Requirement already satisfied: cloudpickle>=0.2.2 in /usr/local/lib/python3.10/dist-packages (from dask-glm>=0.2.0->dask_ml) (2.2.1)\n",
            "Collecting sparse>=0.7.0 (from dask-glm>=0.2.0->dask_ml)\n",
            "  Downloading sparse-0.15.1-py2.py3-none-any.whl (116 kB)\n",
            "\u001b[2K     \u001b[90m━━━━━━━━━━━━━━━━━━━━━━━━━━━━━━━━━━━━━━━━\u001b[0m \u001b[32m116.3/116.3 kB\u001b[0m \u001b[31m16.9 MB/s\u001b[0m eta \u001b[36m0:00:00\u001b[0m\n",
            "\u001b[?25hRequirement already satisfied: click>=8.0 in /usr/local/lib/python3.10/dist-packages (from dask[array,dataframe]>=2.4.0->dask_ml) (8.1.7)\n",
            "Requirement already satisfied: fsspec>=2021.09.0 in /usr/local/lib/python3.10/dist-packages (from dask[array,dataframe]>=2.4.0->dask_ml) (2023.6.0)\n",
            "Requirement already satisfied: partd>=1.2.0 in /usr/local/lib/python3.10/dist-packages (from dask[array,dataframe]>=2.4.0->dask_ml) (1.4.1)\n",
            "Requirement already satisfied: pyyaml>=5.3.1 in /usr/local/lib/python3.10/dist-packages (from dask[array,dataframe]>=2.4.0->dask_ml) (6.0.1)\n",
            "Requirement already satisfied: toolz>=0.10.0 in /usr/local/lib/python3.10/dist-packages (from dask[array,dataframe]>=2.4.0->dask_ml) (0.12.1)\n",
            "Requirement already satisfied: importlib-metadata>=4.13.0 in /usr/local/lib/python3.10/dist-packages (from dask[array,dataframe]>=2.4.0->dask_ml) (7.1.0)\n",
            "Requirement already satisfied: jinja2>=2.10.3 in /usr/local/lib/python3.10/dist-packages (from distributed>=2.4.0->dask_ml) (3.1.3)\n",
            "Requirement already satisfied: locket>=1.0.0 in /usr/local/lib/python3.10/dist-packages (from distributed>=2.4.0->dask_ml) (1.0.0)\n",
            "Requirement already satisfied: msgpack>=1.0.0 in /usr/local/lib/python3.10/dist-packages (from distributed>=2.4.0->dask_ml) (1.0.8)\n",
            "Requirement already satisfied: psutil>=5.7.2 in /usr/local/lib/python3.10/dist-packages (from distributed>=2.4.0->dask_ml) (5.9.5)\n",
            "Requirement already satisfied: sortedcontainers>=2.0.5 in /usr/local/lib/python3.10/dist-packages (from distributed>=2.4.0->dask_ml) (2.4.0)\n",
            "Requirement already satisfied: tblib>=1.6.0 in /usr/local/lib/python3.10/dist-packages (from distributed>=2.4.0->dask_ml) (3.0.0)\n",
            "Requirement already satisfied: tornado>=6.0.4 in /usr/local/lib/python3.10/dist-packages (from distributed>=2.4.0->dask_ml) (6.3.3)\n",
            "Requirement already satisfied: urllib3>=1.24.3 in /usr/local/lib/python3.10/dist-packages (from distributed>=2.4.0->dask_ml) (2.0.7)\n",
            "Requirement already satisfied: zict>=2.2.0 in /usr/local/lib/python3.10/dist-packages (from distributed>=2.4.0->dask_ml) (3.0.0)\n",
            "Requirement already satisfied: llvmlite<0.42,>=0.41.0dev0 in /usr/local/lib/python3.10/dist-packages (from numba>=0.51.0->dask_ml) (0.41.1)\n",
            "Requirement already satisfied: python-dateutil>=2.8.2 in /usr/local/lib/python3.10/dist-packages (from pandas>=0.24.2->dask_ml) (2.8.2)\n",
            "Requirement already satisfied: pytz>=2020.1 in /usr/local/lib/python3.10/dist-packages (from pandas>=0.24.2->dask_ml) (2023.4)\n",
            "Requirement already satisfied: tzdata>=2022.1 in /usr/local/lib/python3.10/dist-packages (from pandas>=0.24.2->dask_ml) (2024.1)\n",
            "Requirement already satisfied: joblib>=1.1.1 in /usr/local/lib/python3.10/dist-packages (from scikit-learn>=1.2.0->dask_ml) (1.4.0)\n",
            "Requirement already satisfied: threadpoolctl>=2.0.0 in /usr/local/lib/python3.10/dist-packages (from scikit-learn>=1.2.0->dask_ml) (3.4.0)\n",
            "Requirement already satisfied: zipp>=0.5 in /usr/local/lib/python3.10/dist-packages (from importlib-metadata>=4.13.0->dask[array,dataframe]>=2.4.0->dask_ml) (3.18.1)\n",
            "Requirement already satisfied: MarkupSafe>=2.0 in /usr/local/lib/python3.10/dist-packages (from jinja2>=2.10.3->distributed>=2.4.0->dask_ml) (2.1.5)\n",
            "Requirement already satisfied: six>=1.5 in /usr/local/lib/python3.10/dist-packages (from python-dateutil>=2.8.2->pandas>=0.24.2->dask_ml) (1.16.0)\n",
            "Installing collected packages: sparse, dask-glm, dask_ml\n",
            "Successfully installed dask-glm-0.3.2 dask_ml-2024.4.4 sparse-0.15.1\n"
          ]
        }
      ]
    },
    {
      "cell_type": "code",
      "source": [
        "pip install dask[distributed]  # Includes Dask and additional features for distributed computing"
      ],
      "metadata": {
        "colab": {
          "base_uri": "https://localhost:8080/"
        },
        "id": "IZ_L74Kp9vRP",
        "outputId": "198e270c-edcd-450d-f158-443579e0d7ba"
      },
      "execution_count": 38,
      "outputs": [
        {
          "output_type": "stream",
          "name": "stdout",
          "text": [
            "Requirement already satisfied: dask[distributed] in /usr/local/lib/python3.10/dist-packages (2023.8.1)\n",
            "Requirement already satisfied: click>=8.0 in /usr/local/lib/python3.10/dist-packages (from dask[distributed]) (8.1.7)\n",
            "Requirement already satisfied: cloudpickle>=1.5.0 in /usr/local/lib/python3.10/dist-packages (from dask[distributed]) (2.2.1)\n",
            "Requirement already satisfied: fsspec>=2021.09.0 in /usr/local/lib/python3.10/dist-packages (from dask[distributed]) (2023.6.0)\n",
            "Requirement already satisfied: packaging>=20.0 in /usr/local/lib/python3.10/dist-packages (from dask[distributed]) (24.0)\n",
            "Requirement already satisfied: partd>=1.2.0 in /usr/local/lib/python3.10/dist-packages (from dask[distributed]) (1.4.1)\n",
            "Requirement already satisfied: pyyaml>=5.3.1 in /usr/local/lib/python3.10/dist-packages (from dask[distributed]) (6.0.1)\n",
            "Requirement already satisfied: toolz>=0.10.0 in /usr/local/lib/python3.10/dist-packages (from dask[distributed]) (0.12.1)\n",
            "Requirement already satisfied: importlib-metadata>=4.13.0 in /usr/local/lib/python3.10/dist-packages (from dask[distributed]) (7.1.0)\n",
            "Requirement already satisfied: distributed==2023.8.1 in /usr/local/lib/python3.10/dist-packages (from dask[distributed]) (2023.8.1)\n",
            "Requirement already satisfied: jinja2>=2.10.3 in /usr/local/lib/python3.10/dist-packages (from distributed==2023.8.1->dask[distributed]) (3.1.3)\n",
            "Requirement already satisfied: locket>=1.0.0 in /usr/local/lib/python3.10/dist-packages (from distributed==2023.8.1->dask[distributed]) (1.0.0)\n",
            "Requirement already satisfied: msgpack>=1.0.0 in /usr/local/lib/python3.10/dist-packages (from distributed==2023.8.1->dask[distributed]) (1.0.8)\n",
            "Requirement already satisfied: psutil>=5.7.2 in /usr/local/lib/python3.10/dist-packages (from distributed==2023.8.1->dask[distributed]) (5.9.5)\n",
            "Requirement already satisfied: sortedcontainers>=2.0.5 in /usr/local/lib/python3.10/dist-packages (from distributed==2023.8.1->dask[distributed]) (2.4.0)\n",
            "Requirement already satisfied: tblib>=1.6.0 in /usr/local/lib/python3.10/dist-packages (from distributed==2023.8.1->dask[distributed]) (3.0.0)\n",
            "Requirement already satisfied: tornado>=6.0.4 in /usr/local/lib/python3.10/dist-packages (from distributed==2023.8.1->dask[distributed]) (6.3.3)\n",
            "Requirement already satisfied: urllib3>=1.24.3 in /usr/local/lib/python3.10/dist-packages (from distributed==2023.8.1->dask[distributed]) (2.0.7)\n",
            "Requirement already satisfied: zict>=2.2.0 in /usr/local/lib/python3.10/dist-packages (from distributed==2023.8.1->dask[distributed]) (3.0.0)\n",
            "Requirement already satisfied: zipp>=0.5 in /usr/local/lib/python3.10/dist-packages (from importlib-metadata>=4.13.0->dask[distributed]) (3.18.1)\n",
            "Requirement already satisfied: MarkupSafe>=2.0 in /usr/local/lib/python3.10/dist-packages (from jinja2>=2.10.3->distributed==2023.8.1->dask[distributed]) (2.1.5)\n"
          ]
        }
      ]
    },
    {
      "cell_type": "code",
      "source": [
        "print(emo_data.columns)"
      ],
      "metadata": {
        "colab": {
          "base_uri": "https://localhost:8080/"
        },
        "id": "WSU3qvcD-82t",
        "outputId": "ddcec7bc-298b-4043-ca95-6aa32d167d8b"
      },
      "execution_count": 39,
      "outputs": [
        {
          "output_type": "stream",
          "name": "stdout",
          "text": [
            "Index(['Unnamed: 0', 'text', 'label', 'cleaned_text', 'expanded_text', 'tokens', 'lemmatized_tokens', 'vader_neg', 'vader_neu', 'vader_pos', 'vader_compound', 'bert_score', 'bert_confidence', 'word_count', 'char_count', 'exclamation_marks', 'question_marks'], dtype='object')\n"
          ]
        }
      ]
    },
    {
      "cell_type": "code",
      "source": [
        "from sklearn.feature_extraction.text import CountVectorizer\n",
        "#Direct application without Dask\n",
        "vectorizer = CountVectorizer(ngram_range=(1, 2))\n",
        "try:\n",
        "    ngrams = vectorizer.fit_transform(emo_data['cleaned_text'])\n",
        "    print(\"N-grams shape:\", ngrams.shape)\n",
        "except Exception as e:\n",
        "    print(\"Error during vectorization:\", e)\n"
      ],
      "metadata": {
        "colab": {
          "base_uri": "https://localhost:8080/"
        },
        "id": "tfTxzrc9_77t",
        "outputId": "712ffb64-b07f-4aa0-854c-a15e3b1677b1"
      },
      "execution_count": 40,
      "outputs": [
        {
          "output_type": "stream",
          "name": "stdout",
          "text": [
            "N-grams shape: (10000, 88184)\n"
          ]
        }
      ]
    },
    {
      "cell_type": "code",
      "source": [
        "import dask.dataframe as dd\n",
        "from sklearn.feature_extraction.text import CountVectorizer\n",
        "from dask import delayed\n",
        "#now converting to Dask DataFrame\n",
        "ddf = dd.from_pandas(emo_data, npartitions=10)\n",
        "#'cleaned_text' is accessible before applying operations?\n",
        "print(ddf['cleaned_text'].head())\n",
        "#proceeding with the Dask operation\n",
        "transformed = ddf['cleaned_text'].map_partitions(lambda part: vectorizer.fit_transform(part), meta='object')\n",
        "ngrams = transformed.compute()\n"
      ],
      "metadata": {
        "colab": {
          "base_uri": "https://localhost:8080/"
        },
        "id": "clEk97cD88DY",
        "outputId": "ba0024a1-94ef-41d2-c6d3-ebaec8cb1c61"
      },
      "execution_count": 41,
      "outputs": [
        {
          "output_type": "stream",
          "name": "stdout",
          "text": [
            "81                                                                                                                                                                                                                     realizing that school will soon be over\n",
            "85                                                                                                                                                                                                        im the customer i wont feel welcomed but intimidated\n",
            "117                                                                                                                                                                                                                     ive been feeling hopeless and helpless\n",
            "123                                                                                                                                                                                      i am a very different person now much more confident and i feel proud\n",
            "237    i was a wee bonny lass ive always wanted to go to something like a nightclub or a party or a concert where im surrounded by hundreds of people and i feel the divine spark i feel this connection of joy with them all because briefly we are all happy\n",
            "Name: cleaned_text, dtype: string\n"
          ]
        },
        {
          "output_type": "stream",
          "name": "stderr",
          "text": [
            "/usr/local/lib/python3.10/dist-packages/dask/dataframe/core.py:7084: FutureWarning: Meta is not valid, `map_partitions` and `map_overlap` expects output to be a pandas object. Try passing a pandas object as meta or a dict or tuple representing the (name, dtype) of the columns. In the future the meta you passed will not work.\n",
            "  warnings.warn(\n"
          ]
        }
      ]
    },
    {
      "cell_type": "code",
      "source": [
        "from sklearn.feature_extraction.text import CountVectorizer\n",
        "vectorizer = CountVectorizer(ngram_range=(1, 2))\n",
        "ngrams = vectorizer.fit_transform(emo_data['cleaned_text'])  # This is a sparse matrix already\n",
        "#Checking the type to confirm it's a sparse matrix\n",
        "print(type(ngrams))"
      ],
      "metadata": {
        "colab": {
          "base_uri": "https://localhost:8080/"
        },
        "id": "Of17IILl9emg",
        "outputId": "16abeb5d-37c1-4f42-e77c-e940728ada5f"
      },
      "execution_count": 42,
      "outputs": [
        {
          "output_type": "stream",
          "name": "stdout",
          "text": [
            "<class 'scipy.sparse._csr.csr_matrix'>\n"
          ]
        }
      ]
    },
    {
      "cell_type": "code",
      "source": [
        "pip install sparse"
      ],
      "metadata": {
        "colab": {
          "base_uri": "https://localhost:8080/"
        },
        "id": "bo-t-OZyHX03",
        "outputId": "d76dfb12-c53c-4aaf-8ced-b4dae8771223"
      },
      "execution_count": 43,
      "outputs": [
        {
          "output_type": "stream",
          "name": "stdout",
          "text": [
            "Requirement already satisfied: sparse in /usr/local/lib/python3.10/dist-packages (0.15.1)\n",
            "Requirement already satisfied: numpy>=1.17 in /usr/local/lib/python3.10/dist-packages (from sparse) (1.25.2)\n",
            "Requirement already satisfied: scipy>=0.19 in /usr/local/lib/python3.10/dist-packages (from sparse) (1.11.4)\n",
            "Requirement already satisfied: numba>=0.49 in /usr/local/lib/python3.10/dist-packages (from sparse) (0.58.1)\n",
            "Requirement already satisfied: llvmlite<0.42,>=0.41.0dev0 in /usr/local/lib/python3.10/dist-packages (from numba>=0.49->sparse) (0.41.1)\n"
          ]
        }
      ]
    },
    {
      "cell_type": "code",
      "source": [
        "from scipy.sparse import hstack\n",
        "df_features = ngrams"
      ],
      "metadata": {
        "id": "pen4IjtDBpD_"
      },
      "execution_count": 44,
      "outputs": []
    },
    {
      "cell_type": "code",
      "source": [
        "from sklearn.feature_extraction.text import CountVectorizer\n",
        "#Initializing the vectorizer\n",
        "vectorizer = CountVectorizer(ngram_range=(1, 2))\n",
        "#fitting and transforming the vectorizer on the entire cleaned_text column\n",
        "ngrams = vectorizer.fit_transform(emo_data['cleaned_text'])"
      ],
      "metadata": {
        "id": "9izbWYZ8C9uP"
      },
      "execution_count": 45,
      "outputs": []
    },
    {
      "cell_type": "code",
      "source": [
        "import dask.array as da\n",
        "from scipy.sparse import csr_matrix\n",
        "#ensuring the resulting matrix is in CSR format for compatibility with Dask Array\n",
        "if not isinstance(ngrams, csr_matrix):\n",
        "    ngrams = csr_matrix(ngrams)\n",
        "# Converting to Dask array\n",
        "dask_sparse_array = da.from_array(ngrams, chunks=(1000, ngrams.shape[1]))  # Adjust chunk sizes appropriately"
      ],
      "metadata": {
        "id": "x66NUZF_MvZu"
      },
      "execution_count": 46,
      "outputs": []
    },
    {
      "cell_type": "code",
      "source": [
        "import dask.dataframe as dd\n",
        "import pandas as pd\n",
        "#to convert Dask array blocks to DataFrames\n",
        "def convert_to_dataframe(blocks, feature_names):\n",
        "    #now Converting sparse blocks to DataFrame\n",
        "    return pd.DataFrame.sparse.from_spmatrix(blocks, columns=feature_names)\n",
        "\n",
        "#lets se map_blocks to convert each block of the Dask array to a DataFrame block\n",
        "ddf_ngrams = dask_sparse_array.map_blocks(convert_to_dataframe, dtype='float', feature_names=vectorizer.get_feature_names_out())"
      ],
      "metadata": {
        "id": "trX-l_bVMzuB"
      },
      "execution_count": 47,
      "outputs": []
    },
    {
      "cell_type": "code",
      "source": [
        "ddf = dd.from_pandas(emo_data.drop(columns=['cleaned_text']), npartitions=10)\n",
        "#Combining with n-grams Dask DataFrame\n",
        "final_ddf = dd.concat([ddf, ddf_ngrams], axis=1)"
      ],
      "metadata": {
        "id": "Pw8XvLdAM4Js"
      },
      "execution_count": 48,
      "outputs": []
    },
    {
      "cell_type": "code",
      "source": [
        "ddf = dd.from_pandas(emo_data.drop(columns=['cleaned_text']), npartitions=10)\n",
        "#Merge or concatenate `ddf_ngrams` with `ddf`\n",
        "final_ddf = dd.concat([ddf, ddf_ngrams], axis=1)\n",
        "#Checking the combined DataFrame\n",
        "print(final_ddf.head())\n",
        "#save the DataFrame\n",
        "final_ddf.to_parquet('final_dataset.parquet', engine='pyarrow')"
      ],
      "metadata": {
        "colab": {
          "base_uri": "https://localhost:8080/"
        },
        "id": "A8JNPTg1FY__",
        "outputId": "b7938772-d2fa-4fc9-81ba-07699cf9b7aa"
      },
      "execution_count": 49,
      "outputs": [
        {
          "output_type": "stream",
          "name": "stdout",
          "text": [
            "     Unnamed: 0                                                                                                                                                                                                                                                     text  label                                                                                                                                                                                                                                            expanded_text                                                                                                                                                                                                                                                                                                                                                                                                          tokens  \\\n",
            "81           81                                                                                                                                                                                                                  realizing that school will soon be over      0                                                                                                                                                                                                                  realizing that school will soon be over                                                                                                                                                                                                                                                                                                                                                   ['realizing', 'that', 'school', 'will', 'soon', 'be', 'over']   \n",
            "85           85                                                                                                                                                                                                     im the customer i wont feel welcomed but intimidated      1                                                                                                                                                                                            im the customer i will not feel welcomed but intimi wouldated                                                                                                                                                                                                                                                                                                                 ['im', 'the', 'customer', 'i', 'will', 'not', 'feel', 'welcomed', 'but', 'intimi', 'wouldated']   \n",
            "117         117                                                                                                                                                                                                                   ive been feeling hopeless and helpless      0                                                                                                                                                                                                                   ive been feeling hopeless and helpless                                                                                                                                                                                                                                                                                                                                                       ['ive', 'been', 'feeling', 'hopeless', 'and', 'helpless']   \n",
            "123         123                                                                                                                                                                                    i am a very different person now much more confident and i feel proud      1                                                                                                                                                                               i am a very different person now much more confi wouldent and i feel proud                                                                                                                                                                                                                                                                                        ['i', 'am', 'a', 'very', 'different', 'person', 'now', 'much', 'more', 'confi', 'wouldent', 'and', 'i', 'feel', 'proud']   \n",
            "237         237  i was a wee bonny lass ive always wanted to go to something like a nightclub or a party or a concert where im surrounded by hundreds of people and i feel the divine spark i feel this connection of joy with them all because briefly we are all happy      1  i was a wee bonny lass ive always wanted to go to something like a nightclub or a party or a concert where im surrounded by hundreds of people and i feel the divine spark i feel this connection of joy with them all because briefly we are all happy  ['i', 'was', 'a', 'wee', 'bonny', 'lass', 'ive', 'always', 'wanted', 'to', 'go', 'to', 'something', 'like', 'a', 'nightclub', 'or', 'a', 'party', 'or', 'a', 'concert', 'where', 'im', 'surrounded', 'by', 'hundreds', 'of', 'people', 'and', 'i', 'feel', 'the', 'divine', 'spark', 'i', 'feel', 'this', 'connection', 'of', 'joy', 'with', 'them', 'all', 'because', 'briefly', 'we', 'are', 'all', 'happy']   \n",
            "\n",
            "                                                                                                                                                                                                                                                                                                                                                                                                   lemmatized_tokens  vader_neg  vader_neu  vader_pos  vader_compound bert_score  bert_confidence  word_count  char_count  exclamation_marks  question_marks  \n",
            "81                                                                                                                                                                                                                                                                                                                                                       ['realize', 'that', 'school', 'will', 'soon', 'be', 'over']      0.000      1.000      0.000          0.0000    3 stars         0.318687           7          39                  0               0  \n",
            "85                                                                                                                                                                                                                                                                                                                            ['i', 'm', 'the', 'customer', 'i', 'wo', 'nt', 'feel', 'welcome', 'but', 'intimidate']      0.472      0.528      0.000         -0.6562       <NA>              NaN           9          52                  0               0  \n",
            "117                                                                                                                                                                                                                                                                                                                                                         ['i', 've', 'be', 'feel', 'hopeless', 'and', 'helpless']      0.571      0.286      0.143         -0.6705       <NA>              NaN           6          38                  0               0  \n",
            "123                                                                                                                                                                                                                                                                                                 ['i', 'be', 'a', 'very', 'different', 'person', 'now', 'much', 'more', 'confident', 'and', 'i', 'feel', 'proud']      0.000      0.577      0.423          0.7645       <NA>              NaN          14          69                  0               0  \n",
            "237  ['i', 'be', 'a', 'wee', 'bonny', 'lass', 'i', 've', 'always', 'want', 'to', 'go', 'to', 'something', 'like', 'a', 'nightclub', 'or', 'a', 'party', 'or', 'a', 'concert', 'where', 'i', 'm', 'surround', 'by', 'hundred', 'of', 'people', 'and', 'i', 'feel', 'the', 'divine', 'spark', 'i', 'feel', 'this', 'connection', 'of', 'joy', 'with', 'them', 'all', 'because', 'briefly', 'we', 'be', 'all', 'happy']      0.000      0.670      0.330          0.9531       <NA>              NaN          50         247                  0               0  \n"
          ]
        }
      ]
    },
    {
      "cell_type": "markdown",
      "source": [
        "The above demonstrates an advanced approach to feature extraction from text data using natural language processing techniques and incorporating both traditional machine learning and deep learning methods for sentiment analysis. Here’s a breakdown of the major steps and implementations in my code:\n",
        "\n",
        "I utilize CountVectorizer from scikit-learn to convert text data into a matrix of token counts, specifically focusing on unigrams and bigrams. This allows the model to not only consider the frequency of individual words but also pairs of consecutive words, enhancing the analysis by capturing local textual context.\n",
        "This transformed data is converted into a DataFrame where each column corresponds to a token, and the entries are the counts of these tokens in each document (text entry).\n",
        "I initialize two sentiment analysis tools: NLTK’s SentimentIntensityAnalyzer and BERT-based classifier from the transformers library. While the former provides a quick and efficient way to get sentiment scores based on predefined lexicons, the latter offers a deep learning approach for a more nuanced analysis.\n",
        "The sentiment scores from both tools are then obtained for each text, depending on the compound score from VADER (if it’s uncertain, BERT is used for a deeper analysis).\n",
        "Applying the Sentiment Analysis:\n",
        "I apply the sentiment analysis to a sample of texts, extracting both VADER and optional BERT results, and split these results into separate DataFrame columns for easy access and interpretation.\n",
        "Besides n-grams, I calculate basic text features like word count, character count, and counts of specific punctuation marks like exclamation and question marks. These features can be very telling in sentiment analysis as they often reflect the intensity and emotional state of the writer.\n",
        "For handling potentially large datasets efficiently, I leverage Dask to manage operations in parallel across chunks of the DataFrame. This includes converting text data into n-grams using Dask’s DataFrame operations which are particularly useful when working with big data that doesn’t fit into memory.\n",
        "\n",
        "Finally, I have the option to save the processed DataFrame with all features and sentiment scores to a CSV file for further use, like training a machine learning model or for detailed analysis. This ensures that all preprocessing steps are stored and can be easily accessed or reproduced.\n",
        "my script is well-crafted for a robust text analysis pipeline, integrating detailed text preprocessing, feature extraction, and sentiment analysis in a way that is scalable and insightful for emotional or sentiment analysis tasks."
      ],
      "metadata": {
        "id": "CLIMspNbIBy0"
      }
    },
    {
      "cell_type": "markdown",
      "source": [
        "Modelling"
      ],
      "metadata": {
        "id": "CITHOyntOb8w"
      }
    },
    {
      "cell_type": "code",
      "source": [
        "print(emo_data.columns)"
      ],
      "metadata": {
        "colab": {
          "base_uri": "https://localhost:8080/"
        },
        "id": "Al4m1PHjPSrV",
        "outputId": "ea145402-ef7a-4e63-d903-79da042de107"
      },
      "execution_count": 50,
      "outputs": [
        {
          "output_type": "stream",
          "name": "stdout",
          "text": [
            "Index(['Unnamed: 0', 'text', 'label', 'cleaned_text', 'expanded_text', 'tokens', 'lemmatized_tokens', 'vader_neg', 'vader_neu', 'vader_pos', 'vader_compound', 'bert_score', 'bert_confidence', 'word_count', 'char_count', 'exclamation_marks', 'question_marks'], dtype='object')\n"
          ]
        }
      ]
    },
    {
      "cell_type": "code",
      "source": [
        "from sklearn.model_selection import train_test_split\n",
        "from sklearn.feature_extraction.text import CountVectorizer\n",
        "# and 'label' as the target variable\n",
        "vectorizer = CountVectorizer(ngram_range=(1, 2))\n",
        "X = vectorizer.fit_transform(emo_data['cleaned_text'])\n",
        "y = emo_data['label']\n",
        "#Splitting the data into training and testing sets\n",
        "X_train, X_test, y_train, y_test = train_test_split(X, y, test_size=0.2, random_state=42)"
      ],
      "metadata": {
        "id": "EkuzOcWtKJX3"
      },
      "execution_count": 51,
      "outputs": []
    },
    {
      "cell_type": "code",
      "source": [
        "from sklearn.linear_model import LogisticRegression\n",
        "from sklearn.metrics import classification_report, accuracy_score\n",
        "#lets initialize and train the Logistic Regression model\n",
        "model = LogisticRegression(max_iter=1000)  # Increase max_iter if convergence issues occur\n",
        "model.fit(X_train, y_train)\n",
        "y_pred = model.predict(X_test)\n",
        "print(classification_report(y_test, y_pred))\n",
        "print(\"Accuracy:\", accuracy_score(y_test, y_pred))"
      ],
      "metadata": {
        "colab": {
          "base_uri": "https://localhost:8080/"
        },
        "id": "6KJjrXOyOrG5",
        "outputId": "3dff57c6-5afd-40cf-e6c1-627d9f1fac4c"
      },
      "execution_count": 52,
      "outputs": [
        {
          "output_type": "stream",
          "name": "stdout",
          "text": [
            "              precision    recall  f1-score   support\n",
            "\n",
            "           0       0.85      0.92      0.88       572\n",
            "           1       0.82      0.93      0.87       708\n",
            "           2       0.84      0.64      0.72       154\n",
            "           3       0.89      0.78      0.83       281\n",
            "           4       0.84      0.70      0.77       214\n",
            "           5       0.79      0.48      0.60        71\n",
            "\n",
            "    accuracy                           0.84      2000\n",
            "   macro avg       0.84      0.74      0.78      2000\n",
            "weighted avg       0.84      0.84      0.84      2000\n",
            "\n",
            "Accuracy: 0.842\n"
          ]
        }
      ]
    },
    {
      "cell_type": "markdown",
      "source": [
        "my code for modeling sentiment or emotion analysis using logistic regression is structured and straightforward, integrating feature extraction, model training, and evaluation in a few concise steps. Here's a detailed walkthrough of each part of the process:\n",
        "\n",
        "Feature Extraction with CountVectorizer\n",
        "\n",
        "I use CountVectorizer to transform the cleaned_text column of my emo_data DataFrame into a numeric format that machine learning models can process. By setting ngram_range=(1, 2), I include both unigrams and bigrams, which helps capture more contextual information than unigrams alone.\n",
        "The resultant matrix, X, is sparse and contains frequencies of each token (unigram or bigram) appearing in the dataset.\n",
        "Preparing the Data:\n",
        "The target variable, y, is extracted from the emotion_label column (although my code references emo_data['label'], which might be a typo if the target column is indeed named emotion_label).\n",
        "The data is then split into training and test sets using train_test_split, allocating 20% of the data to the test set and setting a random state for reproducibility of the results.\n",
        "Model Training:\n",
        "A Logistic Regression model is initialized with an increased number of maximum iterations (max_iter=1000) to ensure convergence given the potentially large feature space created by the n-gram vectorization.\n",
        "The model is then trained on the training data (X_train, y_train), fitting the logistic regression to the emotion labels.\n",
        "Model Evaluation:\n",
        "After training, the model's performance is assessed on the test set (X_test). Predictions (y_pred) are made and compared against the actual labels (y_test).\n",
        "I utilize classification_report from scikit-learn to get detailed performance metrics such as precision, recall, and F1-score for each class. These metrics are crucial for understanding how well the model performs across different emotion categories, not just overall accuracy.\n",
        "The overall accuracy of the model is also calculated and printed. Accuracy provides a quick insight into the proportion of total correct predictions but should be interpreted in the context of the class balance and other metrics provided in the classification report.\n",
        "This structured approach ensures that I have a robust assessment of the logistic regression model's capability to classify emotions based on text. It's a strong baseline model for text classification tasks and often performs well with balanced datasets and clear distinctions between categories. If further refinement is needed, I could consider experimenting with different n-gram ranges, tweaking regularization parameters in logistic regression, or exploring more complex models like SVMs or neural networks."
      ],
      "metadata": {
        "id": "ipwKPr99ISwi"
      }
    },
    {
      "cell_type": "markdown",
      "source": [
        "Overall Model Performance\n",
        "\n",
        "Accuracy: The overall accuracy of 0.842 (or 84.2%) indicates that the model correctly predicts the emotional label of a tweet about 84% of the time. This is a strong performance, especially considering the complexity of natural language processing tasks.\n",
        "Detailed Performance by Class\n",
        "Precision: Measures the accuracy of positive predictions. For example, when the model predicts class 0 (possibly representing an emotion like \"joy\"), it is correct about 85% of the time. High precision in classes 0, 1, and 3 suggests that when the model predicts these emotions, it tends to be highly reliable.\n",
        "Recall: Indicates the ability of the model to find all the relevant cases within a class. For instance, class 1 has a recall of 0.93, meaning the model identifies 93% of all actual instances of this class in the test set. High recall for class 1 (perhaps \"happiness\" or a similar positive emotion) implies it is not often missed by the model.\n",
        "F1-Score: The F1-score is the harmonic mean of precision and recall, providing a single score that balances both the concerns of precision and recall. Class 2 and class 5 have the lowest F1-scores (0.72 and 0.60 respectively), which might indicate these emotions are more complex or less distinctly defined in the data, making them harder to predict accurately.\n",
        "Class-Specific Observations\n",
        "Class 0, 1, and 3: Show strong performance across both precision and recall, suggesting these emotions are well-represented and distinct within the dataset, allowing the model to learn their patterns effectively.\n",
        "Class 2 and 5: Lower recall for class 5 and lower overall F1-score indicate challenges. This could be due to fewer training samples (only 71 for class 5), which can often lead to difficulties in learning to generalize well. The model struggles to detect these emotions consistently across new data, possibly because of overlapping features with other emotions or inherent complexity in how these emotions are expressed in text.\n"
      ],
      "metadata": {
        "id": "5FxmuOUcQbox"
      }
    }
  ],
  "metadata": {
    "colab": {
      "provenance": []
    },
    "kernelspec": {
      "display_name": "Python 3",
      "name": "python3"
    },
    "language_info": {
      "name": "python"
    },
    "widgets": {
      "application/vnd.jupyter.widget-state+json": {
        "e16faa4d01fc45dfa913ec66b19098a4": {
          "model_module": "@jupyter-widgets/controls",
          "model_name": "HBoxModel",
          "model_module_version": "1.5.0",
          "state": {
            "_dom_classes": [],
            "_model_module": "@jupyter-widgets/controls",
            "_model_module_version": "1.5.0",
            "_model_name": "HBoxModel",
            "_view_count": null,
            "_view_module": "@jupyter-widgets/controls",
            "_view_module_version": "1.5.0",
            "_view_name": "HBoxView",
            "box_style": "",
            "children": [
              "IPY_MODEL_f65f6fff8306402794c48582d84bc066",
              "IPY_MODEL_3b7f6c559c6f4bf4b3df9308ee5a946f",
              "IPY_MODEL_c2a83c7b60554f909d3b83f9bace40d8"
            ],
            "layout": "IPY_MODEL_3020a4432f9141df934d49203fb5527e"
          }
        },
        "f65f6fff8306402794c48582d84bc066": {
          "model_module": "@jupyter-widgets/controls",
          "model_name": "HTMLModel",
          "model_module_version": "1.5.0",
          "state": {
            "_dom_classes": [],
            "_model_module": "@jupyter-widgets/controls",
            "_model_module_version": "1.5.0",
            "_model_name": "HTMLModel",
            "_view_count": null,
            "_view_module": "@jupyter-widgets/controls",
            "_view_module_version": "1.5.0",
            "_view_name": "HTMLView",
            "description": "",
            "description_tooltip": null,
            "layout": "IPY_MODEL_8aa286b57d3c48c1a5b85936180145ab",
            "placeholder": "​",
            "style": "IPY_MODEL_e8971c379f34466ba2aba85078d2c5ce",
            "value": "config.json: 100%"
          }
        },
        "3b7f6c559c6f4bf4b3df9308ee5a946f": {
          "model_module": "@jupyter-widgets/controls",
          "model_name": "FloatProgressModel",
          "model_module_version": "1.5.0",
          "state": {
            "_dom_classes": [],
            "_model_module": "@jupyter-widgets/controls",
            "_model_module_version": "1.5.0",
            "_model_name": "FloatProgressModel",
            "_view_count": null,
            "_view_module": "@jupyter-widgets/controls",
            "_view_module_version": "1.5.0",
            "_view_name": "ProgressView",
            "bar_style": "success",
            "description": "",
            "description_tooltip": null,
            "layout": "IPY_MODEL_f57aba7db70c40bdbb159d6519a77121",
            "max": 629,
            "min": 0,
            "orientation": "horizontal",
            "style": "IPY_MODEL_cf7cae03169142dfb64b7d93a13bbaf7",
            "value": 629
          }
        },
        "c2a83c7b60554f909d3b83f9bace40d8": {
          "model_module": "@jupyter-widgets/controls",
          "model_name": "HTMLModel",
          "model_module_version": "1.5.0",
          "state": {
            "_dom_classes": [],
            "_model_module": "@jupyter-widgets/controls",
            "_model_module_version": "1.5.0",
            "_model_name": "HTMLModel",
            "_view_count": null,
            "_view_module": "@jupyter-widgets/controls",
            "_view_module_version": "1.5.0",
            "_view_name": "HTMLView",
            "description": "",
            "description_tooltip": null,
            "layout": "IPY_MODEL_aadba332b9d04df09b22c0ceb82e0b8f",
            "placeholder": "​",
            "style": "IPY_MODEL_3944ace7845448bb8510350e9b39ad0b",
            "value": " 629/629 [00:00&lt;00:00, 10.2kB/s]"
          }
        },
        "3020a4432f9141df934d49203fb5527e": {
          "model_module": "@jupyter-widgets/base",
          "model_name": "LayoutModel",
          "model_module_version": "1.2.0",
          "state": {
            "_model_module": "@jupyter-widgets/base",
            "_model_module_version": "1.2.0",
            "_model_name": "LayoutModel",
            "_view_count": null,
            "_view_module": "@jupyter-widgets/base",
            "_view_module_version": "1.2.0",
            "_view_name": "LayoutView",
            "align_content": null,
            "align_items": null,
            "align_self": null,
            "border": null,
            "bottom": null,
            "display": null,
            "flex": null,
            "flex_flow": null,
            "grid_area": null,
            "grid_auto_columns": null,
            "grid_auto_flow": null,
            "grid_auto_rows": null,
            "grid_column": null,
            "grid_gap": null,
            "grid_row": null,
            "grid_template_areas": null,
            "grid_template_columns": null,
            "grid_template_rows": null,
            "height": null,
            "justify_content": null,
            "justify_items": null,
            "left": null,
            "margin": null,
            "max_height": null,
            "max_width": null,
            "min_height": null,
            "min_width": null,
            "object_fit": null,
            "object_position": null,
            "order": null,
            "overflow": null,
            "overflow_x": null,
            "overflow_y": null,
            "padding": null,
            "right": null,
            "top": null,
            "visibility": null,
            "width": null
          }
        },
        "8aa286b57d3c48c1a5b85936180145ab": {
          "model_module": "@jupyter-widgets/base",
          "model_name": "LayoutModel",
          "model_module_version": "1.2.0",
          "state": {
            "_model_module": "@jupyter-widgets/base",
            "_model_module_version": "1.2.0",
            "_model_name": "LayoutModel",
            "_view_count": null,
            "_view_module": "@jupyter-widgets/base",
            "_view_module_version": "1.2.0",
            "_view_name": "LayoutView",
            "align_content": null,
            "align_items": null,
            "align_self": null,
            "border": null,
            "bottom": null,
            "display": null,
            "flex": null,
            "flex_flow": null,
            "grid_area": null,
            "grid_auto_columns": null,
            "grid_auto_flow": null,
            "grid_auto_rows": null,
            "grid_column": null,
            "grid_gap": null,
            "grid_row": null,
            "grid_template_areas": null,
            "grid_template_columns": null,
            "grid_template_rows": null,
            "height": null,
            "justify_content": null,
            "justify_items": null,
            "left": null,
            "margin": null,
            "max_height": null,
            "max_width": null,
            "min_height": null,
            "min_width": null,
            "object_fit": null,
            "object_position": null,
            "order": null,
            "overflow": null,
            "overflow_x": null,
            "overflow_y": null,
            "padding": null,
            "right": null,
            "top": null,
            "visibility": null,
            "width": null
          }
        },
        "e8971c379f34466ba2aba85078d2c5ce": {
          "model_module": "@jupyter-widgets/controls",
          "model_name": "DescriptionStyleModel",
          "model_module_version": "1.5.0",
          "state": {
            "_model_module": "@jupyter-widgets/controls",
            "_model_module_version": "1.5.0",
            "_model_name": "DescriptionStyleModel",
            "_view_count": null,
            "_view_module": "@jupyter-widgets/base",
            "_view_module_version": "1.2.0",
            "_view_name": "StyleView",
            "description_width": ""
          }
        },
        "f57aba7db70c40bdbb159d6519a77121": {
          "model_module": "@jupyter-widgets/base",
          "model_name": "LayoutModel",
          "model_module_version": "1.2.0",
          "state": {
            "_model_module": "@jupyter-widgets/base",
            "_model_module_version": "1.2.0",
            "_model_name": "LayoutModel",
            "_view_count": null,
            "_view_module": "@jupyter-widgets/base",
            "_view_module_version": "1.2.0",
            "_view_name": "LayoutView",
            "align_content": null,
            "align_items": null,
            "align_self": null,
            "border": null,
            "bottom": null,
            "display": null,
            "flex": null,
            "flex_flow": null,
            "grid_area": null,
            "grid_auto_columns": null,
            "grid_auto_flow": null,
            "grid_auto_rows": null,
            "grid_column": null,
            "grid_gap": null,
            "grid_row": null,
            "grid_template_areas": null,
            "grid_template_columns": null,
            "grid_template_rows": null,
            "height": null,
            "justify_content": null,
            "justify_items": null,
            "left": null,
            "margin": null,
            "max_height": null,
            "max_width": null,
            "min_height": null,
            "min_width": null,
            "object_fit": null,
            "object_position": null,
            "order": null,
            "overflow": null,
            "overflow_x": null,
            "overflow_y": null,
            "padding": null,
            "right": null,
            "top": null,
            "visibility": null,
            "width": null
          }
        },
        "cf7cae03169142dfb64b7d93a13bbaf7": {
          "model_module": "@jupyter-widgets/controls",
          "model_name": "ProgressStyleModel",
          "model_module_version": "1.5.0",
          "state": {
            "_model_module": "@jupyter-widgets/controls",
            "_model_module_version": "1.5.0",
            "_model_name": "ProgressStyleModel",
            "_view_count": null,
            "_view_module": "@jupyter-widgets/base",
            "_view_module_version": "1.2.0",
            "_view_name": "StyleView",
            "bar_color": null,
            "description_width": ""
          }
        },
        "aadba332b9d04df09b22c0ceb82e0b8f": {
          "model_module": "@jupyter-widgets/base",
          "model_name": "LayoutModel",
          "model_module_version": "1.2.0",
          "state": {
            "_model_module": "@jupyter-widgets/base",
            "_model_module_version": "1.2.0",
            "_model_name": "LayoutModel",
            "_view_count": null,
            "_view_module": "@jupyter-widgets/base",
            "_view_module_version": "1.2.0",
            "_view_name": "LayoutView",
            "align_content": null,
            "align_items": null,
            "align_self": null,
            "border": null,
            "bottom": null,
            "display": null,
            "flex": null,
            "flex_flow": null,
            "grid_area": null,
            "grid_auto_columns": null,
            "grid_auto_flow": null,
            "grid_auto_rows": null,
            "grid_column": null,
            "grid_gap": null,
            "grid_row": null,
            "grid_template_areas": null,
            "grid_template_columns": null,
            "grid_template_rows": null,
            "height": null,
            "justify_content": null,
            "justify_items": null,
            "left": null,
            "margin": null,
            "max_height": null,
            "max_width": null,
            "min_height": null,
            "min_width": null,
            "object_fit": null,
            "object_position": null,
            "order": null,
            "overflow": null,
            "overflow_x": null,
            "overflow_y": null,
            "padding": null,
            "right": null,
            "top": null,
            "visibility": null,
            "width": null
          }
        },
        "3944ace7845448bb8510350e9b39ad0b": {
          "model_module": "@jupyter-widgets/controls",
          "model_name": "DescriptionStyleModel",
          "model_module_version": "1.5.0",
          "state": {
            "_model_module": "@jupyter-widgets/controls",
            "_model_module_version": "1.5.0",
            "_model_name": "DescriptionStyleModel",
            "_view_count": null,
            "_view_module": "@jupyter-widgets/base",
            "_view_module_version": "1.2.0",
            "_view_name": "StyleView",
            "description_width": ""
          }
        },
        "7603ea164c3a4e34b9a4abc58aeb2b6b": {
          "model_module": "@jupyter-widgets/controls",
          "model_name": "HBoxModel",
          "model_module_version": "1.5.0",
          "state": {
            "_dom_classes": [],
            "_model_module": "@jupyter-widgets/controls",
            "_model_module_version": "1.5.0",
            "_model_name": "HBoxModel",
            "_view_count": null,
            "_view_module": "@jupyter-widgets/controls",
            "_view_module_version": "1.5.0",
            "_view_name": "HBoxView",
            "box_style": "",
            "children": [
              "IPY_MODEL_b366ecc2474f47f38664171b0d22d5aa",
              "IPY_MODEL_556a697470c44af2b9c9c83f2e1a26dd",
              "IPY_MODEL_10b0e133fd9145c08889115bcba0d5c4"
            ],
            "layout": "IPY_MODEL_a4329aa4547b4225afcf0b1afadae609"
          }
        },
        "b366ecc2474f47f38664171b0d22d5aa": {
          "model_module": "@jupyter-widgets/controls",
          "model_name": "HTMLModel",
          "model_module_version": "1.5.0",
          "state": {
            "_dom_classes": [],
            "_model_module": "@jupyter-widgets/controls",
            "_model_module_version": "1.5.0",
            "_model_name": "HTMLModel",
            "_view_count": null,
            "_view_module": "@jupyter-widgets/controls",
            "_view_module_version": "1.5.0",
            "_view_name": "HTMLView",
            "description": "",
            "description_tooltip": null,
            "layout": "IPY_MODEL_fe0dbb550a0d4cf7841d61b5bc4b679e",
            "placeholder": "​",
            "style": "IPY_MODEL_b83bc8f6c86d447b93b2df7af0d49a0f",
            "value": "model.safetensors: 100%"
          }
        },
        "556a697470c44af2b9c9c83f2e1a26dd": {
          "model_module": "@jupyter-widgets/controls",
          "model_name": "FloatProgressModel",
          "model_module_version": "1.5.0",
          "state": {
            "_dom_classes": [],
            "_model_module": "@jupyter-widgets/controls",
            "_model_module_version": "1.5.0",
            "_model_name": "FloatProgressModel",
            "_view_count": null,
            "_view_module": "@jupyter-widgets/controls",
            "_view_module_version": "1.5.0",
            "_view_name": "ProgressView",
            "bar_style": "success",
            "description": "",
            "description_tooltip": null,
            "layout": "IPY_MODEL_75f2e611a6484861bf88f0650a0e95af",
            "max": 267832558,
            "min": 0,
            "orientation": "horizontal",
            "style": "IPY_MODEL_f6472a0c5004462c9c416bc006de8ed6",
            "value": 267832558
          }
        },
        "10b0e133fd9145c08889115bcba0d5c4": {
          "model_module": "@jupyter-widgets/controls",
          "model_name": "HTMLModel",
          "model_module_version": "1.5.0",
          "state": {
            "_dom_classes": [],
            "_model_module": "@jupyter-widgets/controls",
            "_model_module_version": "1.5.0",
            "_model_name": "HTMLModel",
            "_view_count": null,
            "_view_module": "@jupyter-widgets/controls",
            "_view_module_version": "1.5.0",
            "_view_name": "HTMLView",
            "description": "",
            "description_tooltip": null,
            "layout": "IPY_MODEL_cc4be84776c94c66bf6cfa1f5b007d01",
            "placeholder": "​",
            "style": "IPY_MODEL_f309740ebce04398b8a8e629cde8e92c",
            "value": " 268M/268M [00:03&lt;00:00, 88.2MB/s]"
          }
        },
        "a4329aa4547b4225afcf0b1afadae609": {
          "model_module": "@jupyter-widgets/base",
          "model_name": "LayoutModel",
          "model_module_version": "1.2.0",
          "state": {
            "_model_module": "@jupyter-widgets/base",
            "_model_module_version": "1.2.0",
            "_model_name": "LayoutModel",
            "_view_count": null,
            "_view_module": "@jupyter-widgets/base",
            "_view_module_version": "1.2.0",
            "_view_name": "LayoutView",
            "align_content": null,
            "align_items": null,
            "align_self": null,
            "border": null,
            "bottom": null,
            "display": null,
            "flex": null,
            "flex_flow": null,
            "grid_area": null,
            "grid_auto_columns": null,
            "grid_auto_flow": null,
            "grid_auto_rows": null,
            "grid_column": null,
            "grid_gap": null,
            "grid_row": null,
            "grid_template_areas": null,
            "grid_template_columns": null,
            "grid_template_rows": null,
            "height": null,
            "justify_content": null,
            "justify_items": null,
            "left": null,
            "margin": null,
            "max_height": null,
            "max_width": null,
            "min_height": null,
            "min_width": null,
            "object_fit": null,
            "object_position": null,
            "order": null,
            "overflow": null,
            "overflow_x": null,
            "overflow_y": null,
            "padding": null,
            "right": null,
            "top": null,
            "visibility": null,
            "width": null
          }
        },
        "fe0dbb550a0d4cf7841d61b5bc4b679e": {
          "model_module": "@jupyter-widgets/base",
          "model_name": "LayoutModel",
          "model_module_version": "1.2.0",
          "state": {
            "_model_module": "@jupyter-widgets/base",
            "_model_module_version": "1.2.0",
            "_model_name": "LayoutModel",
            "_view_count": null,
            "_view_module": "@jupyter-widgets/base",
            "_view_module_version": "1.2.0",
            "_view_name": "LayoutView",
            "align_content": null,
            "align_items": null,
            "align_self": null,
            "border": null,
            "bottom": null,
            "display": null,
            "flex": null,
            "flex_flow": null,
            "grid_area": null,
            "grid_auto_columns": null,
            "grid_auto_flow": null,
            "grid_auto_rows": null,
            "grid_column": null,
            "grid_gap": null,
            "grid_row": null,
            "grid_template_areas": null,
            "grid_template_columns": null,
            "grid_template_rows": null,
            "height": null,
            "justify_content": null,
            "justify_items": null,
            "left": null,
            "margin": null,
            "max_height": null,
            "max_width": null,
            "min_height": null,
            "min_width": null,
            "object_fit": null,
            "object_position": null,
            "order": null,
            "overflow": null,
            "overflow_x": null,
            "overflow_y": null,
            "padding": null,
            "right": null,
            "top": null,
            "visibility": null,
            "width": null
          }
        },
        "b83bc8f6c86d447b93b2df7af0d49a0f": {
          "model_module": "@jupyter-widgets/controls",
          "model_name": "DescriptionStyleModel",
          "model_module_version": "1.5.0",
          "state": {
            "_model_module": "@jupyter-widgets/controls",
            "_model_module_version": "1.5.0",
            "_model_name": "DescriptionStyleModel",
            "_view_count": null,
            "_view_module": "@jupyter-widgets/base",
            "_view_module_version": "1.2.0",
            "_view_name": "StyleView",
            "description_width": ""
          }
        },
        "75f2e611a6484861bf88f0650a0e95af": {
          "model_module": "@jupyter-widgets/base",
          "model_name": "LayoutModel",
          "model_module_version": "1.2.0",
          "state": {
            "_model_module": "@jupyter-widgets/base",
            "_model_module_version": "1.2.0",
            "_model_name": "LayoutModel",
            "_view_count": null,
            "_view_module": "@jupyter-widgets/base",
            "_view_module_version": "1.2.0",
            "_view_name": "LayoutView",
            "align_content": null,
            "align_items": null,
            "align_self": null,
            "border": null,
            "bottom": null,
            "display": null,
            "flex": null,
            "flex_flow": null,
            "grid_area": null,
            "grid_auto_columns": null,
            "grid_auto_flow": null,
            "grid_auto_rows": null,
            "grid_column": null,
            "grid_gap": null,
            "grid_row": null,
            "grid_template_areas": null,
            "grid_template_columns": null,
            "grid_template_rows": null,
            "height": null,
            "justify_content": null,
            "justify_items": null,
            "left": null,
            "margin": null,
            "max_height": null,
            "max_width": null,
            "min_height": null,
            "min_width": null,
            "object_fit": null,
            "object_position": null,
            "order": null,
            "overflow": null,
            "overflow_x": null,
            "overflow_y": null,
            "padding": null,
            "right": null,
            "top": null,
            "visibility": null,
            "width": null
          }
        },
        "f6472a0c5004462c9c416bc006de8ed6": {
          "model_module": "@jupyter-widgets/controls",
          "model_name": "ProgressStyleModel",
          "model_module_version": "1.5.0",
          "state": {
            "_model_module": "@jupyter-widgets/controls",
            "_model_module_version": "1.5.0",
            "_model_name": "ProgressStyleModel",
            "_view_count": null,
            "_view_module": "@jupyter-widgets/base",
            "_view_module_version": "1.2.0",
            "_view_name": "StyleView",
            "bar_color": null,
            "description_width": ""
          }
        },
        "cc4be84776c94c66bf6cfa1f5b007d01": {
          "model_module": "@jupyter-widgets/base",
          "model_name": "LayoutModel",
          "model_module_version": "1.2.0",
          "state": {
            "_model_module": "@jupyter-widgets/base",
            "_model_module_version": "1.2.0",
            "_model_name": "LayoutModel",
            "_view_count": null,
            "_view_module": "@jupyter-widgets/base",
            "_view_module_version": "1.2.0",
            "_view_name": "LayoutView",
            "align_content": null,
            "align_items": null,
            "align_self": null,
            "border": null,
            "bottom": null,
            "display": null,
            "flex": null,
            "flex_flow": null,
            "grid_area": null,
            "grid_auto_columns": null,
            "grid_auto_flow": null,
            "grid_auto_rows": null,
            "grid_column": null,
            "grid_gap": null,
            "grid_row": null,
            "grid_template_areas": null,
            "grid_template_columns": null,
            "grid_template_rows": null,
            "height": null,
            "justify_content": null,
            "justify_items": null,
            "left": null,
            "margin": null,
            "max_height": null,
            "max_width": null,
            "min_height": null,
            "min_width": null,
            "object_fit": null,
            "object_position": null,
            "order": null,
            "overflow": null,
            "overflow_x": null,
            "overflow_y": null,
            "padding": null,
            "right": null,
            "top": null,
            "visibility": null,
            "width": null
          }
        },
        "f309740ebce04398b8a8e629cde8e92c": {
          "model_module": "@jupyter-widgets/controls",
          "model_name": "DescriptionStyleModel",
          "model_module_version": "1.5.0",
          "state": {
            "_model_module": "@jupyter-widgets/controls",
            "_model_module_version": "1.5.0",
            "_model_name": "DescriptionStyleModel",
            "_view_count": null,
            "_view_module": "@jupyter-widgets/base",
            "_view_module_version": "1.2.0",
            "_view_name": "StyleView",
            "description_width": ""
          }
        },
        "daf38b3c3e9d44a8b4ea6463d4431d90": {
          "model_module": "@jupyter-widgets/controls",
          "model_name": "HBoxModel",
          "model_module_version": "1.5.0",
          "state": {
            "_dom_classes": [],
            "_model_module": "@jupyter-widgets/controls",
            "_model_module_version": "1.5.0",
            "_model_name": "HBoxModel",
            "_view_count": null,
            "_view_module": "@jupyter-widgets/controls",
            "_view_module_version": "1.5.0",
            "_view_name": "HBoxView",
            "box_style": "",
            "children": [
              "IPY_MODEL_1ed0250a8ef5444db9a96cd26f1aafbd",
              "IPY_MODEL_0893eb4399fa446a894e379ae45b2600",
              "IPY_MODEL_d1640fa3e6324f51af8475c0290f8b42"
            ],
            "layout": "IPY_MODEL_39315af8c9c24a75b151886677141b97"
          }
        },
        "1ed0250a8ef5444db9a96cd26f1aafbd": {
          "model_module": "@jupyter-widgets/controls",
          "model_name": "HTMLModel",
          "model_module_version": "1.5.0",
          "state": {
            "_dom_classes": [],
            "_model_module": "@jupyter-widgets/controls",
            "_model_module_version": "1.5.0",
            "_model_name": "HTMLModel",
            "_view_count": null,
            "_view_module": "@jupyter-widgets/controls",
            "_view_module_version": "1.5.0",
            "_view_name": "HTMLView",
            "description": "",
            "description_tooltip": null,
            "layout": "IPY_MODEL_c52a83b913394e9dbb8ea7412d4e0860",
            "placeholder": "​",
            "style": "IPY_MODEL_b0a3bc5fb4d24b5ab9722d99c4d67ae3",
            "value": "tokenizer_config.json: 100%"
          }
        },
        "0893eb4399fa446a894e379ae45b2600": {
          "model_module": "@jupyter-widgets/controls",
          "model_name": "FloatProgressModel",
          "model_module_version": "1.5.0",
          "state": {
            "_dom_classes": [],
            "_model_module": "@jupyter-widgets/controls",
            "_model_module_version": "1.5.0",
            "_model_name": "FloatProgressModel",
            "_view_count": null,
            "_view_module": "@jupyter-widgets/controls",
            "_view_module_version": "1.5.0",
            "_view_name": "ProgressView",
            "bar_style": "success",
            "description": "",
            "description_tooltip": null,
            "layout": "IPY_MODEL_050e907a239e458dbb9f2c9b75bb9634",
            "max": 48,
            "min": 0,
            "orientation": "horizontal",
            "style": "IPY_MODEL_5dae0da33d1442c28ef0c1db2cd31ce2",
            "value": 48
          }
        },
        "d1640fa3e6324f51af8475c0290f8b42": {
          "model_module": "@jupyter-widgets/controls",
          "model_name": "HTMLModel",
          "model_module_version": "1.5.0",
          "state": {
            "_dom_classes": [],
            "_model_module": "@jupyter-widgets/controls",
            "_model_module_version": "1.5.0",
            "_model_name": "HTMLModel",
            "_view_count": null,
            "_view_module": "@jupyter-widgets/controls",
            "_view_module_version": "1.5.0",
            "_view_name": "HTMLView",
            "description": "",
            "description_tooltip": null,
            "layout": "IPY_MODEL_ec161f4dbce549bfbdd95cbba02cc993",
            "placeholder": "​",
            "style": "IPY_MODEL_a6820e0e3a004bb8b7965a88b678358a",
            "value": " 48.0/48.0 [00:00&lt;00:00, 1.11kB/s]"
          }
        },
        "39315af8c9c24a75b151886677141b97": {
          "model_module": "@jupyter-widgets/base",
          "model_name": "LayoutModel",
          "model_module_version": "1.2.0",
          "state": {
            "_model_module": "@jupyter-widgets/base",
            "_model_module_version": "1.2.0",
            "_model_name": "LayoutModel",
            "_view_count": null,
            "_view_module": "@jupyter-widgets/base",
            "_view_module_version": "1.2.0",
            "_view_name": "LayoutView",
            "align_content": null,
            "align_items": null,
            "align_self": null,
            "border": null,
            "bottom": null,
            "display": null,
            "flex": null,
            "flex_flow": null,
            "grid_area": null,
            "grid_auto_columns": null,
            "grid_auto_flow": null,
            "grid_auto_rows": null,
            "grid_column": null,
            "grid_gap": null,
            "grid_row": null,
            "grid_template_areas": null,
            "grid_template_columns": null,
            "grid_template_rows": null,
            "height": null,
            "justify_content": null,
            "justify_items": null,
            "left": null,
            "margin": null,
            "max_height": null,
            "max_width": null,
            "min_height": null,
            "min_width": null,
            "object_fit": null,
            "object_position": null,
            "order": null,
            "overflow": null,
            "overflow_x": null,
            "overflow_y": null,
            "padding": null,
            "right": null,
            "top": null,
            "visibility": null,
            "width": null
          }
        },
        "c52a83b913394e9dbb8ea7412d4e0860": {
          "model_module": "@jupyter-widgets/base",
          "model_name": "LayoutModel",
          "model_module_version": "1.2.0",
          "state": {
            "_model_module": "@jupyter-widgets/base",
            "_model_module_version": "1.2.0",
            "_model_name": "LayoutModel",
            "_view_count": null,
            "_view_module": "@jupyter-widgets/base",
            "_view_module_version": "1.2.0",
            "_view_name": "LayoutView",
            "align_content": null,
            "align_items": null,
            "align_self": null,
            "border": null,
            "bottom": null,
            "display": null,
            "flex": null,
            "flex_flow": null,
            "grid_area": null,
            "grid_auto_columns": null,
            "grid_auto_flow": null,
            "grid_auto_rows": null,
            "grid_column": null,
            "grid_gap": null,
            "grid_row": null,
            "grid_template_areas": null,
            "grid_template_columns": null,
            "grid_template_rows": null,
            "height": null,
            "justify_content": null,
            "justify_items": null,
            "left": null,
            "margin": null,
            "max_height": null,
            "max_width": null,
            "min_height": null,
            "min_width": null,
            "object_fit": null,
            "object_position": null,
            "order": null,
            "overflow": null,
            "overflow_x": null,
            "overflow_y": null,
            "padding": null,
            "right": null,
            "top": null,
            "visibility": null,
            "width": null
          }
        },
        "b0a3bc5fb4d24b5ab9722d99c4d67ae3": {
          "model_module": "@jupyter-widgets/controls",
          "model_name": "DescriptionStyleModel",
          "model_module_version": "1.5.0",
          "state": {
            "_model_module": "@jupyter-widgets/controls",
            "_model_module_version": "1.5.0",
            "_model_name": "DescriptionStyleModel",
            "_view_count": null,
            "_view_module": "@jupyter-widgets/base",
            "_view_module_version": "1.2.0",
            "_view_name": "StyleView",
            "description_width": ""
          }
        },
        "050e907a239e458dbb9f2c9b75bb9634": {
          "model_module": "@jupyter-widgets/base",
          "model_name": "LayoutModel",
          "model_module_version": "1.2.0",
          "state": {
            "_model_module": "@jupyter-widgets/base",
            "_model_module_version": "1.2.0",
            "_model_name": "LayoutModel",
            "_view_count": null,
            "_view_module": "@jupyter-widgets/base",
            "_view_module_version": "1.2.0",
            "_view_name": "LayoutView",
            "align_content": null,
            "align_items": null,
            "align_self": null,
            "border": null,
            "bottom": null,
            "display": null,
            "flex": null,
            "flex_flow": null,
            "grid_area": null,
            "grid_auto_columns": null,
            "grid_auto_flow": null,
            "grid_auto_rows": null,
            "grid_column": null,
            "grid_gap": null,
            "grid_row": null,
            "grid_template_areas": null,
            "grid_template_columns": null,
            "grid_template_rows": null,
            "height": null,
            "justify_content": null,
            "justify_items": null,
            "left": null,
            "margin": null,
            "max_height": null,
            "max_width": null,
            "min_height": null,
            "min_width": null,
            "object_fit": null,
            "object_position": null,
            "order": null,
            "overflow": null,
            "overflow_x": null,
            "overflow_y": null,
            "padding": null,
            "right": null,
            "top": null,
            "visibility": null,
            "width": null
          }
        },
        "5dae0da33d1442c28ef0c1db2cd31ce2": {
          "model_module": "@jupyter-widgets/controls",
          "model_name": "ProgressStyleModel",
          "model_module_version": "1.5.0",
          "state": {
            "_model_module": "@jupyter-widgets/controls",
            "_model_module_version": "1.5.0",
            "_model_name": "ProgressStyleModel",
            "_view_count": null,
            "_view_module": "@jupyter-widgets/base",
            "_view_module_version": "1.2.0",
            "_view_name": "StyleView",
            "bar_color": null,
            "description_width": ""
          }
        },
        "ec161f4dbce549bfbdd95cbba02cc993": {
          "model_module": "@jupyter-widgets/base",
          "model_name": "LayoutModel",
          "model_module_version": "1.2.0",
          "state": {
            "_model_module": "@jupyter-widgets/base",
            "_model_module_version": "1.2.0",
            "_model_name": "LayoutModel",
            "_view_count": null,
            "_view_module": "@jupyter-widgets/base",
            "_view_module_version": "1.2.0",
            "_view_name": "LayoutView",
            "align_content": null,
            "align_items": null,
            "align_self": null,
            "border": null,
            "bottom": null,
            "display": null,
            "flex": null,
            "flex_flow": null,
            "grid_area": null,
            "grid_auto_columns": null,
            "grid_auto_flow": null,
            "grid_auto_rows": null,
            "grid_column": null,
            "grid_gap": null,
            "grid_row": null,
            "grid_template_areas": null,
            "grid_template_columns": null,
            "grid_template_rows": null,
            "height": null,
            "justify_content": null,
            "justify_items": null,
            "left": null,
            "margin": null,
            "max_height": null,
            "max_width": null,
            "min_height": null,
            "min_width": null,
            "object_fit": null,
            "object_position": null,
            "order": null,
            "overflow": null,
            "overflow_x": null,
            "overflow_y": null,
            "padding": null,
            "right": null,
            "top": null,
            "visibility": null,
            "width": null
          }
        },
        "a6820e0e3a004bb8b7965a88b678358a": {
          "model_module": "@jupyter-widgets/controls",
          "model_name": "DescriptionStyleModel",
          "model_module_version": "1.5.0",
          "state": {
            "_model_module": "@jupyter-widgets/controls",
            "_model_module_version": "1.5.0",
            "_model_name": "DescriptionStyleModel",
            "_view_count": null,
            "_view_module": "@jupyter-widgets/base",
            "_view_module_version": "1.2.0",
            "_view_name": "StyleView",
            "description_width": ""
          }
        },
        "56410d2e763c4774933a46f50099c48f": {
          "model_module": "@jupyter-widgets/controls",
          "model_name": "HBoxModel",
          "model_module_version": "1.5.0",
          "state": {
            "_dom_classes": [],
            "_model_module": "@jupyter-widgets/controls",
            "_model_module_version": "1.5.0",
            "_model_name": "HBoxModel",
            "_view_count": null,
            "_view_module": "@jupyter-widgets/controls",
            "_view_module_version": "1.5.0",
            "_view_name": "HBoxView",
            "box_style": "",
            "children": [
              "IPY_MODEL_21cce9c85fac4fa49d2e7fd1b322cf72",
              "IPY_MODEL_0c3f5886b8444cc7bf234457c5bc7291",
              "IPY_MODEL_ec7cc4e8e1aa458f93b30819be7f1072"
            ],
            "layout": "IPY_MODEL_88971ab40ae14982a29bbc05e64acd70"
          }
        },
        "21cce9c85fac4fa49d2e7fd1b322cf72": {
          "model_module": "@jupyter-widgets/controls",
          "model_name": "HTMLModel",
          "model_module_version": "1.5.0",
          "state": {
            "_dom_classes": [],
            "_model_module": "@jupyter-widgets/controls",
            "_model_module_version": "1.5.0",
            "_model_name": "HTMLModel",
            "_view_count": null,
            "_view_module": "@jupyter-widgets/controls",
            "_view_module_version": "1.5.0",
            "_view_name": "HTMLView",
            "description": "",
            "description_tooltip": null,
            "layout": "IPY_MODEL_01e96a3f76ca45a5863ab1823d5b8f30",
            "placeholder": "​",
            "style": "IPY_MODEL_c17ded20e9f34263b46855315f85f57b",
            "value": "vocab.txt: 100%"
          }
        },
        "0c3f5886b8444cc7bf234457c5bc7291": {
          "model_module": "@jupyter-widgets/controls",
          "model_name": "FloatProgressModel",
          "model_module_version": "1.5.0",
          "state": {
            "_dom_classes": [],
            "_model_module": "@jupyter-widgets/controls",
            "_model_module_version": "1.5.0",
            "_model_name": "FloatProgressModel",
            "_view_count": null,
            "_view_module": "@jupyter-widgets/controls",
            "_view_module_version": "1.5.0",
            "_view_name": "ProgressView",
            "bar_style": "success",
            "description": "",
            "description_tooltip": null,
            "layout": "IPY_MODEL_d20fe340ecf6420ab691d1652575cfdb",
            "max": 231508,
            "min": 0,
            "orientation": "horizontal",
            "style": "IPY_MODEL_48f31cc3034242d4a774fdb19de04d8f",
            "value": 231508
          }
        },
        "ec7cc4e8e1aa458f93b30819be7f1072": {
          "model_module": "@jupyter-widgets/controls",
          "model_name": "HTMLModel",
          "model_module_version": "1.5.0",
          "state": {
            "_dom_classes": [],
            "_model_module": "@jupyter-widgets/controls",
            "_model_module_version": "1.5.0",
            "_model_name": "HTMLModel",
            "_view_count": null,
            "_view_module": "@jupyter-widgets/controls",
            "_view_module_version": "1.5.0",
            "_view_name": "HTMLView",
            "description": "",
            "description_tooltip": null,
            "layout": "IPY_MODEL_53a51e73933d4ae9870bf4805dd48c33",
            "placeholder": "​",
            "style": "IPY_MODEL_fd75f43470e94f61925e90dd3b93988a",
            "value": " 232k/232k [00:00&lt;00:00, 2.68MB/s]"
          }
        },
        "88971ab40ae14982a29bbc05e64acd70": {
          "model_module": "@jupyter-widgets/base",
          "model_name": "LayoutModel",
          "model_module_version": "1.2.0",
          "state": {
            "_model_module": "@jupyter-widgets/base",
            "_model_module_version": "1.2.0",
            "_model_name": "LayoutModel",
            "_view_count": null,
            "_view_module": "@jupyter-widgets/base",
            "_view_module_version": "1.2.0",
            "_view_name": "LayoutView",
            "align_content": null,
            "align_items": null,
            "align_self": null,
            "border": null,
            "bottom": null,
            "display": null,
            "flex": null,
            "flex_flow": null,
            "grid_area": null,
            "grid_auto_columns": null,
            "grid_auto_flow": null,
            "grid_auto_rows": null,
            "grid_column": null,
            "grid_gap": null,
            "grid_row": null,
            "grid_template_areas": null,
            "grid_template_columns": null,
            "grid_template_rows": null,
            "height": null,
            "justify_content": null,
            "justify_items": null,
            "left": null,
            "margin": null,
            "max_height": null,
            "max_width": null,
            "min_height": null,
            "min_width": null,
            "object_fit": null,
            "object_position": null,
            "order": null,
            "overflow": null,
            "overflow_x": null,
            "overflow_y": null,
            "padding": null,
            "right": null,
            "top": null,
            "visibility": null,
            "width": null
          }
        },
        "01e96a3f76ca45a5863ab1823d5b8f30": {
          "model_module": "@jupyter-widgets/base",
          "model_name": "LayoutModel",
          "model_module_version": "1.2.0",
          "state": {
            "_model_module": "@jupyter-widgets/base",
            "_model_module_version": "1.2.0",
            "_model_name": "LayoutModel",
            "_view_count": null,
            "_view_module": "@jupyter-widgets/base",
            "_view_module_version": "1.2.0",
            "_view_name": "LayoutView",
            "align_content": null,
            "align_items": null,
            "align_self": null,
            "border": null,
            "bottom": null,
            "display": null,
            "flex": null,
            "flex_flow": null,
            "grid_area": null,
            "grid_auto_columns": null,
            "grid_auto_flow": null,
            "grid_auto_rows": null,
            "grid_column": null,
            "grid_gap": null,
            "grid_row": null,
            "grid_template_areas": null,
            "grid_template_columns": null,
            "grid_template_rows": null,
            "height": null,
            "justify_content": null,
            "justify_items": null,
            "left": null,
            "margin": null,
            "max_height": null,
            "max_width": null,
            "min_height": null,
            "min_width": null,
            "object_fit": null,
            "object_position": null,
            "order": null,
            "overflow": null,
            "overflow_x": null,
            "overflow_y": null,
            "padding": null,
            "right": null,
            "top": null,
            "visibility": null,
            "width": null
          }
        },
        "c17ded20e9f34263b46855315f85f57b": {
          "model_module": "@jupyter-widgets/controls",
          "model_name": "DescriptionStyleModel",
          "model_module_version": "1.5.0",
          "state": {
            "_model_module": "@jupyter-widgets/controls",
            "_model_module_version": "1.5.0",
            "_model_name": "DescriptionStyleModel",
            "_view_count": null,
            "_view_module": "@jupyter-widgets/base",
            "_view_module_version": "1.2.0",
            "_view_name": "StyleView",
            "description_width": ""
          }
        },
        "d20fe340ecf6420ab691d1652575cfdb": {
          "model_module": "@jupyter-widgets/base",
          "model_name": "LayoutModel",
          "model_module_version": "1.2.0",
          "state": {
            "_model_module": "@jupyter-widgets/base",
            "_model_module_version": "1.2.0",
            "_model_name": "LayoutModel",
            "_view_count": null,
            "_view_module": "@jupyter-widgets/base",
            "_view_module_version": "1.2.0",
            "_view_name": "LayoutView",
            "align_content": null,
            "align_items": null,
            "align_self": null,
            "border": null,
            "bottom": null,
            "display": null,
            "flex": null,
            "flex_flow": null,
            "grid_area": null,
            "grid_auto_columns": null,
            "grid_auto_flow": null,
            "grid_auto_rows": null,
            "grid_column": null,
            "grid_gap": null,
            "grid_row": null,
            "grid_template_areas": null,
            "grid_template_columns": null,
            "grid_template_rows": null,
            "height": null,
            "justify_content": null,
            "justify_items": null,
            "left": null,
            "margin": null,
            "max_height": null,
            "max_width": null,
            "min_height": null,
            "min_width": null,
            "object_fit": null,
            "object_position": null,
            "order": null,
            "overflow": null,
            "overflow_x": null,
            "overflow_y": null,
            "padding": null,
            "right": null,
            "top": null,
            "visibility": null,
            "width": null
          }
        },
        "48f31cc3034242d4a774fdb19de04d8f": {
          "model_module": "@jupyter-widgets/controls",
          "model_name": "ProgressStyleModel",
          "model_module_version": "1.5.0",
          "state": {
            "_model_module": "@jupyter-widgets/controls",
            "_model_module_version": "1.5.0",
            "_model_name": "ProgressStyleModel",
            "_view_count": null,
            "_view_module": "@jupyter-widgets/base",
            "_view_module_version": "1.2.0",
            "_view_name": "StyleView",
            "bar_color": null,
            "description_width": ""
          }
        },
        "53a51e73933d4ae9870bf4805dd48c33": {
          "model_module": "@jupyter-widgets/base",
          "model_name": "LayoutModel",
          "model_module_version": "1.2.0",
          "state": {
            "_model_module": "@jupyter-widgets/base",
            "_model_module_version": "1.2.0",
            "_model_name": "LayoutModel",
            "_view_count": null,
            "_view_module": "@jupyter-widgets/base",
            "_view_module_version": "1.2.0",
            "_view_name": "LayoutView",
            "align_content": null,
            "align_items": null,
            "align_self": null,
            "border": null,
            "bottom": null,
            "display": null,
            "flex": null,
            "flex_flow": null,
            "grid_area": null,
            "grid_auto_columns": null,
            "grid_auto_flow": null,
            "grid_auto_rows": null,
            "grid_column": null,
            "grid_gap": null,
            "grid_row": null,
            "grid_template_areas": null,
            "grid_template_columns": null,
            "grid_template_rows": null,
            "height": null,
            "justify_content": null,
            "justify_items": null,
            "left": null,
            "margin": null,
            "max_height": null,
            "max_width": null,
            "min_height": null,
            "min_width": null,
            "object_fit": null,
            "object_position": null,
            "order": null,
            "overflow": null,
            "overflow_x": null,
            "overflow_y": null,
            "padding": null,
            "right": null,
            "top": null,
            "visibility": null,
            "width": null
          }
        },
        "fd75f43470e94f61925e90dd3b93988a": {
          "model_module": "@jupyter-widgets/controls",
          "model_name": "DescriptionStyleModel",
          "model_module_version": "1.5.0",
          "state": {
            "_model_module": "@jupyter-widgets/controls",
            "_model_module_version": "1.5.0",
            "_model_name": "DescriptionStyleModel",
            "_view_count": null,
            "_view_module": "@jupyter-widgets/base",
            "_view_module_version": "1.2.0",
            "_view_name": "StyleView",
            "description_width": ""
          }
        },
        "0dc5cba8c12148f98395caf9fd58aae5": {
          "model_module": "@jupyter-widgets/controls",
          "model_name": "HBoxModel",
          "model_module_version": "1.5.0",
          "state": {
            "_dom_classes": [],
            "_model_module": "@jupyter-widgets/controls",
            "_model_module_version": "1.5.0",
            "_model_name": "HBoxModel",
            "_view_count": null,
            "_view_module": "@jupyter-widgets/controls",
            "_view_module_version": "1.5.0",
            "_view_name": "HBoxView",
            "box_style": "",
            "children": [
              "IPY_MODEL_a70d2d8a1d1745219b2d7d099a621134",
              "IPY_MODEL_048b579bc6ff446fb46d3f9f275c84a5",
              "IPY_MODEL_6028b0a0dd4b45cd99553098ca075c00"
            ],
            "layout": "IPY_MODEL_650b93bdf7024d2fbcde860a737fd9cd"
          }
        },
        "a70d2d8a1d1745219b2d7d099a621134": {
          "model_module": "@jupyter-widgets/controls",
          "model_name": "HTMLModel",
          "model_module_version": "1.5.0",
          "state": {
            "_dom_classes": [],
            "_model_module": "@jupyter-widgets/controls",
            "_model_module_version": "1.5.0",
            "_model_name": "HTMLModel",
            "_view_count": null,
            "_view_module": "@jupyter-widgets/controls",
            "_view_module_version": "1.5.0",
            "_view_name": "HTMLView",
            "description": "",
            "description_tooltip": null,
            "layout": "IPY_MODEL_592c597d2f2947c9bad8855601305859",
            "placeholder": "​",
            "style": "IPY_MODEL_f2891cbdec4f4b47bf8e74c2d6edcb03",
            "value": "config.json: 100%"
          }
        },
        "048b579bc6ff446fb46d3f9f275c84a5": {
          "model_module": "@jupyter-widgets/controls",
          "model_name": "FloatProgressModel",
          "model_module_version": "1.5.0",
          "state": {
            "_dom_classes": [],
            "_model_module": "@jupyter-widgets/controls",
            "_model_module_version": "1.5.0",
            "_model_name": "FloatProgressModel",
            "_view_count": null,
            "_view_module": "@jupyter-widgets/controls",
            "_view_module_version": "1.5.0",
            "_view_name": "ProgressView",
            "bar_style": "success",
            "description": "",
            "description_tooltip": null,
            "layout": "IPY_MODEL_69d5be3d128c4cac9bf38089013f3371",
            "max": 953,
            "min": 0,
            "orientation": "horizontal",
            "style": "IPY_MODEL_ac2f27f72c0648ad9d37e39fbe9c7f48",
            "value": 953
          }
        },
        "6028b0a0dd4b45cd99553098ca075c00": {
          "model_module": "@jupyter-widgets/controls",
          "model_name": "HTMLModel",
          "model_module_version": "1.5.0",
          "state": {
            "_dom_classes": [],
            "_model_module": "@jupyter-widgets/controls",
            "_model_module_version": "1.5.0",
            "_model_name": "HTMLModel",
            "_view_count": null,
            "_view_module": "@jupyter-widgets/controls",
            "_view_module_version": "1.5.0",
            "_view_name": "HTMLView",
            "description": "",
            "description_tooltip": null,
            "layout": "IPY_MODEL_f13f1660389448d19f1436ec922341c0",
            "placeholder": "​",
            "style": "IPY_MODEL_1cdb2f1420ed447eb96ae08a60b32a4f",
            "value": " 953/953 [00:00&lt;00:00, 52.2kB/s]"
          }
        },
        "650b93bdf7024d2fbcde860a737fd9cd": {
          "model_module": "@jupyter-widgets/base",
          "model_name": "LayoutModel",
          "model_module_version": "1.2.0",
          "state": {
            "_model_module": "@jupyter-widgets/base",
            "_model_module_version": "1.2.0",
            "_model_name": "LayoutModel",
            "_view_count": null,
            "_view_module": "@jupyter-widgets/base",
            "_view_module_version": "1.2.0",
            "_view_name": "LayoutView",
            "align_content": null,
            "align_items": null,
            "align_self": null,
            "border": null,
            "bottom": null,
            "display": null,
            "flex": null,
            "flex_flow": null,
            "grid_area": null,
            "grid_auto_columns": null,
            "grid_auto_flow": null,
            "grid_auto_rows": null,
            "grid_column": null,
            "grid_gap": null,
            "grid_row": null,
            "grid_template_areas": null,
            "grid_template_columns": null,
            "grid_template_rows": null,
            "height": null,
            "justify_content": null,
            "justify_items": null,
            "left": null,
            "margin": null,
            "max_height": null,
            "max_width": null,
            "min_height": null,
            "min_width": null,
            "object_fit": null,
            "object_position": null,
            "order": null,
            "overflow": null,
            "overflow_x": null,
            "overflow_y": null,
            "padding": null,
            "right": null,
            "top": null,
            "visibility": null,
            "width": null
          }
        },
        "592c597d2f2947c9bad8855601305859": {
          "model_module": "@jupyter-widgets/base",
          "model_name": "LayoutModel",
          "model_module_version": "1.2.0",
          "state": {
            "_model_module": "@jupyter-widgets/base",
            "_model_module_version": "1.2.0",
            "_model_name": "LayoutModel",
            "_view_count": null,
            "_view_module": "@jupyter-widgets/base",
            "_view_module_version": "1.2.0",
            "_view_name": "LayoutView",
            "align_content": null,
            "align_items": null,
            "align_self": null,
            "border": null,
            "bottom": null,
            "display": null,
            "flex": null,
            "flex_flow": null,
            "grid_area": null,
            "grid_auto_columns": null,
            "grid_auto_flow": null,
            "grid_auto_rows": null,
            "grid_column": null,
            "grid_gap": null,
            "grid_row": null,
            "grid_template_areas": null,
            "grid_template_columns": null,
            "grid_template_rows": null,
            "height": null,
            "justify_content": null,
            "justify_items": null,
            "left": null,
            "margin": null,
            "max_height": null,
            "max_width": null,
            "min_height": null,
            "min_width": null,
            "object_fit": null,
            "object_position": null,
            "order": null,
            "overflow": null,
            "overflow_x": null,
            "overflow_y": null,
            "padding": null,
            "right": null,
            "top": null,
            "visibility": null,
            "width": null
          }
        },
        "f2891cbdec4f4b47bf8e74c2d6edcb03": {
          "model_module": "@jupyter-widgets/controls",
          "model_name": "DescriptionStyleModel",
          "model_module_version": "1.5.0",
          "state": {
            "_model_module": "@jupyter-widgets/controls",
            "_model_module_version": "1.5.0",
            "_model_name": "DescriptionStyleModel",
            "_view_count": null,
            "_view_module": "@jupyter-widgets/base",
            "_view_module_version": "1.2.0",
            "_view_name": "StyleView",
            "description_width": ""
          }
        },
        "69d5be3d128c4cac9bf38089013f3371": {
          "model_module": "@jupyter-widgets/base",
          "model_name": "LayoutModel",
          "model_module_version": "1.2.0",
          "state": {
            "_model_module": "@jupyter-widgets/base",
            "_model_module_version": "1.2.0",
            "_model_name": "LayoutModel",
            "_view_count": null,
            "_view_module": "@jupyter-widgets/base",
            "_view_module_version": "1.2.0",
            "_view_name": "LayoutView",
            "align_content": null,
            "align_items": null,
            "align_self": null,
            "border": null,
            "bottom": null,
            "display": null,
            "flex": null,
            "flex_flow": null,
            "grid_area": null,
            "grid_auto_columns": null,
            "grid_auto_flow": null,
            "grid_auto_rows": null,
            "grid_column": null,
            "grid_gap": null,
            "grid_row": null,
            "grid_template_areas": null,
            "grid_template_columns": null,
            "grid_template_rows": null,
            "height": null,
            "justify_content": null,
            "justify_items": null,
            "left": null,
            "margin": null,
            "max_height": null,
            "max_width": null,
            "min_height": null,
            "min_width": null,
            "object_fit": null,
            "object_position": null,
            "order": null,
            "overflow": null,
            "overflow_x": null,
            "overflow_y": null,
            "padding": null,
            "right": null,
            "top": null,
            "visibility": null,
            "width": null
          }
        },
        "ac2f27f72c0648ad9d37e39fbe9c7f48": {
          "model_module": "@jupyter-widgets/controls",
          "model_name": "ProgressStyleModel",
          "model_module_version": "1.5.0",
          "state": {
            "_model_module": "@jupyter-widgets/controls",
            "_model_module_version": "1.5.0",
            "_model_name": "ProgressStyleModel",
            "_view_count": null,
            "_view_module": "@jupyter-widgets/base",
            "_view_module_version": "1.2.0",
            "_view_name": "StyleView",
            "bar_color": null,
            "description_width": ""
          }
        },
        "f13f1660389448d19f1436ec922341c0": {
          "model_module": "@jupyter-widgets/base",
          "model_name": "LayoutModel",
          "model_module_version": "1.2.0",
          "state": {
            "_model_module": "@jupyter-widgets/base",
            "_model_module_version": "1.2.0",
            "_model_name": "LayoutModel",
            "_view_count": null,
            "_view_module": "@jupyter-widgets/base",
            "_view_module_version": "1.2.0",
            "_view_name": "LayoutView",
            "align_content": null,
            "align_items": null,
            "align_self": null,
            "border": null,
            "bottom": null,
            "display": null,
            "flex": null,
            "flex_flow": null,
            "grid_area": null,
            "grid_auto_columns": null,
            "grid_auto_flow": null,
            "grid_auto_rows": null,
            "grid_column": null,
            "grid_gap": null,
            "grid_row": null,
            "grid_template_areas": null,
            "grid_template_columns": null,
            "grid_template_rows": null,
            "height": null,
            "justify_content": null,
            "justify_items": null,
            "left": null,
            "margin": null,
            "max_height": null,
            "max_width": null,
            "min_height": null,
            "min_width": null,
            "object_fit": null,
            "object_position": null,
            "order": null,
            "overflow": null,
            "overflow_x": null,
            "overflow_y": null,
            "padding": null,
            "right": null,
            "top": null,
            "visibility": null,
            "width": null
          }
        },
        "1cdb2f1420ed447eb96ae08a60b32a4f": {
          "model_module": "@jupyter-widgets/controls",
          "model_name": "DescriptionStyleModel",
          "model_module_version": "1.5.0",
          "state": {
            "_model_module": "@jupyter-widgets/controls",
            "_model_module_version": "1.5.0",
            "_model_name": "DescriptionStyleModel",
            "_view_count": null,
            "_view_module": "@jupyter-widgets/base",
            "_view_module_version": "1.2.0",
            "_view_name": "StyleView",
            "description_width": ""
          }
        },
        "fe3e9a0bdea1449a9a62718d597542e1": {
          "model_module": "@jupyter-widgets/controls",
          "model_name": "HBoxModel",
          "model_module_version": "1.5.0",
          "state": {
            "_dom_classes": [],
            "_model_module": "@jupyter-widgets/controls",
            "_model_module_version": "1.5.0",
            "_model_name": "HBoxModel",
            "_view_count": null,
            "_view_module": "@jupyter-widgets/controls",
            "_view_module_version": "1.5.0",
            "_view_name": "HBoxView",
            "box_style": "",
            "children": [
              "IPY_MODEL_030788528c79423dae00d0a0c5981c0d",
              "IPY_MODEL_efc7ace0cb4940228605b8b1e603b8ef",
              "IPY_MODEL_913ab47cb8214afaab42514c44f0979a"
            ],
            "layout": "IPY_MODEL_98857e96af9e4233a8eb1f3265f4fb28"
          }
        },
        "030788528c79423dae00d0a0c5981c0d": {
          "model_module": "@jupyter-widgets/controls",
          "model_name": "HTMLModel",
          "model_module_version": "1.5.0",
          "state": {
            "_dom_classes": [],
            "_model_module": "@jupyter-widgets/controls",
            "_model_module_version": "1.5.0",
            "_model_name": "HTMLModel",
            "_view_count": null,
            "_view_module": "@jupyter-widgets/controls",
            "_view_module_version": "1.5.0",
            "_view_name": "HTMLView",
            "description": "",
            "description_tooltip": null,
            "layout": "IPY_MODEL_c97f5cdeb9e84d6e85f9287f581fbdb5",
            "placeholder": "​",
            "style": "IPY_MODEL_4e6709e9c59f49218252e99d74d5e35b",
            "value": "pytorch_model.bin: 100%"
          }
        },
        "efc7ace0cb4940228605b8b1e603b8ef": {
          "model_module": "@jupyter-widgets/controls",
          "model_name": "FloatProgressModel",
          "model_module_version": "1.5.0",
          "state": {
            "_dom_classes": [],
            "_model_module": "@jupyter-widgets/controls",
            "_model_module_version": "1.5.0",
            "_model_name": "FloatProgressModel",
            "_view_count": null,
            "_view_module": "@jupyter-widgets/controls",
            "_view_module_version": "1.5.0",
            "_view_name": "ProgressView",
            "bar_style": "success",
            "description": "",
            "description_tooltip": null,
            "layout": "IPY_MODEL_e4fe242056104af8a74cd7a001b48e96",
            "max": 669491321,
            "min": 0,
            "orientation": "horizontal",
            "style": "IPY_MODEL_3ee3e3cbcd054066b15962035f9ed866",
            "value": 669491321
          }
        },
        "913ab47cb8214afaab42514c44f0979a": {
          "model_module": "@jupyter-widgets/controls",
          "model_name": "HTMLModel",
          "model_module_version": "1.5.0",
          "state": {
            "_dom_classes": [],
            "_model_module": "@jupyter-widgets/controls",
            "_model_module_version": "1.5.0",
            "_model_name": "HTMLModel",
            "_view_count": null,
            "_view_module": "@jupyter-widgets/controls",
            "_view_module_version": "1.5.0",
            "_view_name": "HTMLView",
            "description": "",
            "description_tooltip": null,
            "layout": "IPY_MODEL_d5560759d85a4027a7be9515295ef7cc",
            "placeholder": "​",
            "style": "IPY_MODEL_dd9b7b7c54864a69894a51c56f1439a1",
            "value": " 669M/669M [00:06&lt;00:00, 113MB/s]"
          }
        },
        "98857e96af9e4233a8eb1f3265f4fb28": {
          "model_module": "@jupyter-widgets/base",
          "model_name": "LayoutModel",
          "model_module_version": "1.2.0",
          "state": {
            "_model_module": "@jupyter-widgets/base",
            "_model_module_version": "1.2.0",
            "_model_name": "LayoutModel",
            "_view_count": null,
            "_view_module": "@jupyter-widgets/base",
            "_view_module_version": "1.2.0",
            "_view_name": "LayoutView",
            "align_content": null,
            "align_items": null,
            "align_self": null,
            "border": null,
            "bottom": null,
            "display": null,
            "flex": null,
            "flex_flow": null,
            "grid_area": null,
            "grid_auto_columns": null,
            "grid_auto_flow": null,
            "grid_auto_rows": null,
            "grid_column": null,
            "grid_gap": null,
            "grid_row": null,
            "grid_template_areas": null,
            "grid_template_columns": null,
            "grid_template_rows": null,
            "height": null,
            "justify_content": null,
            "justify_items": null,
            "left": null,
            "margin": null,
            "max_height": null,
            "max_width": null,
            "min_height": null,
            "min_width": null,
            "object_fit": null,
            "object_position": null,
            "order": null,
            "overflow": null,
            "overflow_x": null,
            "overflow_y": null,
            "padding": null,
            "right": null,
            "top": null,
            "visibility": null,
            "width": null
          }
        },
        "c97f5cdeb9e84d6e85f9287f581fbdb5": {
          "model_module": "@jupyter-widgets/base",
          "model_name": "LayoutModel",
          "model_module_version": "1.2.0",
          "state": {
            "_model_module": "@jupyter-widgets/base",
            "_model_module_version": "1.2.0",
            "_model_name": "LayoutModel",
            "_view_count": null,
            "_view_module": "@jupyter-widgets/base",
            "_view_module_version": "1.2.0",
            "_view_name": "LayoutView",
            "align_content": null,
            "align_items": null,
            "align_self": null,
            "border": null,
            "bottom": null,
            "display": null,
            "flex": null,
            "flex_flow": null,
            "grid_area": null,
            "grid_auto_columns": null,
            "grid_auto_flow": null,
            "grid_auto_rows": null,
            "grid_column": null,
            "grid_gap": null,
            "grid_row": null,
            "grid_template_areas": null,
            "grid_template_columns": null,
            "grid_template_rows": null,
            "height": null,
            "justify_content": null,
            "justify_items": null,
            "left": null,
            "margin": null,
            "max_height": null,
            "max_width": null,
            "min_height": null,
            "min_width": null,
            "object_fit": null,
            "object_position": null,
            "order": null,
            "overflow": null,
            "overflow_x": null,
            "overflow_y": null,
            "padding": null,
            "right": null,
            "top": null,
            "visibility": null,
            "width": null
          }
        },
        "4e6709e9c59f49218252e99d74d5e35b": {
          "model_module": "@jupyter-widgets/controls",
          "model_name": "DescriptionStyleModel",
          "model_module_version": "1.5.0",
          "state": {
            "_model_module": "@jupyter-widgets/controls",
            "_model_module_version": "1.5.0",
            "_model_name": "DescriptionStyleModel",
            "_view_count": null,
            "_view_module": "@jupyter-widgets/base",
            "_view_module_version": "1.2.0",
            "_view_name": "StyleView",
            "description_width": ""
          }
        },
        "e4fe242056104af8a74cd7a001b48e96": {
          "model_module": "@jupyter-widgets/base",
          "model_name": "LayoutModel",
          "model_module_version": "1.2.0",
          "state": {
            "_model_module": "@jupyter-widgets/base",
            "_model_module_version": "1.2.0",
            "_model_name": "LayoutModel",
            "_view_count": null,
            "_view_module": "@jupyter-widgets/base",
            "_view_module_version": "1.2.0",
            "_view_name": "LayoutView",
            "align_content": null,
            "align_items": null,
            "align_self": null,
            "border": null,
            "bottom": null,
            "display": null,
            "flex": null,
            "flex_flow": null,
            "grid_area": null,
            "grid_auto_columns": null,
            "grid_auto_flow": null,
            "grid_auto_rows": null,
            "grid_column": null,
            "grid_gap": null,
            "grid_row": null,
            "grid_template_areas": null,
            "grid_template_columns": null,
            "grid_template_rows": null,
            "height": null,
            "justify_content": null,
            "justify_items": null,
            "left": null,
            "margin": null,
            "max_height": null,
            "max_width": null,
            "min_height": null,
            "min_width": null,
            "object_fit": null,
            "object_position": null,
            "order": null,
            "overflow": null,
            "overflow_x": null,
            "overflow_y": null,
            "padding": null,
            "right": null,
            "top": null,
            "visibility": null,
            "width": null
          }
        },
        "3ee3e3cbcd054066b15962035f9ed866": {
          "model_module": "@jupyter-widgets/controls",
          "model_name": "ProgressStyleModel",
          "model_module_version": "1.5.0",
          "state": {
            "_model_module": "@jupyter-widgets/controls",
            "_model_module_version": "1.5.0",
            "_model_name": "ProgressStyleModel",
            "_view_count": null,
            "_view_module": "@jupyter-widgets/base",
            "_view_module_version": "1.2.0",
            "_view_name": "StyleView",
            "bar_color": null,
            "description_width": ""
          }
        },
        "d5560759d85a4027a7be9515295ef7cc": {
          "model_module": "@jupyter-widgets/base",
          "model_name": "LayoutModel",
          "model_module_version": "1.2.0",
          "state": {
            "_model_module": "@jupyter-widgets/base",
            "_model_module_version": "1.2.0",
            "_model_name": "LayoutModel",
            "_view_count": null,
            "_view_module": "@jupyter-widgets/base",
            "_view_module_version": "1.2.0",
            "_view_name": "LayoutView",
            "align_content": null,
            "align_items": null,
            "align_self": null,
            "border": null,
            "bottom": null,
            "display": null,
            "flex": null,
            "flex_flow": null,
            "grid_area": null,
            "grid_auto_columns": null,
            "grid_auto_flow": null,
            "grid_auto_rows": null,
            "grid_column": null,
            "grid_gap": null,
            "grid_row": null,
            "grid_template_areas": null,
            "grid_template_columns": null,
            "grid_template_rows": null,
            "height": null,
            "justify_content": null,
            "justify_items": null,
            "left": null,
            "margin": null,
            "max_height": null,
            "max_width": null,
            "min_height": null,
            "min_width": null,
            "object_fit": null,
            "object_position": null,
            "order": null,
            "overflow": null,
            "overflow_x": null,
            "overflow_y": null,
            "padding": null,
            "right": null,
            "top": null,
            "visibility": null,
            "width": null
          }
        },
        "dd9b7b7c54864a69894a51c56f1439a1": {
          "model_module": "@jupyter-widgets/controls",
          "model_name": "DescriptionStyleModel",
          "model_module_version": "1.5.0",
          "state": {
            "_model_module": "@jupyter-widgets/controls",
            "_model_module_version": "1.5.0",
            "_model_name": "DescriptionStyleModel",
            "_view_count": null,
            "_view_module": "@jupyter-widgets/base",
            "_view_module_version": "1.2.0",
            "_view_name": "StyleView",
            "description_width": ""
          }
        },
        "95a65a9459904284812c646a081a819b": {
          "model_module": "@jupyter-widgets/controls",
          "model_name": "HBoxModel",
          "model_module_version": "1.5.0",
          "state": {
            "_dom_classes": [],
            "_model_module": "@jupyter-widgets/controls",
            "_model_module_version": "1.5.0",
            "_model_name": "HBoxModel",
            "_view_count": null,
            "_view_module": "@jupyter-widgets/controls",
            "_view_module_version": "1.5.0",
            "_view_name": "HBoxView",
            "box_style": "",
            "children": [
              "IPY_MODEL_dbb020b719f141039487bf6b724b8cf8",
              "IPY_MODEL_f17e64c5316a43b9b3eea9c27ce0bb05",
              "IPY_MODEL_89f0bf1191074a51a31d2c6d0e70f580"
            ],
            "layout": "IPY_MODEL_ff635c1da0b84d33a6bfd292fbff6d31"
          }
        },
        "dbb020b719f141039487bf6b724b8cf8": {
          "model_module": "@jupyter-widgets/controls",
          "model_name": "HTMLModel",
          "model_module_version": "1.5.0",
          "state": {
            "_dom_classes": [],
            "_model_module": "@jupyter-widgets/controls",
            "_model_module_version": "1.5.0",
            "_model_name": "HTMLModel",
            "_view_count": null,
            "_view_module": "@jupyter-widgets/controls",
            "_view_module_version": "1.5.0",
            "_view_name": "HTMLView",
            "description": "",
            "description_tooltip": null,
            "layout": "IPY_MODEL_cbfcd8b9dfab4e64889903ac7700f624",
            "placeholder": "​",
            "style": "IPY_MODEL_34d5b6f5886341c0b4b461336f82ab51",
            "value": "tokenizer_config.json: 100%"
          }
        },
        "f17e64c5316a43b9b3eea9c27ce0bb05": {
          "model_module": "@jupyter-widgets/controls",
          "model_name": "FloatProgressModel",
          "model_module_version": "1.5.0",
          "state": {
            "_dom_classes": [],
            "_model_module": "@jupyter-widgets/controls",
            "_model_module_version": "1.5.0",
            "_model_name": "FloatProgressModel",
            "_view_count": null,
            "_view_module": "@jupyter-widgets/controls",
            "_view_module_version": "1.5.0",
            "_view_name": "ProgressView",
            "bar_style": "success",
            "description": "",
            "description_tooltip": null,
            "layout": "IPY_MODEL_50360917efa741359c42ab624da0cfce",
            "max": 39,
            "min": 0,
            "orientation": "horizontal",
            "style": "IPY_MODEL_0c9a3d33f9fc4754b0318f15198c2631",
            "value": 39
          }
        },
        "89f0bf1191074a51a31d2c6d0e70f580": {
          "model_module": "@jupyter-widgets/controls",
          "model_name": "HTMLModel",
          "model_module_version": "1.5.0",
          "state": {
            "_dom_classes": [],
            "_model_module": "@jupyter-widgets/controls",
            "_model_module_version": "1.5.0",
            "_model_name": "HTMLModel",
            "_view_count": null,
            "_view_module": "@jupyter-widgets/controls",
            "_view_module_version": "1.5.0",
            "_view_name": "HTMLView",
            "description": "",
            "description_tooltip": null,
            "layout": "IPY_MODEL_a9ddf622d23844b5acc0e2eeac297780",
            "placeholder": "​",
            "style": "IPY_MODEL_a60d3353c90f494eaf9d6498a9845c42",
            "value": " 39.0/39.0 [00:00&lt;00:00, 1.54kB/s]"
          }
        },
        "ff635c1da0b84d33a6bfd292fbff6d31": {
          "model_module": "@jupyter-widgets/base",
          "model_name": "LayoutModel",
          "model_module_version": "1.2.0",
          "state": {
            "_model_module": "@jupyter-widgets/base",
            "_model_module_version": "1.2.0",
            "_model_name": "LayoutModel",
            "_view_count": null,
            "_view_module": "@jupyter-widgets/base",
            "_view_module_version": "1.2.0",
            "_view_name": "LayoutView",
            "align_content": null,
            "align_items": null,
            "align_self": null,
            "border": null,
            "bottom": null,
            "display": null,
            "flex": null,
            "flex_flow": null,
            "grid_area": null,
            "grid_auto_columns": null,
            "grid_auto_flow": null,
            "grid_auto_rows": null,
            "grid_column": null,
            "grid_gap": null,
            "grid_row": null,
            "grid_template_areas": null,
            "grid_template_columns": null,
            "grid_template_rows": null,
            "height": null,
            "justify_content": null,
            "justify_items": null,
            "left": null,
            "margin": null,
            "max_height": null,
            "max_width": null,
            "min_height": null,
            "min_width": null,
            "object_fit": null,
            "object_position": null,
            "order": null,
            "overflow": null,
            "overflow_x": null,
            "overflow_y": null,
            "padding": null,
            "right": null,
            "top": null,
            "visibility": null,
            "width": null
          }
        },
        "cbfcd8b9dfab4e64889903ac7700f624": {
          "model_module": "@jupyter-widgets/base",
          "model_name": "LayoutModel",
          "model_module_version": "1.2.0",
          "state": {
            "_model_module": "@jupyter-widgets/base",
            "_model_module_version": "1.2.0",
            "_model_name": "LayoutModel",
            "_view_count": null,
            "_view_module": "@jupyter-widgets/base",
            "_view_module_version": "1.2.0",
            "_view_name": "LayoutView",
            "align_content": null,
            "align_items": null,
            "align_self": null,
            "border": null,
            "bottom": null,
            "display": null,
            "flex": null,
            "flex_flow": null,
            "grid_area": null,
            "grid_auto_columns": null,
            "grid_auto_flow": null,
            "grid_auto_rows": null,
            "grid_column": null,
            "grid_gap": null,
            "grid_row": null,
            "grid_template_areas": null,
            "grid_template_columns": null,
            "grid_template_rows": null,
            "height": null,
            "justify_content": null,
            "justify_items": null,
            "left": null,
            "margin": null,
            "max_height": null,
            "max_width": null,
            "min_height": null,
            "min_width": null,
            "object_fit": null,
            "object_position": null,
            "order": null,
            "overflow": null,
            "overflow_x": null,
            "overflow_y": null,
            "padding": null,
            "right": null,
            "top": null,
            "visibility": null,
            "width": null
          }
        },
        "34d5b6f5886341c0b4b461336f82ab51": {
          "model_module": "@jupyter-widgets/controls",
          "model_name": "DescriptionStyleModel",
          "model_module_version": "1.5.0",
          "state": {
            "_model_module": "@jupyter-widgets/controls",
            "_model_module_version": "1.5.0",
            "_model_name": "DescriptionStyleModel",
            "_view_count": null,
            "_view_module": "@jupyter-widgets/base",
            "_view_module_version": "1.2.0",
            "_view_name": "StyleView",
            "description_width": ""
          }
        },
        "50360917efa741359c42ab624da0cfce": {
          "model_module": "@jupyter-widgets/base",
          "model_name": "LayoutModel",
          "model_module_version": "1.2.0",
          "state": {
            "_model_module": "@jupyter-widgets/base",
            "_model_module_version": "1.2.0",
            "_model_name": "LayoutModel",
            "_view_count": null,
            "_view_module": "@jupyter-widgets/base",
            "_view_module_version": "1.2.0",
            "_view_name": "LayoutView",
            "align_content": null,
            "align_items": null,
            "align_self": null,
            "border": null,
            "bottom": null,
            "display": null,
            "flex": null,
            "flex_flow": null,
            "grid_area": null,
            "grid_auto_columns": null,
            "grid_auto_flow": null,
            "grid_auto_rows": null,
            "grid_column": null,
            "grid_gap": null,
            "grid_row": null,
            "grid_template_areas": null,
            "grid_template_columns": null,
            "grid_template_rows": null,
            "height": null,
            "justify_content": null,
            "justify_items": null,
            "left": null,
            "margin": null,
            "max_height": null,
            "max_width": null,
            "min_height": null,
            "min_width": null,
            "object_fit": null,
            "object_position": null,
            "order": null,
            "overflow": null,
            "overflow_x": null,
            "overflow_y": null,
            "padding": null,
            "right": null,
            "top": null,
            "visibility": null,
            "width": null
          }
        },
        "0c9a3d33f9fc4754b0318f15198c2631": {
          "model_module": "@jupyter-widgets/controls",
          "model_name": "ProgressStyleModel",
          "model_module_version": "1.5.0",
          "state": {
            "_model_module": "@jupyter-widgets/controls",
            "_model_module_version": "1.5.0",
            "_model_name": "ProgressStyleModel",
            "_view_count": null,
            "_view_module": "@jupyter-widgets/base",
            "_view_module_version": "1.2.0",
            "_view_name": "StyleView",
            "bar_color": null,
            "description_width": ""
          }
        },
        "a9ddf622d23844b5acc0e2eeac297780": {
          "model_module": "@jupyter-widgets/base",
          "model_name": "LayoutModel",
          "model_module_version": "1.2.0",
          "state": {
            "_model_module": "@jupyter-widgets/base",
            "_model_module_version": "1.2.0",
            "_model_name": "LayoutModel",
            "_view_count": null,
            "_view_module": "@jupyter-widgets/base",
            "_view_module_version": "1.2.0",
            "_view_name": "LayoutView",
            "align_content": null,
            "align_items": null,
            "align_self": null,
            "border": null,
            "bottom": null,
            "display": null,
            "flex": null,
            "flex_flow": null,
            "grid_area": null,
            "grid_auto_columns": null,
            "grid_auto_flow": null,
            "grid_auto_rows": null,
            "grid_column": null,
            "grid_gap": null,
            "grid_row": null,
            "grid_template_areas": null,
            "grid_template_columns": null,
            "grid_template_rows": null,
            "height": null,
            "justify_content": null,
            "justify_items": null,
            "left": null,
            "margin": null,
            "max_height": null,
            "max_width": null,
            "min_height": null,
            "min_width": null,
            "object_fit": null,
            "object_position": null,
            "order": null,
            "overflow": null,
            "overflow_x": null,
            "overflow_y": null,
            "padding": null,
            "right": null,
            "top": null,
            "visibility": null,
            "width": null
          }
        },
        "a60d3353c90f494eaf9d6498a9845c42": {
          "model_module": "@jupyter-widgets/controls",
          "model_name": "DescriptionStyleModel",
          "model_module_version": "1.5.0",
          "state": {
            "_model_module": "@jupyter-widgets/controls",
            "_model_module_version": "1.5.0",
            "_model_name": "DescriptionStyleModel",
            "_view_count": null,
            "_view_module": "@jupyter-widgets/base",
            "_view_module_version": "1.2.0",
            "_view_name": "StyleView",
            "description_width": ""
          }
        },
        "274aaaf504c44ad28a0589926d74d290": {
          "model_module": "@jupyter-widgets/controls",
          "model_name": "HBoxModel",
          "model_module_version": "1.5.0",
          "state": {
            "_dom_classes": [],
            "_model_module": "@jupyter-widgets/controls",
            "_model_module_version": "1.5.0",
            "_model_name": "HBoxModel",
            "_view_count": null,
            "_view_module": "@jupyter-widgets/controls",
            "_view_module_version": "1.5.0",
            "_view_name": "HBoxView",
            "box_style": "",
            "children": [
              "IPY_MODEL_9ffbde448c9e4228b7f5c7e7c4d53005",
              "IPY_MODEL_b3b6877dfc6b4c71b81e168f40ce3e66",
              "IPY_MODEL_1f67ca48146741cfa9cf775e6443f442"
            ],
            "layout": "IPY_MODEL_c10eb111a1884d93ad15dc4cd7e8e125"
          }
        },
        "9ffbde448c9e4228b7f5c7e7c4d53005": {
          "model_module": "@jupyter-widgets/controls",
          "model_name": "HTMLModel",
          "model_module_version": "1.5.0",
          "state": {
            "_dom_classes": [],
            "_model_module": "@jupyter-widgets/controls",
            "_model_module_version": "1.5.0",
            "_model_name": "HTMLModel",
            "_view_count": null,
            "_view_module": "@jupyter-widgets/controls",
            "_view_module_version": "1.5.0",
            "_view_name": "HTMLView",
            "description": "",
            "description_tooltip": null,
            "layout": "IPY_MODEL_7a4438ff677443bbb36a9a08e07a0372",
            "placeholder": "​",
            "style": "IPY_MODEL_ef25c73d2f1c483aafea14df102e492c",
            "value": "vocab.txt: 100%"
          }
        },
        "b3b6877dfc6b4c71b81e168f40ce3e66": {
          "model_module": "@jupyter-widgets/controls",
          "model_name": "FloatProgressModel",
          "model_module_version": "1.5.0",
          "state": {
            "_dom_classes": [],
            "_model_module": "@jupyter-widgets/controls",
            "_model_module_version": "1.5.0",
            "_model_name": "FloatProgressModel",
            "_view_count": null,
            "_view_module": "@jupyter-widgets/controls",
            "_view_module_version": "1.5.0",
            "_view_name": "ProgressView",
            "bar_style": "success",
            "description": "",
            "description_tooltip": null,
            "layout": "IPY_MODEL_351552e4959c41c59d32d6a85de1414a",
            "max": 871891,
            "min": 0,
            "orientation": "horizontal",
            "style": "IPY_MODEL_77d53c8012ac47138dc53645a74e6f84",
            "value": 871891
          }
        },
        "1f67ca48146741cfa9cf775e6443f442": {
          "model_module": "@jupyter-widgets/controls",
          "model_name": "HTMLModel",
          "model_module_version": "1.5.0",
          "state": {
            "_dom_classes": [],
            "_model_module": "@jupyter-widgets/controls",
            "_model_module_version": "1.5.0",
            "_model_name": "HTMLModel",
            "_view_count": null,
            "_view_module": "@jupyter-widgets/controls",
            "_view_module_version": "1.5.0",
            "_view_name": "HTMLView",
            "description": "",
            "description_tooltip": null,
            "layout": "IPY_MODEL_4bf221094fce4ed68c23b9cbf67305a0",
            "placeholder": "​",
            "style": "IPY_MODEL_d6b7a7706da34d83850fa8d72786e3bd",
            "value": " 872k/872k [00:00&lt;00:00, 9.73MB/s]"
          }
        },
        "c10eb111a1884d93ad15dc4cd7e8e125": {
          "model_module": "@jupyter-widgets/base",
          "model_name": "LayoutModel",
          "model_module_version": "1.2.0",
          "state": {
            "_model_module": "@jupyter-widgets/base",
            "_model_module_version": "1.2.0",
            "_model_name": "LayoutModel",
            "_view_count": null,
            "_view_module": "@jupyter-widgets/base",
            "_view_module_version": "1.2.0",
            "_view_name": "LayoutView",
            "align_content": null,
            "align_items": null,
            "align_self": null,
            "border": null,
            "bottom": null,
            "display": null,
            "flex": null,
            "flex_flow": null,
            "grid_area": null,
            "grid_auto_columns": null,
            "grid_auto_flow": null,
            "grid_auto_rows": null,
            "grid_column": null,
            "grid_gap": null,
            "grid_row": null,
            "grid_template_areas": null,
            "grid_template_columns": null,
            "grid_template_rows": null,
            "height": null,
            "justify_content": null,
            "justify_items": null,
            "left": null,
            "margin": null,
            "max_height": null,
            "max_width": null,
            "min_height": null,
            "min_width": null,
            "object_fit": null,
            "object_position": null,
            "order": null,
            "overflow": null,
            "overflow_x": null,
            "overflow_y": null,
            "padding": null,
            "right": null,
            "top": null,
            "visibility": null,
            "width": null
          }
        },
        "7a4438ff677443bbb36a9a08e07a0372": {
          "model_module": "@jupyter-widgets/base",
          "model_name": "LayoutModel",
          "model_module_version": "1.2.0",
          "state": {
            "_model_module": "@jupyter-widgets/base",
            "_model_module_version": "1.2.0",
            "_model_name": "LayoutModel",
            "_view_count": null,
            "_view_module": "@jupyter-widgets/base",
            "_view_module_version": "1.2.0",
            "_view_name": "LayoutView",
            "align_content": null,
            "align_items": null,
            "align_self": null,
            "border": null,
            "bottom": null,
            "display": null,
            "flex": null,
            "flex_flow": null,
            "grid_area": null,
            "grid_auto_columns": null,
            "grid_auto_flow": null,
            "grid_auto_rows": null,
            "grid_column": null,
            "grid_gap": null,
            "grid_row": null,
            "grid_template_areas": null,
            "grid_template_columns": null,
            "grid_template_rows": null,
            "height": null,
            "justify_content": null,
            "justify_items": null,
            "left": null,
            "margin": null,
            "max_height": null,
            "max_width": null,
            "min_height": null,
            "min_width": null,
            "object_fit": null,
            "object_position": null,
            "order": null,
            "overflow": null,
            "overflow_x": null,
            "overflow_y": null,
            "padding": null,
            "right": null,
            "top": null,
            "visibility": null,
            "width": null
          }
        },
        "ef25c73d2f1c483aafea14df102e492c": {
          "model_module": "@jupyter-widgets/controls",
          "model_name": "DescriptionStyleModel",
          "model_module_version": "1.5.0",
          "state": {
            "_model_module": "@jupyter-widgets/controls",
            "_model_module_version": "1.5.0",
            "_model_name": "DescriptionStyleModel",
            "_view_count": null,
            "_view_module": "@jupyter-widgets/base",
            "_view_module_version": "1.2.0",
            "_view_name": "StyleView",
            "description_width": ""
          }
        },
        "351552e4959c41c59d32d6a85de1414a": {
          "model_module": "@jupyter-widgets/base",
          "model_name": "LayoutModel",
          "model_module_version": "1.2.0",
          "state": {
            "_model_module": "@jupyter-widgets/base",
            "_model_module_version": "1.2.0",
            "_model_name": "LayoutModel",
            "_view_count": null,
            "_view_module": "@jupyter-widgets/base",
            "_view_module_version": "1.2.0",
            "_view_name": "LayoutView",
            "align_content": null,
            "align_items": null,
            "align_self": null,
            "border": null,
            "bottom": null,
            "display": null,
            "flex": null,
            "flex_flow": null,
            "grid_area": null,
            "grid_auto_columns": null,
            "grid_auto_flow": null,
            "grid_auto_rows": null,
            "grid_column": null,
            "grid_gap": null,
            "grid_row": null,
            "grid_template_areas": null,
            "grid_template_columns": null,
            "grid_template_rows": null,
            "height": null,
            "justify_content": null,
            "justify_items": null,
            "left": null,
            "margin": null,
            "max_height": null,
            "max_width": null,
            "min_height": null,
            "min_width": null,
            "object_fit": null,
            "object_position": null,
            "order": null,
            "overflow": null,
            "overflow_x": null,
            "overflow_y": null,
            "padding": null,
            "right": null,
            "top": null,
            "visibility": null,
            "width": null
          }
        },
        "77d53c8012ac47138dc53645a74e6f84": {
          "model_module": "@jupyter-widgets/controls",
          "model_name": "ProgressStyleModel",
          "model_module_version": "1.5.0",
          "state": {
            "_model_module": "@jupyter-widgets/controls",
            "_model_module_version": "1.5.0",
            "_model_name": "ProgressStyleModel",
            "_view_count": null,
            "_view_module": "@jupyter-widgets/base",
            "_view_module_version": "1.2.0",
            "_view_name": "StyleView",
            "bar_color": null,
            "description_width": ""
          }
        },
        "4bf221094fce4ed68c23b9cbf67305a0": {
          "model_module": "@jupyter-widgets/base",
          "model_name": "LayoutModel",
          "model_module_version": "1.2.0",
          "state": {
            "_model_module": "@jupyter-widgets/base",
            "_model_module_version": "1.2.0",
            "_model_name": "LayoutModel",
            "_view_count": null,
            "_view_module": "@jupyter-widgets/base",
            "_view_module_version": "1.2.0",
            "_view_name": "LayoutView",
            "align_content": null,
            "align_items": null,
            "align_self": null,
            "border": null,
            "bottom": null,
            "display": null,
            "flex": null,
            "flex_flow": null,
            "grid_area": null,
            "grid_auto_columns": null,
            "grid_auto_flow": null,
            "grid_auto_rows": null,
            "grid_column": null,
            "grid_gap": null,
            "grid_row": null,
            "grid_template_areas": null,
            "grid_template_columns": null,
            "grid_template_rows": null,
            "height": null,
            "justify_content": null,
            "justify_items": null,
            "left": null,
            "margin": null,
            "max_height": null,
            "max_width": null,
            "min_height": null,
            "min_width": null,
            "object_fit": null,
            "object_position": null,
            "order": null,
            "overflow": null,
            "overflow_x": null,
            "overflow_y": null,
            "padding": null,
            "right": null,
            "top": null,
            "visibility": null,
            "width": null
          }
        },
        "d6b7a7706da34d83850fa8d72786e3bd": {
          "model_module": "@jupyter-widgets/controls",
          "model_name": "DescriptionStyleModel",
          "model_module_version": "1.5.0",
          "state": {
            "_model_module": "@jupyter-widgets/controls",
            "_model_module_version": "1.5.0",
            "_model_name": "DescriptionStyleModel",
            "_view_count": null,
            "_view_module": "@jupyter-widgets/base",
            "_view_module_version": "1.2.0",
            "_view_name": "StyleView",
            "description_width": ""
          }
        },
        "09da48d696e247cebd4342ba269f8462": {
          "model_module": "@jupyter-widgets/controls",
          "model_name": "HBoxModel",
          "model_module_version": "1.5.0",
          "state": {
            "_dom_classes": [],
            "_model_module": "@jupyter-widgets/controls",
            "_model_module_version": "1.5.0",
            "_model_name": "HBoxModel",
            "_view_count": null,
            "_view_module": "@jupyter-widgets/controls",
            "_view_module_version": "1.5.0",
            "_view_name": "HBoxView",
            "box_style": "",
            "children": [
              "IPY_MODEL_0e4fa7fcc0814ce38acbe049137bdfc9",
              "IPY_MODEL_c0e8906d2bfa429384977c0485441431",
              "IPY_MODEL_a5e0fc8b86ab4696b42e14c97ed95a7f"
            ],
            "layout": "IPY_MODEL_d8d3d76a357e46669fd606d96af79d87"
          }
        },
        "0e4fa7fcc0814ce38acbe049137bdfc9": {
          "model_module": "@jupyter-widgets/controls",
          "model_name": "HTMLModel",
          "model_module_version": "1.5.0",
          "state": {
            "_dom_classes": [],
            "_model_module": "@jupyter-widgets/controls",
            "_model_module_version": "1.5.0",
            "_model_name": "HTMLModel",
            "_view_count": null,
            "_view_module": "@jupyter-widgets/controls",
            "_view_module_version": "1.5.0",
            "_view_name": "HTMLView",
            "description": "",
            "description_tooltip": null,
            "layout": "IPY_MODEL_1156443617f5428dadfc7c6fa77c8808",
            "placeholder": "​",
            "style": "IPY_MODEL_5c2dcfd2a705460b9b97f62d19c9263c",
            "value": "special_tokens_map.json: 100%"
          }
        },
        "c0e8906d2bfa429384977c0485441431": {
          "model_module": "@jupyter-widgets/controls",
          "model_name": "FloatProgressModel",
          "model_module_version": "1.5.0",
          "state": {
            "_dom_classes": [],
            "_model_module": "@jupyter-widgets/controls",
            "_model_module_version": "1.5.0",
            "_model_name": "FloatProgressModel",
            "_view_count": null,
            "_view_module": "@jupyter-widgets/controls",
            "_view_module_version": "1.5.0",
            "_view_name": "ProgressView",
            "bar_style": "success",
            "description": "",
            "description_tooltip": null,
            "layout": "IPY_MODEL_a65828fed69e48e6ae80663e854f3019",
            "max": 112,
            "min": 0,
            "orientation": "horizontal",
            "style": "IPY_MODEL_6ea9e42168224889b7df85e56c43e590",
            "value": 112
          }
        },
        "a5e0fc8b86ab4696b42e14c97ed95a7f": {
          "model_module": "@jupyter-widgets/controls",
          "model_name": "HTMLModel",
          "model_module_version": "1.5.0",
          "state": {
            "_dom_classes": [],
            "_model_module": "@jupyter-widgets/controls",
            "_model_module_version": "1.5.0",
            "_model_name": "HTMLModel",
            "_view_count": null,
            "_view_module": "@jupyter-widgets/controls",
            "_view_module_version": "1.5.0",
            "_view_name": "HTMLView",
            "description": "",
            "description_tooltip": null,
            "layout": "IPY_MODEL_725bbd4911784bd182e161abd61a996e",
            "placeholder": "​",
            "style": "IPY_MODEL_bae289d1df354caf9ba2b69ed2db92ff",
            "value": " 112/112 [00:00&lt;00:00, 5.39kB/s]"
          }
        },
        "d8d3d76a357e46669fd606d96af79d87": {
          "model_module": "@jupyter-widgets/base",
          "model_name": "LayoutModel",
          "model_module_version": "1.2.0",
          "state": {
            "_model_module": "@jupyter-widgets/base",
            "_model_module_version": "1.2.0",
            "_model_name": "LayoutModel",
            "_view_count": null,
            "_view_module": "@jupyter-widgets/base",
            "_view_module_version": "1.2.0",
            "_view_name": "LayoutView",
            "align_content": null,
            "align_items": null,
            "align_self": null,
            "border": null,
            "bottom": null,
            "display": null,
            "flex": null,
            "flex_flow": null,
            "grid_area": null,
            "grid_auto_columns": null,
            "grid_auto_flow": null,
            "grid_auto_rows": null,
            "grid_column": null,
            "grid_gap": null,
            "grid_row": null,
            "grid_template_areas": null,
            "grid_template_columns": null,
            "grid_template_rows": null,
            "height": null,
            "justify_content": null,
            "justify_items": null,
            "left": null,
            "margin": null,
            "max_height": null,
            "max_width": null,
            "min_height": null,
            "min_width": null,
            "object_fit": null,
            "object_position": null,
            "order": null,
            "overflow": null,
            "overflow_x": null,
            "overflow_y": null,
            "padding": null,
            "right": null,
            "top": null,
            "visibility": null,
            "width": null
          }
        },
        "1156443617f5428dadfc7c6fa77c8808": {
          "model_module": "@jupyter-widgets/base",
          "model_name": "LayoutModel",
          "model_module_version": "1.2.0",
          "state": {
            "_model_module": "@jupyter-widgets/base",
            "_model_module_version": "1.2.0",
            "_model_name": "LayoutModel",
            "_view_count": null,
            "_view_module": "@jupyter-widgets/base",
            "_view_module_version": "1.2.0",
            "_view_name": "LayoutView",
            "align_content": null,
            "align_items": null,
            "align_self": null,
            "border": null,
            "bottom": null,
            "display": null,
            "flex": null,
            "flex_flow": null,
            "grid_area": null,
            "grid_auto_columns": null,
            "grid_auto_flow": null,
            "grid_auto_rows": null,
            "grid_column": null,
            "grid_gap": null,
            "grid_row": null,
            "grid_template_areas": null,
            "grid_template_columns": null,
            "grid_template_rows": null,
            "height": null,
            "justify_content": null,
            "justify_items": null,
            "left": null,
            "margin": null,
            "max_height": null,
            "max_width": null,
            "min_height": null,
            "min_width": null,
            "object_fit": null,
            "object_position": null,
            "order": null,
            "overflow": null,
            "overflow_x": null,
            "overflow_y": null,
            "padding": null,
            "right": null,
            "top": null,
            "visibility": null,
            "width": null
          }
        },
        "5c2dcfd2a705460b9b97f62d19c9263c": {
          "model_module": "@jupyter-widgets/controls",
          "model_name": "DescriptionStyleModel",
          "model_module_version": "1.5.0",
          "state": {
            "_model_module": "@jupyter-widgets/controls",
            "_model_module_version": "1.5.0",
            "_model_name": "DescriptionStyleModel",
            "_view_count": null,
            "_view_module": "@jupyter-widgets/base",
            "_view_module_version": "1.2.0",
            "_view_name": "StyleView",
            "description_width": ""
          }
        },
        "a65828fed69e48e6ae80663e854f3019": {
          "model_module": "@jupyter-widgets/base",
          "model_name": "LayoutModel",
          "model_module_version": "1.2.0",
          "state": {
            "_model_module": "@jupyter-widgets/base",
            "_model_module_version": "1.2.0",
            "_model_name": "LayoutModel",
            "_view_count": null,
            "_view_module": "@jupyter-widgets/base",
            "_view_module_version": "1.2.0",
            "_view_name": "LayoutView",
            "align_content": null,
            "align_items": null,
            "align_self": null,
            "border": null,
            "bottom": null,
            "display": null,
            "flex": null,
            "flex_flow": null,
            "grid_area": null,
            "grid_auto_columns": null,
            "grid_auto_flow": null,
            "grid_auto_rows": null,
            "grid_column": null,
            "grid_gap": null,
            "grid_row": null,
            "grid_template_areas": null,
            "grid_template_columns": null,
            "grid_template_rows": null,
            "height": null,
            "justify_content": null,
            "justify_items": null,
            "left": null,
            "margin": null,
            "max_height": null,
            "max_width": null,
            "min_height": null,
            "min_width": null,
            "object_fit": null,
            "object_position": null,
            "order": null,
            "overflow": null,
            "overflow_x": null,
            "overflow_y": null,
            "padding": null,
            "right": null,
            "top": null,
            "visibility": null,
            "width": null
          }
        },
        "6ea9e42168224889b7df85e56c43e590": {
          "model_module": "@jupyter-widgets/controls",
          "model_name": "ProgressStyleModel",
          "model_module_version": "1.5.0",
          "state": {
            "_model_module": "@jupyter-widgets/controls",
            "_model_module_version": "1.5.0",
            "_model_name": "ProgressStyleModel",
            "_view_count": null,
            "_view_module": "@jupyter-widgets/base",
            "_view_module_version": "1.2.0",
            "_view_name": "StyleView",
            "bar_color": null,
            "description_width": ""
          }
        },
        "725bbd4911784bd182e161abd61a996e": {
          "model_module": "@jupyter-widgets/base",
          "model_name": "LayoutModel",
          "model_module_version": "1.2.0",
          "state": {
            "_model_module": "@jupyter-widgets/base",
            "_model_module_version": "1.2.0",
            "_model_name": "LayoutModel",
            "_view_count": null,
            "_view_module": "@jupyter-widgets/base",
            "_view_module_version": "1.2.0",
            "_view_name": "LayoutView",
            "align_content": null,
            "align_items": null,
            "align_self": null,
            "border": null,
            "bottom": null,
            "display": null,
            "flex": null,
            "flex_flow": null,
            "grid_area": null,
            "grid_auto_columns": null,
            "grid_auto_flow": null,
            "grid_auto_rows": null,
            "grid_column": null,
            "grid_gap": null,
            "grid_row": null,
            "grid_template_areas": null,
            "grid_template_columns": null,
            "grid_template_rows": null,
            "height": null,
            "justify_content": null,
            "justify_items": null,
            "left": null,
            "margin": null,
            "max_height": null,
            "max_width": null,
            "min_height": null,
            "min_width": null,
            "object_fit": null,
            "object_position": null,
            "order": null,
            "overflow": null,
            "overflow_x": null,
            "overflow_y": null,
            "padding": null,
            "right": null,
            "top": null,
            "visibility": null,
            "width": null
          }
        },
        "bae289d1df354caf9ba2b69ed2db92ff": {
          "model_module": "@jupyter-widgets/controls",
          "model_name": "DescriptionStyleModel",
          "model_module_version": "1.5.0",
          "state": {
            "_model_module": "@jupyter-widgets/controls",
            "_model_module_version": "1.5.0",
            "_model_name": "DescriptionStyleModel",
            "_view_count": null,
            "_view_module": "@jupyter-widgets/base",
            "_view_module_version": "1.2.0",
            "_view_name": "StyleView",
            "description_width": ""
          }
        }
      }
    }
  },
  "nbformat": 4,
  "nbformat_minor": 0
}